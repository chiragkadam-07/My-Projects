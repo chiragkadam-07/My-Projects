{
 "cells": [
  {
   "cell_type": "markdown",
   "id": "74c62f7d-f171-4cf7-a37d-d7c9fbdb3214",
   "metadata": {},
   "source": [
    "# Hypothesis Testing in Python\n",
    "This project explores the application of statistical hypothesis testing techniques using Python in a Jupyter Notebook environment. The goal is to analyze data and draw meaningful inferences through statistical methods.\n",
    "\n",
    "**The project covers:**\n",
    "\n",
    "- Z-tests: For comparing sample and population means under known variance.\n",
    "- T-tests: For small sample sizes or unknown population variance.\n",
    "- Chi-square tests: For categorical data analysis and independence testing.\n",
    "- ANOVA tests: For comparing means across multiple groups.\n",
    "- Confidence Intervals and Margin of Error: For estimating the precision and reliability of sample statistics."
   ]
  },
  {
   "cell_type": "code",
   "execution_count": 1,
   "id": "e99f46f5-109d-4dd9-99aa-1afb135db075",
   "metadata": {},
   "outputs": [],
   "source": [
    "# Import libraries\n",
    "import pandas as pd\n",
    "import numpy as np\n",
    "from statsmodels.stats.weightstats import ztest as ztest\n",
    "import math as math\n",
    "import scipy.stats as stats\n",
    "from scipy.stats import f"
   ]
  },
  {
   "cell_type": "markdown",
   "id": "d5f6b243-0236-40ad-bdc2-aff3eeea5110",
   "metadata": {},
   "source": [
    "## Z-Test"
   ]
  },
  {
   "cell_type": "markdown",
   "id": "0118760c-77b7-4236-9068-15216957f688",
   "metadata": {},
   "source": [
    "### Question 1:\n",
    "The average heights of all residents in a city is 168cm with a population std sigma = 3.9.\n",
    "A doctor believes the mean to be different. He measured the hegiht of 36 individuals and found the average height to be 169.5 cm.  \n",
    "a) State Null and Alternate Hypothesis.  \n",
    "b) At a 95% C.I, is there enough evidence to reject the Null Hypothesis."
   ]
  },
  {
   "cell_type": "code",
   "execution_count": 2,
   "id": "474404ca-bd04-4ca5-9276-9e5cf0dd50e3",
   "metadata": {},
   "outputs": [
    {
     "name": "stdout",
     "output_type": "stream",
     "text": [
      "-z critical: -1.96\n",
      "z critical: 1.96\n",
      "z test: 2.31\n",
      "Reject the Null Hypothesis\n"
     ]
    }
   ],
   "source": [
    "# Tow-tailed z-test\n",
    "\n",
    "# given data\n",
    "mu = 168\n",
    "sigma = 3.9\n",
    "n = 36\n",
    "x_bar = 169.5\n",
    "alpha = 0.05\n",
    "\n",
    "z_test = np.round((x_bar - mu) / (sigma / math.sqrt(n)), 2)  # formula for Z-test statistic\n",
    "\n",
    "z_critical = np.round(stats.norm.ppf(alpha / 2), 2)          # formula for z table critical value\n",
    "\n",
    "# print results\n",
    "print(f\"-z critical: {z_critical}\")\n",
    "print(f\"z critical: {-z_critical}\")\n",
    "print(f\"z test: {z_test}\")\n",
    "\n",
    "if (z_test < -z_critical) & (z_test > z_critical):\n",
    "    print(\"Fail to reject the Null Hypothesis\")\n",
    "else:\n",
    "    print(\"Reject the Null Hypothesis\")"
   ]
  },
  {
   "cell_type": "markdown",
   "id": "2c4a5de9-d68a-407d-80a8-d905f611eee6",
   "metadata": {},
   "source": [
    "### Conclusion\n",
    "Null Hypothesis H0 mu = 168 cm  \n",
    "Alternative Hypothesis H1 mu != 168 cm\n",
    "\n",
    "Since the calculated z-test value (2.31) is greater than the critical z-values of -1.96 and 1.96, we reject the null hypothesis at the 95% confidence level. There is sufficient evidence to conclude that the mean height of the population is different from 168 cm."
   ]
  },
  {
   "cell_type": "code",
   "execution_count": null,
   "id": "2e401d3c-f2c1-4fc5-9cec-cce3057c2e30",
   "metadata": {},
   "outputs": [],
   "source": []
  },
  {
   "cell_type": "markdown",
   "id": "40f9b220-9709-4371-a088-72aa0f35928f",
   "metadata": {},
   "source": [
    "### Question 2:\n",
    "A factory manufactures bulbs with an average warranty of 5 years with a standard deviation of 0.50. A worker believes the light bulb will malfunction in less than 5 years. He tests a sample of 40 bulbs and finds the average time to be 4.8 years.  \n",
    "a) State null and alternate hypothesis.  \n",
    "b) At a 2% significance level, is there enough evidence to support the idea that the warranty should be revised?"
   ]
  },
  {
   "cell_type": "code",
   "execution_count": 3,
   "id": "8c23c802-b03d-4f3e-a5ea-b5bf98ad1cfb",
   "metadata": {},
   "outputs": [
    {
     "name": "stdout",
     "output_type": "stream",
     "text": [
      "z critical: -2.05\n",
      "z test: -2.53\n",
      "reject the null hypothesis\n"
     ]
    }
   ],
   "source": [
    "# left-tailed z-test\n",
    "\n",
    "# Given data\n",
    "mu = 5          # Population mean\n",
    "sigma = 0.5     # Population standard deviation\n",
    "x_bar = 4.8     # Sample mean\n",
    "n = 40          # Sample size\n",
    "alpha = 0.02    # Significance level\n",
    "\n",
    "z_critical = np.round(stats.norm.ppf(alpha), 2)  # find critical value for left tail\n",
    "\n",
    "z_test = np.round((x_bar - mu) / (sigma / math.sqrt(n)), 2)  # formula for Z-test statistic\n",
    "\n",
    "# print results\n",
    "print(f\"z critical: {z_critical}\")\n",
    "print(f\"z test: {z_test}\")\n",
    "\n",
    "if z_test < z_critical:\n",
    "    print(\"reject the null hypothesis\")\n",
    "else:\n",
    "    print(\"fail to reject the null hypothesis\")"
   ]
  },
  {
   "cell_type": "markdown",
   "id": "dec1421f-5d0c-428d-91b9-90c4bace0fb4",
   "metadata": {},
   "source": [
    "### Conclusion\n",
    "Hypotheses:\n",
    "- Null Hypothesis (H₀): The average warranty time of the bulbs is 5 years.  \n",
    "H0: μ = 5  \n",
    "\n",
    "- Alternative Hypothesis (H₁): The average warranty time of the bulbs is less than 5 years.  \n",
    "H1 : μ < 5  \n",
    "\n",
    "Decision:\n",
    "- The calculated z-test value of -2.53 is less than the critical z-value of -2.05.\n",
    "- Since -2.53 falls in the rejection region (i.e., less than -2.05), we reject the null hypothesis.\n",
    "\n",
    "At the 2% significance level, there is enough evidence to support the worker's belief that the bulbs malfunction in less than 5 years. Therefore, the warranty may need to be revised."
   ]
  },
  {
   "cell_type": "code",
   "execution_count": null,
   "id": "a7846b0a-f1a7-44c3-af9c-ef7acd7d6eb2",
   "metadata": {},
   "outputs": [],
   "source": []
  },
  {
   "cell_type": "markdown",
   "id": "7ab903b9-eddb-4e6e-9895-a54ee73b1c48",
   "metadata": {},
   "source": [
    "## T-Test"
   ]
  },
  {
   "cell_type": "markdown",
   "id": "c366b600-441e-4857-92c4-ac89d92617d7",
   "metadata": {},
   "source": [
    "### Question\n",
    "In the population, the average IQ is 100. A team of researchers wants to test a new medication to see if it has either a positive or negative effect on intelligence or no effect at all. A sample of 30 participants who have taken the medication has a mean of 140 with a standard deviation of 20. Did the medication affect intelligence? At 95% C.I."
   ]
  },
  {
   "cell_type": "code",
   "execution_count": 4,
   "id": "9407e20f-fc75-482a-93dc-cd1af16f7835",
   "metadata": {},
   "outputs": [
    {
     "name": "stdout",
     "output_type": "stream",
     "text": [
      "-z critical: -2.05\n",
      "z critical: 2.05\n",
      "t-test: 10.95\n",
      "Reject the Null Hypothesis\n"
     ]
    }
   ],
   "source": [
    "# Two-tailed t-test\n",
    "\n",
    "# Given data\n",
    "mu = 100\n",
    "s = 20\n",
    "n = 30\n",
    "x_bar = 140\n",
    "alpha = 0.05\n",
    "df = n-1\n",
    "\n",
    "t_criticl = np.round(stats.t.ppf(alpha / 2, df), 3)            # formula for t critical\n",
    "\n",
    "t_test = np.round((x_bar - mu) / (s / np.sqrt(n)), 2)          # t-test formula\n",
    "\n",
    "# print results\n",
    "print(f\"-z critical: {z_critical}\")\n",
    "print(f\"z critical: {-z_critical}\")\n",
    "print(f\"t-test: {t_test}\")\n",
    "\n",
    "if (t_test > -t_criticl) | (t_test < t_criticl):\n",
    "    print(\"Reject the Null Hypothesis\")\n",
    "else:\n",
    "    print(\"Fail to reject the Null Hypothesis\")"
   ]
  },
  {
   "cell_type": "markdown",
   "id": "da00f15a-78d8-4ab9-bb71-68035c83d499",
   "metadata": {},
   "source": [
    "### Conclusion\n",
    "Based on the results of the hypothesis test, the medication appears to have a significant effect on intelligence. The calculated t-statistic of 10.95 exceeds the critical value of ±2.05, leading to the rejection of the null hypothesis. This suggests that the medication has a statistically significant impact on IQ, with the sample showing a mean IQ of 140, which is notably higher than the population average of 100. Therefore, we conclude that the medication likely has a positive effect on intelligence."
   ]
  },
  {
   "cell_type": "code",
   "execution_count": null,
   "id": "c245fe56-93b0-41bc-9b6b-6267cfee2830",
   "metadata": {},
   "outputs": [],
   "source": []
  },
  {
   "cell_type": "markdown",
   "id": "e76d45d7-8a69-430e-aa8b-217f12b843d3",
   "metadata": {},
   "source": [
    "## Confidence Interval and Margin of Error"
   ]
  },
  {
   "cell_type": "markdown",
   "id": "bc4679e7-87cb-4054-8c65-c0fda09a1392",
   "metadata": {},
   "source": [
    "### Question\n",
    "On the verbal section of CAT exam, the standard deviation is known to be 100. A sample of 25 test takers has a mean of 520. Construct the 95% confidence interval around the mean?"
   ]
  },
  {
   "cell_type": "code",
   "execution_count": 5,
   "id": "c900a895-8c09-4612-89d9-3e7f05eb9830",
   "metadata": {},
   "outputs": [
    {
     "name": "stdout",
     "output_type": "stream",
     "text": [
      "Standard Error: 20.0\n",
      "Margin of Error: 39.2\n",
      "Lower-bound CI: 480.8\n",
      "Upper-bound CI: 559.2\n"
     ]
    }
   ],
   "source": [
    "# Given data\n",
    "mu = 5          # Population mean\n",
    "sigma = 100     # Population standard deviation\n",
    "x_bar = 520     # Sample mean\n",
    "n = 25          # Sample size\n",
    "alpha = 0.05    # Significance level\n",
    "ci = 0.95       # Confidence interval\n",
    "\n",
    "z_critical = np.round(stats.norm.ppf(1 - alpha / 2), 2)                    # z critical formula\n",
    "\n",
    "se = sigma / np.sqrt(n)                                                    # Standard error (se) formula\n",
    "\n",
    "MoE = z_critical * se                                                      # Margin of error (MoE) formula\n",
    "\n",
    "lower_ci = np.round(x_bar - z_critical * sigma / math.sqrt(n), 2)          # Lower-bound CI formula\n",
    "upper_ci = np.round(x_bar + z_critical * sigma / math.sqrt(n), 2)          # Upper-bound CI formula\n",
    "\n",
    "# print results\n",
    "print(f\"Standard Error: {se}\")\n",
    "print(f\"Margin of Error: {MoE}\")\n",
    "print(F\"Lower-bound CI: {lower_ci}\")\n",
    "print(F\"Upper-bound CI: {upper_ci}\")"
   ]
  },
  {
   "cell_type": "markdown",
   "id": "5f0aa57d-4403-4eae-868f-8646ffc9898f",
   "metadata": {},
   "source": [
    "### Answer\n",
    "I am 95% confident that the true mean CAT score of the population lies between 480.8 and 559.2."
   ]
  },
  {
   "cell_type": "code",
   "execution_count": null,
   "id": "d076a850-b7ca-423a-b9cf-94dddabeb381",
   "metadata": {},
   "outputs": [],
   "source": []
  },
  {
   "cell_type": "markdown",
   "id": "9572cabb-6db3-4958-8b0b-5a7c5a533b6a",
   "metadata": {},
   "source": [
    "## Chi-Square Test"
   ]
  },
  {
   "cell_type": "markdown",
   "id": "e8b77bf6-ab23-44e8-994a-5a850d086f6e",
   "metadata": {},
   "source": [
    "### Question\n",
    "In the 2010 census of the city, the weight of the individuals in a small city was found to be the following:  \n",
    "<50=100, 50-75=150, >75=250  \n",
    "\n",
    "In 2020, ages of 500 individuals were sampled. Below are the results:  \n",
    "<50=140, 50-75=160, >75=200  \n",
    "\n",
    "Using a significance level of 0.05, would you conclude the population difference of weights has changed in the last 10 years? "
   ]
  },
  {
   "cell_type": "code",
   "execution_count": 6,
   "id": "767aafb9-2d34-431b-b59f-7be635243181",
   "metadata": {},
   "outputs": [
    {
     "name": "stdout",
     "output_type": "stream",
     "text": [
      "chi critical: 5.991\n",
      "chi-square: 26.67\n",
      "Reject the Null Hypothesis\n"
     ]
    }
   ],
   "source": [
    "exp_freq = pd.DataFrame({'<50': [100],\n",
    "                        '50-75': [150],\n",
    "                        '>75': [250]})\n",
    "\n",
    "obs_freq = pd.DataFrame({'<50': [140],\n",
    "                        '50-75': [160],\n",
    "                        '>75': [200]})\n",
    "\n",
    "alpha = 0.05\n",
    "df = exp_freq.shape[1] - 1\n",
    "\n",
    "chi_critical = np.round(stats.chi2.ppf(1 - alpha, df), 3)\n",
    "\n",
    "chi_square_test = round((((obs_freq - exp_freq).values**2) / exp_freq).values.sum(), 2)\n",
    "\n",
    "print(f\"chi critical: {chi_critical}\")\n",
    "print(f\"chi-square: {chi_square_test}\")\n",
    "\n",
    "if chi_square_test > chi_critical:\n",
    "    print(\"Reject the Null Hypothesis\")\n",
    "else:\n",
    "    print(\"Fail to reject the Null Hypothesis\")"
   ]
  },
  {
   "cell_type": "markdown",
   "id": "aeb3faee-3159-4abe-adc9-f0cb69326f20",
   "metadata": {},
   "source": [
    "### Conclusion\n",
    "Hypotheses:\n",
    "- The null hypothesis (H₀) states that there is no significant difference in the weight distribution between 2010 and 2020.\n",
    "- The alternative hypothesis (H₁) suggests that there is a significant difference in the weight distribution between the two years.\n",
    "The chi-square statistic calculated is 26.67, which is greater than the critical value of 5.991.\n",
    "\n",
    "Decision Rule: If the chi-square statistic is greater than the critical value (5.991), we reject the null hypothesis.\n",
    "\n",
    "Since 26.67 > 5.991, we reject the null hypothesis at the 0.05 significance level.\n",
    "\n",
    "There is sufficient evidence to conclude that the population's weight distribution has significantly changed in the last 10 years (from 2010 to 2020)."
   ]
  },
  {
   "cell_type": "code",
   "execution_count": null,
   "id": "7e4861b9-dc9a-4f50-bd10-78150654057d",
   "metadata": {},
   "outputs": [],
   "source": []
  },
  {
   "cell_type": "markdown",
   "id": "963d1ef1-a35c-4129-a55f-cd1fdcc546a8",
   "metadata": {},
   "source": [
    "## Anova Test"
   ]
  },
  {
   "cell_type": "markdown",
   "id": "00573a32-e2cf-46e6-ad20-0c68227fe2c7",
   "metadata": {},
   "source": [
    "### Question 1:\n",
    "Doctors want to test a new medication which reduces headache. They splits the participant into 3 condition [15mg, 30mg, 45mg]. Later on the doctor ask the patient to rate the headache between [1-10]. Are there any differences between the 3 conditions using alpha=0.05 ?"
   ]
  },
  {
   "cell_type": "code",
   "execution_count": 7,
   "id": "b8d3e5e0-8aff-4a01-a6c2-9713b9ef9074",
   "metadata": {},
   "outputs": [
    {
     "name": "stdout",
     "output_type": "stream",
     "text": [
      "f_critical: 3.5546\n",
      "f: 86.56\n",
      "Reject Null Hypothesis. Yes, there is a difference, and I am 95% confident.\n"
     ]
    }
   ],
   "source": [
    "# Data\n",
    "df = pd.DataFrame({'15mg': [9, 8, 7, 8, 8, 9, 8],\n",
    "                   '30mg': [7, 6, 6, 7, 8, 7, 6],\n",
    "                   '45mg': [4, 3, 2, 3, 4, 3, 2]})\n",
    "\n",
    "# Parameters\n",
    "alpha = 0.05\n",
    "a = 3\n",
    "n = 7\n",
    "N = a * n\n",
    "dfbet = a - 1\n",
    "dfwit = N - a\n",
    "\n",
    "# Sum of Squares\n",
    "ssbet = round((df.sum()**2).sum() / n - df.values.sum()**2 / N, 2)\n",
    "sswit = round((df**2).sum().sum() - (df.sum()**2).sum() / n, 2)\n",
    "\n",
    "# Mean Squares\n",
    "msbet = round(ssbet / dfbet, 2)\n",
    "mswit = round(sswit / dfwit, 2)\n",
    "\n",
    "# F-statistic\n",
    "f_stat = round(msbet / mswit, 2)\n",
    "\n",
    "# F-critical value\n",
    "f_critical = round(f.ppf(1 - alpha, dfbet, dfwit), 4)\n",
    "\n",
    "# Decision\n",
    "print(f\"f_critical: {f_critical}\")\n",
    "print(f\"f: {f_stat}\")\n",
    "if f_stat < f_critical:\n",
    "    print(\"Accept the Null Hypothesis\")\n",
    "else:\n",
    "    print(\"Reject Null Hypothesis. Yes, there is a difference, and I am 95% confident.\")"
   ]
  },
  {
   "cell_type": "markdown",
   "id": "25992b93-3fd7-469c-938a-95187ec9bb18",
   "metadata": {},
   "source": [
    "### Conclusion\n",
    "\n",
    "Based on the ANOVA results, the F-statistic **(f = 86.56)** is much greater than the critical value **(fcritical = 3.5546)**\n",
    "at **𝛼 = 0.05**.\n",
    "Therefore, we reject the null hypothesis and conclude that there is a statistically significant difference in headache ratings between the three dosage groups (15mg, 30mg, 45mg)."
   ]
  },
  {
   "cell_type": "code",
   "execution_count": null,
   "id": "c1090d0e-def4-4a57-9419-438b55521f70",
   "metadata": {},
   "outputs": [],
   "source": []
  },
  {
   "cell_type": "markdown",
   "id": "64a138df-f1b9-4f33-a005-6d17ed162e7d",
   "metadata": {},
   "source": [
    "### Question 2:\n",
    "A nutritionist wants to test the effects of three different diet plans on weight loss. The participants are split into three groups, each following a specific diet plan: Diet A, Diet B, and Diet C. After 4 weeks, the nutritionist records the weight loss (in kg) for each participant:\n",
    "\n",
    "- **Diet A**: [4, 5, 3, 6, 5, 4, 5]\n",
    "- **Diet B**: [7, 6, 5, 6, 7, 8, 6]\n",
    "- **Diet C**: [10, 11, 9, 10, 10, 11, 12]\n",
    "Using an alpha level of 0.05, determine if there is a significant difference in the mean weight loss among the three diet plans."
   ]
  },
  {
   "cell_type": "code",
   "execution_count": 8,
   "id": "d9176815-0efb-466c-a8d2-afdc992a44c8",
   "metadata": {},
   "outputs": [
    {
     "name": "stdout",
     "output_type": "stream",
     "text": [
      "f_critical: 3.5546\n",
      "f: 66.02\n",
      "Reject Null Hypothesis. Yes, there is a difference, and I am 95% confident.\n"
     ]
    }
   ],
   "source": [
    "# Data\n",
    "df = pd.DataFrame({'Diet A': [4, 5, 3, 6, 5, 4, 5],\n",
    "                   'Diet B': [7, 6, 5, 6, 7, 8, 6],\n",
    "                   'Diet C': [10, 11, 9, 10, 10, 11, 12]})\n",
    "\n",
    "# Parameters\n",
    "alpha = 0.05\n",
    "a = 3\n",
    "n = 7\n",
    "N = a * n\n",
    "dfbet = a - 1\n",
    "dfwit = N - a\n",
    "\n",
    "# Sum of Squares\n",
    "ssbet = round((df.sum()**2).sum() / n - df.values.sum()**2 / N, 2)\n",
    "sswit = round((df**2).sum().sum() - (df.sum()**2).sum() / n, 2)\n",
    "\n",
    "# Mean Squares\n",
    "msbet = round(ssbet / dfbet, 2)\n",
    "mswit = round(sswit / dfwit, 2)\n",
    "\n",
    "# F-statistic\n",
    "f_stat = round(msbet / mswit, 2)\n",
    "\n",
    "# F-critical value\n",
    "f_critical = round(f.ppf(1 - alpha, dfbet, dfwit), 4)\n",
    "\n",
    "# Decision\n",
    "print(f\"f_critical: {f_critical}\")\n",
    "print(f\"f: {f_stat}\")\n",
    "if f_stat < f_critical:\n",
    "    print(\"Accept the Null Hypothesis\")\n",
    "else:\n",
    "    print(\"Reject Null Hypothesis. Yes, there is a difference, and I am 95% confident.\")"
   ]
  },
  {
   "cell_type": "markdown",
   "id": "37985b80-d177-4e71-a2aa-66c27fd1971e",
   "metadata": {},
   "source": [
    "### Conclusion\n",
    "Based on the ANOVA results, the F-statistic **(F = 66.02)** is much greater than the critical value **(Fcritical = 3.5546)** at \n",
    "**α=0.05**.\n",
    "Therefore, we reject the null hypothesis. \n",
    "This indicates that there is a statistically significant difference in the mean weight loss among the three diet plans (Diet A, Diet B, and Diet C).\n",
    "The nutritionist can confidently conclude that the diet plans have varying effects on weight loss."
   ]
  },
  {
   "cell_type": "code",
   "execution_count": null,
   "id": "861f00d8-0877-40e9-8820-bfc37b6ddd25",
   "metadata": {},
   "outputs": [],
   "source": []
  },
  {
   "cell_type": "markdown",
   "id": "3974c4f2-097e-4dfa-b71a-33bd834fd4d1",
   "metadata": {},
   "source": [
    "### Question 3\n",
    "An e-commerce company wants to test whether three different marketing strategies have significantly different effects on the number of daily website visits. The company runs a 2-week campaign with the following strategies:\n",
    "- **Strategy A**: Social media ads\n",
    "- **Strategy B**: Email marketing\n",
    "- **Strategy C**: Search engine optimization (SEO)\n",
    "\n",
    "Using an alpha level of 0.05, determine if there is a statistically significant difference in the mean daily visits among the three marketing strategies."
   ]
  },
  {
   "cell_type": "code",
   "execution_count": 9,
   "id": "894040d3-e2e0-4db9-9ff5-be815654feed",
   "metadata": {},
   "outputs": [
    {
     "name": "stdout",
     "output_type": "stream",
     "text": [
      "f_critical: 3.5546\n",
      "f: 167.28\n",
      "Reject Null Hypothesis. Yes, there is a difference, and I am 95% confident.\n"
     ]
    }
   ],
   "source": [
    "# Data\n",
    "df = pd.DataFrame({'Strategy A': [120, 130, 125, 128, 135, 140, 132],\n",
    "                   'Strategy B': [150, 155, 145, 152, 158, 160, 148],\n",
    "                   'Strategy C': [180, 190, 185, 188, 192, 195, 200]})\n",
    "\n",
    "# Parameters\n",
    "alpha = 0.05\n",
    "a = 3\n",
    "n = 7\n",
    "N = a * n\n",
    "dfbet = a - 1\n",
    "dfwit = N - a\n",
    "\n",
    "# Sum of Squares\n",
    "ssbet = round((df.sum()**2).sum() / n - df.values.sum()**2 / N, 2)\n",
    "sswit = round((df**2).sum().sum() - (df.sum()**2).sum() / n, 2)\n",
    "\n",
    "# Mean Squares\n",
    "msbet = round(ssbet / dfbet, 2)\n",
    "mswit = round(sswit / dfwit, 2)\n",
    "\n",
    "# F-statistic\n",
    "f_stat = round(msbet / mswit, 2)\n",
    "\n",
    "# F-critical value\n",
    "f_critical = round(f.ppf(1 - alpha, dfbet, dfwit), 4)\n",
    "\n",
    "# Decision\n",
    "print(f\"f_critical: {f_critical}\")\n",
    "print(f\"f: {f_stat}\")\n",
    "if f_stat < f_critical:\n",
    "    print(\"Accept the Null Hypothesis\")\n",
    "else:\n",
    "    print(\"Reject Null Hypothesis. Yes, there is a difference, and I am 95% confident.\")"
   ]
  },
  {
   "cell_type": "markdown",
   "id": "85bc3321-8e22-4907-9235-9548e16fea05",
   "metadata": {},
   "source": [
    "### Conclusion\n",
    "For the e-commerce study, the F-statistic **(f = 167.28)** is also much greater than the critical value **(fcritical = 3.5546)**\n",
    "at **α=0.05**. Thus, we reject the null hypothesis. This suggests that there is a statistically significant difference in the mean number of daily website visits among the three marketing strategies (Strategy A: Social Media Ads, Strategy B: Email Marketing, Strategy C: SEO). The e-commerce company can conclude that the marketing strategies differ significantly in their effectiveness."
   ]
  },
  {
   "cell_type": "code",
   "execution_count": null,
   "id": "dd1cf1e7-16b7-4b35-899b-9561270a2384",
   "metadata": {},
   "outputs": [],
   "source": []
  }
 ],
 "metadata": {
  "kernelspec": {
   "display_name": "Python 3 (ipykernel)",
   "language": "python",
   "name": "python3"
  },
  "language_info": {
   "codemirror_mode": {
    "name": "ipython",
    "version": 3
   },
   "file_extension": ".py",
   "mimetype": "text/x-python",
   "name": "python",
   "nbconvert_exporter": "python",
   "pygments_lexer": "ipython3",
   "version": "3.12.2"
  }
 },
 "nbformat": 4,
 "nbformat_minor": 5
}
