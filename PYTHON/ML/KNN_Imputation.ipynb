{
 "cells": [
  {
   "cell_type": "markdown",
   "id": "296f7305-8ecd-4615-899d-0e83cb112883",
   "metadata": {},
   "source": [
    "## E-Commerce Data Restoration with KNN Imputation\n",
    "\n",
    "### Context\n",
    "The project aimed to handle missing data in an e-commerce dataset containing 51,285 records across 21 columns. With missing values in key fields, such as 'Sales,' 'Quantity,' 'Discount,' 'Profit,' and 'Shipping Cost,' completing these values accurately was essential to ensure the dataset's integrity for analysis. Imputation methods, especially K-Nearest Neighbors (KNN), can be effective for filling in gaps by considering similar data points, maintaining the underlying patterns and relationships within the data.\n",
    "\n",
    "### Content\n",
    "- **Dataset Overview:** The e-commerce dataset included key transaction details like 'Order Date,' 'Product Category,' 'Sales,' 'Quantity,' and             'Profit,' as well as customer information. Columns with missing values were primarily numerical, critical for financial metrics and analyses.\n",
    "\n",
    "- **Imputation Approach:** The KNN imputation technique was applied, leveraging the Euclidean distance between records to predict missing values based      on the nearest neighbors in the dataset. This method allowed for an informed imputation by considering the most similar records.\n",
    "\n",
    "- **Results:** Post-imputation, the performance of the KNN model showed remarkable results:\n",
    "  - **Mean Squared Error:** 0.0\n",
    "  - **R-squared:** 1.0 These results indicate that the imputation fit perfectly with the dataset's original structure, showing no loss in data                consistency or predictive ability in filling missing values."
   ]
  },
  {
   "cell_type": "code",
   "execution_count": 1,
   "id": "0e2bcf49-bd31-4e57-9f09-ffb751fc0703",
   "metadata": {},
   "outputs": [],
   "source": [
    "# Import Libraries\n",
    "import pandas as pd\n",
    "import numpy as np\n",
    "import matplotlib.pyplot as plt\n",
    "import seaborn as sns\n",
    "from sklearn.impute import KNNImputer\n",
    "from sklearn.preprocessing import LabelEncoder\n",
    "from sklearn.metrics import mean_squared_error, r2_score"
   ]
  },
  {
   "cell_type": "code",
   "execution_count": 2,
   "id": "f41ea35d-6700-439d-bb0a-b729efc6a8d0",
   "metadata": {},
   "outputs": [
    {
     "name": "stdout",
     "output_type": "stream",
     "text": [
      "            Order ID Order Date  Ship Date  Aging       Ship Mode  \\\n",
      "0          AU-2015-1  11/9/2015   11/17/15    8.0     First Class   \n",
      "1          AU-2015-2    6/30/15   7/2/2015    2.0     First Class   \n",
      "2          AU-2015-3  12/5/2015   12/13/15    8.0     First Class   \n",
      "3          AU-2015-4   5/9/2015    5/16/15    7.0     First Class   \n",
      "4          AU-2015-5   7/9/2015    7/18/15    9.0     First Class   \n",
      "...              ...        ...        ...    ...             ...   \n",
      "51280  FA-2015-30771    1/21/15    1/27/15    6.0  Standard Class   \n",
      "51281  FA-2015-30772    6/22/15    6/24/15    2.0  Standard Class   \n",
      "51282  FA-2015-30773   1/1/2015   1/7/2015    6.0  Standard Class   \n",
      "51283  FA-2015-30774  12/7/2015   12/14/15    7.0  Standard Class   \n",
      "51284  FA-2015-30775  12/1/2015  12/6/2015    5.0  Standard Class   \n",
      "\n",
      "         Product Category            Product     Sales  Quantity  Discount  \\\n",
      "0      Auto & Accessories  Car Media Players  $140.00        2.0      0.05   \n",
      "1      Auto & Accessories       Car Speakers  $211.00        3.0      0.03   \n",
      "2      Auto & Accessories    Car Body Covers  $117.00        5.0      0.01   \n",
      "3      Auto & Accessories    Car & Bike Care  $118.00        2.0      0.05   \n",
      "4      Auto & Accessories               Tyre  $250.00        1.0      0.04   \n",
      "...                   ...                ...       ...       ...       ...   \n",
      "51280             Fashion        Sports Wear   $85.00        5.0      0.04   \n",
      "51281             Fashion        Sports Wear   $85.00        1.0      0.03   \n",
      "51282             Fashion        Sports Wear   $85.00        1.0      0.05   \n",
      "51283             Fashion        Sports Wear   $85.00        3.0      0.04   \n",
      "51284             Fashion        Sports Wear   $85.00        3.0      0.03   \n",
      "\n",
      "       ... Shipping Cost Order Priority Customer ID    Customer Name  \\\n",
      "0      ...        $4.60          Medium      LS-001     Lane Daniels   \n",
      "1      ...       $11.20          Medium      IZ-002    Alvarado Kriz   \n",
      "2      ...        $3.10        Critical      EN-003       Moon Weien   \n",
      "3      ...        $2.60            High      AN-004  Sanchez Bergman   \n",
      "4      ...       $16.00        Critical      ON-005     Rowe Jackson   \n",
      "...    ...           ...            ...         ...              ...   \n",
      "51280  ...        $1.70          Medium  IN-0040977       Welch Fein   \n",
      "51281  ...        $0.20          Medium  TT-0040978  Martinez Arnett   \n",
      "51282  ...        $0.10          Medium  ON-0040979     Mccoy Duston   \n",
      "51283  ...        $2.80          Medium  RN-0040980   Bentley Zypern   \n",
      "51284  ...        $2.80          Medium  RZ-0040981  Mcclure Schwarz   \n",
      "\n",
      "           Segment        City       State        Country        Region Months  \n",
      "0         Consumer    Brisbane  Queensland      Australia       Oceania    Nov  \n",
      "1      Home Office      Berlin      Berlin        Germany       Central    Jun  \n",
      "2         Consumer     Porirua  Wellington    New Zealand       Oceania    Dec  \n",
      "3        Corporate       Kabul       Kabul    Afghanistan  Central Asia    May  \n",
      "4        Corporate  Townsville  Queensland      Australia       Oceania    Jul  \n",
      "...            ...         ...         ...            ...           ...    ...  \n",
      "51280    Corporate    Pasadena       Texas  United States       Central    Jan  \n",
      "51281    Corporate      Harare      Harare       Zimbabwe        Africa    Jun  \n",
      "51282  Home Office  Townsville  Queensland      Australia       Oceania    Jan  \n",
      "51283     Consumer     Houston       Texas  United States       Central    Dec  \n",
      "51284  Home Office    Valinhos   São Paulo         Brazil         South    Dec  \n",
      "\n",
      "[51285 rows x 21 columns]\n"
     ]
    }
   ],
   "source": [
    "# Read CSV File\n",
    "df = pd.read_csv(\"C:/Users/sahil/Downloads/ecommerce_csv.csv\")\n",
    "print(df)"
   ]
  },
  {
   "cell_type": "code",
   "execution_count": 3,
   "id": "56fd2c87-b632-43b5-a5c7-d29ec6465993",
   "metadata": {},
   "outputs": [
    {
     "data": {
      "text/plain": [
       "Order ID             0\n",
       "Order Date           0\n",
       "Ship Date            0\n",
       "Aging                0\n",
       "Ship Mode            0\n",
       "Product Category     0\n",
       "Product              0\n",
       "Sales               16\n",
       "Quantity            12\n",
       "Discount            10\n",
       "Profit               7\n",
       "Shipping Cost        5\n",
       "Order Priority       0\n",
       "Customer ID          0\n",
       "Customer Name        0\n",
       "Segment              0\n",
       "City                 0\n",
       "State                0\n",
       "Country              0\n",
       "Region               0\n",
       "Months               0\n",
       "dtype: int64"
      ]
     },
     "execution_count": 3,
     "metadata": {},
     "output_type": "execute_result"
    }
   ],
   "source": [
    "# Null values in df\n",
    "df.isna().sum()"
   ]
  },
  {
   "cell_type": "code",
   "execution_count": null,
   "id": "edd215b9-2bec-4805-9fe0-87a0e304aeaa",
   "metadata": {},
   "outputs": [],
   "source": []
  },
  {
   "cell_type": "code",
   "execution_count": null,
   "id": "61ddb778-d61f-4d69-8f72-bced35bca703",
   "metadata": {},
   "outputs": [],
   "source": [
    "# Preprocessing"
   ]
  },
  {
   "cell_type": "code",
   "execution_count": 4,
   "id": "d8a0dc85-fae0-427e-bedc-2b0c388df96d",
   "metadata": {},
   "outputs": [
    {
     "name": "stdout",
     "output_type": "stream",
     "text": [
      "Data after Preprocessing:\n"
     ]
    },
    {
     "data": {
      "text/html": [
       "<div>\n",
       "<style scoped>\n",
       "    .dataframe tbody tr th:only-of-type {\n",
       "        vertical-align: middle;\n",
       "    }\n",
       "\n",
       "    .dataframe tbody tr th {\n",
       "        vertical-align: top;\n",
       "    }\n",
       "\n",
       "    .dataframe thead th {\n",
       "        text-align: right;\n",
       "    }\n",
       "</style>\n",
       "<table border=\"1\" class=\"dataframe\">\n",
       "  <thead>\n",
       "    <tr style=\"text-align: right;\">\n",
       "      <th></th>\n",
       "      <th>Product</th>\n",
       "      <th>Sales</th>\n",
       "      <th>Quantity</th>\n",
       "      <th>Discount</th>\n",
       "      <th>Profit</th>\n",
       "      <th>Shipping Cost</th>\n",
       "    </tr>\n",
       "  </thead>\n",
       "  <tbody>\n",
       "    <tr>\n",
       "      <th>0</th>\n",
       "      <td>7</td>\n",
       "      <td>140.0</td>\n",
       "      <td>2.0</td>\n",
       "      <td>0.05</td>\n",
       "      <td>46.0</td>\n",
       "      <td>4.6</td>\n",
       "    </tr>\n",
       "    <tr>\n",
       "      <th>1</th>\n",
       "      <td>10</td>\n",
       "      <td>211.0</td>\n",
       "      <td>3.0</td>\n",
       "      <td>0.03</td>\n",
       "      <td>112.0</td>\n",
       "      <td>11.2</td>\n",
       "    </tr>\n",
       "    <tr>\n",
       "      <th>2</th>\n",
       "      <td>5</td>\n",
       "      <td>117.0</td>\n",
       "      <td>5.0</td>\n",
       "      <td>0.01</td>\n",
       "      <td>31.2</td>\n",
       "      <td>3.1</td>\n",
       "    </tr>\n",
       "    <tr>\n",
       "      <th>3</th>\n",
       "      <td>4</td>\n",
       "      <td>118.0</td>\n",
       "      <td>2.0</td>\n",
       "      <td>0.05</td>\n",
       "      <td>26.2</td>\n",
       "      <td>2.6</td>\n",
       "    </tr>\n",
       "  </tbody>\n",
       "</table>\n",
       "</div>"
      ],
      "text/plain": [
       "   Product  Sales  Quantity  Discount  Profit  Shipping Cost\n",
       "0        7  140.0       2.0      0.05    46.0            4.6\n",
       "1       10  211.0       3.0      0.03   112.0           11.2\n",
       "2        5  117.0       5.0      0.01    31.2            3.1\n",
       "3        4  118.0       2.0      0.05    26.2            2.6"
      ]
     },
     "execution_count": 4,
     "metadata": {},
     "output_type": "execute_result"
    }
   ],
   "source": [
    "# make a copy of df\n",
    "data = df.copy()\n",
    "\n",
    "# Remove the '$' sign and change the dtype\n",
    "data['Sales'] = data['Sales'].replace(r'[\\$,]', '', regex=True).astype(float)\n",
    "data['Shipping Cost'] = data['Shipping Cost'].replace(r'[\\$,]', '', regex=True).astype(float)\n",
    "data['Profit'] = data['Profit'].replace(r'[\\$,]', '', regex=True).astype(float)\n",
    "\n",
    "# Encode the 'Product' column\n",
    "le = LabelEncoder()\n",
    "data['Product'] = le.fit_transform(data['Product'])\n",
    "\n",
    "print(\"Data after Preprocessing:\")\n",
    "data.iloc[:4,6:12]"
   ]
  },
  {
   "cell_type": "code",
   "execution_count": 5,
   "id": "3bbc07cf-8a57-4727-9c99-f2bbe0529bb5",
   "metadata": {},
   "outputs": [
    {
     "data": {
      "image/png": "[encoded data removed]",
      "text/plain": [
       "<Figure size 1200x500 with 2 Axes>"
      ]
     },
     "metadata": {},
     "output_type": "display_data"
    }
   ],
   "source": [
    "# Correlation Matrix for feature selection\n",
    "plt.figure(figsize=(12, 5))\n",
    "heat_corr = sns.heatmap(data.corr(numeric_only=True), annot=True, cmap='RdBu')\n",
    "plt.show(heat_corr)"
   ]
  },
  {
   "cell_type": "code",
   "execution_count": null,
   "id": "c03c0920-c196-4204-bf37-dcb282da6346",
   "metadata": {},
   "outputs": [],
   "source": []
  },
  {
   "cell_type": "code",
   "execution_count": null,
   "id": "7d8d42a9-e996-4291-9108-31022c637bb2",
   "metadata": {},
   "outputs": [],
   "source": [
    "# KNN Imputation"
   ]
  },
  {
   "cell_type": "code",
   "execution_count": 6,
   "id": "1935ce72-5abd-47fe-8daa-c6ba2d2bf170",
   "metadata": {},
   "outputs": [
    {
     "name": "stdout",
     "output_type": "stream",
     "text": [
      "KNN Imputation for 'Sales' Column\n",
      ".........................\n",
      "Accuracy of Model\n",
      "Mean Squared Error of the imputation: 0.0\n",
      "R-squared of the imputation: 1.0\n",
      "Sales NaN = 0\n"
     ]
    }
   ],
   "source": [
    "print(\"KNN Imputation for 'Sales' Column\")\n",
    "print('.........................')\n",
    "# Create a validation set by setting known values to NaN\n",
    "validation_indices = [1, 3]  # Indices of known values to set as NaN for validation\n",
    "df_validation = data.copy()\n",
    "df_validation.loc[validation_indices, 'Sales'] = np.nan\n",
    "\n",
    "# Separate features and target for the imputer\n",
    "features = data[['Product', 'Profit', 'Shipping Cost']]\n",
    "target = data[['Sales']]\n",
    "\n",
    "# Combine features and target for the imputer\n",
    "data_for_imputer = pd.concat([features, target], axis=1)\n",
    "\n",
    "# Initialize KNNImputer\n",
    "imputer = KNNImputer(n_neighbors=5)\n",
    "\n",
    "# Fit and transform the data\n",
    "imputed_data = imputer.fit_transform(data_for_imputer)\n",
    "\n",
    "# Update the dataframe with imputed values\n",
    "data['Sales'] = imputed_data[:, -1]\n",
    "\n",
    "# Update df_val with imputed values\n",
    "df_validation['Sales'] = imputed_data[:, -1]\n",
    "\n",
    "# Calculate the mean squared error and R-squared for the imputed values\n",
    "actual_values = data.loc[validation_indices, 'Sales']\n",
    "imputed_values = df_validation.loc[validation_indices, 'Sales']\n",
    "mse = mean_squared_error(actual_values, imputed_values)\n",
    "r2 = r2_score(actual_values, imputed_values)\n",
    "\n",
    "print(\"Accuracy of Model\")\n",
    "print(f'Mean Squared Error of the imputation: {mse}')\n",
    "print(f'R-squared of the imputation: {r2}')\n",
    "\n",
    "print(f'Sales NaN = {data.Sales.isna().sum()}')"
   ]
  },
  {
   "cell_type": "code",
   "execution_count": 7,
   "id": "7d0df3ff-8d41-482e-8c32-1d0c4840c2cb",
   "metadata": {},
   "outputs": [
    {
     "name": "stdout",
     "output_type": "stream",
     "text": [
      "KNN Imputation for 'Quantity' Column\n",
      ".........................\n",
      "Accuracy of Model\n",
      "Mean Squared Error of the imputation: 0.0\n",
      "R-squared of the imputation: 1.0\n",
      "Quantity NaN = 0\n"
     ]
    }
   ],
   "source": [
    "print(\"KNN Imputation for 'Quantity' Column\")\n",
    "print('.........................')\n",
    "# Create a validation set by setting known values to NaN\n",
    "validation_indices = [1, 3]  # Indices of known values to set as NaN for validation\n",
    "df_validation = data.copy()\n",
    "df_validation.loc[validation_indices, 'Quantity'] = np.nan\n",
    "\n",
    "# Separate features and target for the imputer\n",
    "features = data[['Product', 'Sales', 'Discount']]\n",
    "target = data[['Quantity']]\n",
    "\n",
    "# Combine features and target for the imputer\n",
    "data_for_imputer = pd.concat([features, target], axis=1)\n",
    "\n",
    "# Initialize KNNImputer\n",
    "imputer = KNNImputer(n_neighbors=5)\n",
    "\n",
    "# Fit and transform the data\n",
    "imputed_data = imputer.fit_transform(data_for_imputer)\n",
    "\n",
    "# Update the dataframe with imputed values\n",
    "data['Quantity'] = imputed_data[:, -1]\n",
    "\n",
    "# Update df_val with imputed values\n",
    "df_validation['Quantity'] = imputed_data[:, -1]\n",
    "\n",
    "# Calculate the mean squared error and R-squared for the imputed values\n",
    "actual_values = data.loc[validation_indices, 'Quantity']\n",
    "imputed_values = df_validation.loc[validation_indices, 'Quantity']\n",
    "mse = mean_squared_error(actual_values, imputed_values)\n",
    "r2 = r2_score(actual_values, imputed_values)\n",
    "\n",
    "print(\"Accuracy of Model\")\n",
    "print(f'Mean Squared Error of the imputation: {mse}')\n",
    "print(f'R-squared of the imputation: {r2}')\n",
    "\n",
    "print(f'Quantity NaN = {data.Quantity.isna().sum()}')"
   ]
  },
  {
   "cell_type": "code",
   "execution_count": 8,
   "id": "4dd2e20e-4d9f-40dd-8b19-26faac465cdb",
   "metadata": {},
   "outputs": [
    {
     "name": "stdout",
     "output_type": "stream",
     "text": [
      "KNN Imputation for 'Discount' Column\n",
      ".........................\n",
      "Accuracy of Model\n",
      "Mean Squared Error of the imputation: 0.0\n",
      "R-squared of the imputation: 1.0\n",
      "Discount NaN = 0\n"
     ]
    }
   ],
   "source": [
    "print(\"KNN Imputation for 'Discount' Column\")\n",
    "print('.........................')\n",
    "# Create a validation set by setting known values to NaN\n",
    "validation_indices = [1, 3]  # Indices of known values to set as NaN for validation\n",
    "df_validation = data.copy()\n",
    "df_validation.loc[validation_indices, 'Discount'] = np.nan\n",
    "\n",
    "# Separate features and target for the imputer\n",
    "features = data[['Product', 'Sales', 'Quantity', 'Profit']]\n",
    "target = data[['Discount']]\n",
    "\n",
    "# Combine features and target for the imputer\n",
    "data_for_imputer = pd.concat([features, target], axis=1)\n",
    "\n",
    "# Initialize KNNImputer\n",
    "imputer = KNNImputer(n_neighbors=5)\n",
    "\n",
    "# Fit and transform the data\n",
    "imputed_data = imputer.fit_transform(data_for_imputer)\n",
    "\n",
    "# Update the dataframe with imputed values\n",
    "data['Discount'] = imputed_data[:, -1]\n",
    "\n",
    "# Update df_val with imputed values\n",
    "df_validation['Discount'] = imputed_data[:, -1]\n",
    "\n",
    "# Calculate the mean squared error and R-squared for the imputed values\n",
    "actual_values = data.loc[validation_indices, 'Discount']\n",
    "imputed_values = df_validation.loc[validation_indices, 'Discount']\n",
    "mse = mean_squared_error(actual_values, imputed_values)\n",
    "r2 = r2_score(actual_values, imputed_values)\n",
    "\n",
    "print(\"Accuracy of Model\")\n",
    "print(f'Mean Squared Error of the imputation: {mse}')\n",
    "print(f'R-squared of the imputation: {r2}')\n",
    "\n",
    "print(f'Discount NaN = {data.Discount.isna().sum()}')"
   ]
  },
  {
   "cell_type": "code",
   "execution_count": 9,
   "id": "465ee5b9-3ec9-4207-94ec-6286795f32ff",
   "metadata": {},
   "outputs": [
    {
     "name": "stdout",
     "output_type": "stream",
     "text": [
      "KNN Imputation for 'Profit' Column\n",
      ".........................\n",
      "Accuracy of Model\n",
      "Mean Squared Error of the imputation: 0.0\n",
      "R-squared of the imputation: 1.0\n",
      "Profit NaN = 0\n"
     ]
    }
   ],
   "source": [
    "print(\"KNN Imputation for 'Profit' Column\")\n",
    "print('.........................')\n",
    "# Create a validation set by setting known values to NaN\n",
    "validation_indices = [1, 3]  # Indices of known values to set as NaN for validation\n",
    "df_validation = data.copy()\n",
    "df_validation.loc[validation_indices, 'Profit'] = np.nan\n",
    "\n",
    "# Separate features and target for the imputer\n",
    "features = data[['Product', 'Sales', 'Shipping Cost']]\n",
    "target = data[['Profit']]\n",
    "\n",
    "# Combine features and target for the imputer\n",
    "data_for_imputer = pd.concat([features, target], axis=1)\n",
    "\n",
    "# Initialize KNNImputer\n",
    "imputer = KNNImputer(n_neighbors=5)\n",
    "\n",
    "# Fit and transform the data\n",
    "imputed_data = imputer.fit_transform(data_for_imputer)\n",
    "\n",
    "# Update the dataframe with imputed values\n",
    "data['Profit'] = imputed_data[:, -1]\n",
    "\n",
    "# Update df_val with imputed values\n",
    "df_validation['Profit'] = imputed_data[:, -1]\n",
    "\n",
    "# Calculate the mean squared error and R-squared for the imputed values\n",
    "actual_values = data.loc[validation_indices, 'Profit']\n",
    "imputed_values = df_validation.loc[validation_indices, 'Profit']\n",
    "mse = mean_squared_error(actual_values, imputed_values)\n",
    "r2 = r2_score(actual_values, imputed_values)\n",
    "\n",
    "print(\"Accuracy of Model\")\n",
    "print(f'Mean Squared Error of the imputation: {mse}')\n",
    "print(f'R-squared of the imputation: {r2}')\n",
    "\n",
    "print(f'Profit NaN = {data.Profit.isna().sum()}')"
   ]
  },
  {
   "cell_type": "code",
   "execution_count": 10,
   "id": "43febf7e-4001-4693-9189-96084a5aebf8",
   "metadata": {},
   "outputs": [
    {
     "name": "stdout",
     "output_type": "stream",
     "text": [
      "KNN Imputation for 'Shipping Cost' Column\n",
      ".........................\n",
      "Accuracy of Model\n",
      "Mean Squared Error of the imputation: 0.0\n",
      "R-squared of the imputation: 1.0\n",
      "Shipping Cost NaN = 0\n"
     ]
    }
   ],
   "source": [
    "print(\"KNN Imputation for 'Shipping Cost' Column\")\n",
    "print('.........................')\n",
    "# Create a validation set by setting known values to NaN\n",
    "validation_indices = [1, 3]  # Indices of known values to set as NaN for validation\n",
    "df_validation = data.copy()\n",
    "df_validation.loc[validation_indices, 'Shipping Cost'] = np.nan\n",
    "\n",
    "# Separate features and target for the imputer\n",
    "features = data[['Product', 'Sales', 'Profit']]\n",
    "target = data[['Shipping Cost']]\n",
    "\n",
    "# Combine features and target for the imputer\n",
    "data_for_imputer = pd.concat([features, target], axis=1)\n",
    "\n",
    "# Initialize KNNImputer\n",
    "imputer = KNNImputer(n_neighbors=5)\n",
    "\n",
    "# Fit and transform the data\n",
    "imputed_data = imputer.fit_transform(data_for_imputer)\n",
    "\n",
    "# Update the dataframe with imputed values\n",
    "data['Shipping Cost'] = imputed_data[:, -1]\n",
    "\n",
    "# Update df_val with imputed values\n",
    "df_validation['Shipping Cost'] = imputed_data[:, -1]\n",
    "\n",
    "# Calculate the mean squared error and R-squared for the imputed values\n",
    "actual_values = data.loc[validation_indices, 'Shipping Cost']\n",
    "imputed_values = df_validation.loc[validation_indices, 'Shipping Cost']\n",
    "mse = mean_squared_error(actual_values, imputed_values)\n",
    "r2 = r2_score(actual_values, imputed_values)\n",
    "\n",
    "print(\"Accuracy of Model\")\n",
    "print(f'Mean Squared Error of the imputation: {mse}')\n",
    "print(f'R-squared of the imputation: {r2}')\n",
    "\n",
    "print(f'Shipping Cost NaN = {data['Shipping Cost'].isna().sum()}')"
   ]
  },
  {
   "cell_type": "code",
   "execution_count": 11,
   "id": "c8df5170-f406-4fb0-aeb5-1066979ce5ed",
   "metadata": {},
   "outputs": [
    {
     "name": "stdout",
     "output_type": "stream",
     "text": [
      "Data after converting 'Product' column to object:\n",
      " 0    Car Media Players\n",
      "1         Car Speakers\n",
      "2      Car Body Covers\n",
      "Name: Product, dtype: object\n"
     ]
    }
   ],
   "source": [
    "# Reverse the encoding for the 'Product' column\n",
    "data['Product'] = le.inverse_transform(data['Product'])\n",
    "\n",
    "# Convert the 'Product' column back to object type for both DataFrames\n",
    "data['Product'] = data['Product'].astype(object)\n",
    "\n",
    "# Verify that 'Product' column is now correctly decoded\n",
    "print(\"Data after converting 'Product' column to object:\\n\", data['Product'].head(3))"
   ]
  },
  {
   "cell_type": "code",
   "execution_count": 12,
   "id": "9ff5aa1c-c2ea-48bf-ac51-5a45eddbafbc",
   "metadata": {},
   "outputs": [
    {
     "data": {
      "text/plain": [
       "Order ID            0\n",
       "Order Date          0\n",
       "Ship Date           0\n",
       "Aging               0\n",
       "Ship Mode           0\n",
       "Product Category    0\n",
       "Product             0\n",
       "Sales               0\n",
       "Quantity            0\n",
       "Discount            0\n",
       "Profit              0\n",
       "Shipping Cost       0\n",
       "Order Priority      0\n",
       "Customer ID         0\n",
       "Customer Name       0\n",
       "Segment             0\n",
       "City                0\n",
       "State               0\n",
       "Country             0\n",
       "Region              0\n",
       "Months              0\n",
       "dtype: int64"
      ]
     },
     "execution_count": 12,
     "metadata": {},
     "output_type": "execute_result"
    }
   ],
   "source": [
    "# Check Null values\n",
    "data.isna().sum()"
   ]
  },
  {
   "cell_type": "markdown",
   "id": "28186ab0-22bd-40f9-955f-cb64fd3b84c8",
   "metadata": {},
   "source": [
    "### Conclusion\n",
    "The KNN imputation project successfully addressed the missing data in the e-commerce dataset, maintaining high accuracy and coherence across records. The perfect Mean Squared Error and R-squared scores underscore the imputation's effectiveness, enabling the dataset to support robust analysis with complete data points. The results confirm that KNN is a suitable method for imputation in e-commerce datasets, ensuring that all critical fields are accurately populated for downstream analysis and modeling."
   ]
  }
 ],
 "metadata": {
  "kernelspec": {
   "display_name": "Python 3 (ipykernel)",
   "language": "python",
   "name": "python3"
  },
  "language_info": {
   "codemirror_mode": {
    "name": "ipython",
    "version": 3
   },
   "file_extension": ".py",
   "mimetype": "text/x-python",
   "name": "python",
   "nbconvert_exporter": "python",
   "pygments_lexer": "ipython3",
   "version": "3.12.2"
  }
 },
 "nbformat": 4,
 "nbformat_minor": 5
}
