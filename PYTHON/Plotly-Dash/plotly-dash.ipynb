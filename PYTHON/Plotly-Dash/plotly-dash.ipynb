{
 "cells": [
  {
   "cell_type": "markdown",
   "id": "79ef1b65-d06c-4061-8433-f1faf87c2acb",
   "metadata": {},
   "source": [
    "![example image](images/dash-1.png)"
   ]
  },
  {
   "cell_type": "markdown",
   "id": "6201a9ee-48a0-47d8-a74d-bdcb037ab75d",
   "metadata": {},
   "source": [
    "![example image](images/dash-2.png)"
   ]
  },
  {
   "cell_type": "markdown",
   "id": "c2013210-d186-487e-bcab-dd1766b792f6",
   "metadata": {},
   "source": [
    "![example image](images/dash-3.png)"
   ]
  },
  {
   "cell_type": "markdown",
   "id": "0d165c7d-793e-4bd5-88a7-09153cf2ebb7",
   "metadata": {},
   "source": [
    "![example image](images/dash-4.png)"
   ]
  },
  {
   "cell_type": "markdown",
   "id": "c83d10e3-8e8b-4298-af83-6dc65e91a398",
   "metadata": {},
   "source": [
    "![example image](images/dash-5.png)"
   ]
  },
  {
   "cell_type": "markdown",
   "id": "77c10ea1-7d3b-4886-8b16-7271d44c0e47",
   "metadata": {},
   "source": [
    "<video width=\"600\" controls>\n",
    "    <source src=\"images/dash-app-video.mp4\" type=\"video/mp4\">\n",
    "    Your browser does not support the video tag.\n",
    "</video>"
   ]
  }
 ],
 "metadata": {
  "kernelspec": {
   "display_name": "Python 3 (ipykernel)",
   "language": "python",
   "name": "python3"
  },
  "language_info": {
   "codemirror_mode": {
    "name": "ipython",
    "version": 3
   },
   "file_extension": ".py",
   "mimetype": "text/x-python",
   "name": "python",
   "nbconvert_exporter": "python",
   "pygments_lexer": "ipython3",
   "version": "3.12.2"
  }
 },
 "nbformat": 4,
 "nbformat_minor": 5
}
