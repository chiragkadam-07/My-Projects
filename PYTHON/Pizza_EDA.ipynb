{
 "cells": [
  {
   "cell_type": "code",
   "execution_count": 1,
   "id": "b21561f6-f771-4f70-a786-4fe88dd7a078",
   "metadata": {},
   "outputs": [],
   "source": [
    "# import libraries\n",
    "import pandas as pd\n",
    "from tabulate import tabulate as tb\n",
    "import numpy as np\n",
    "import plotly.express as px\n",
    "import seaborn as sns\n",
    "import matplotlib.pyplot as plt\n",
    "import plotly.graph_objects as go\n",
    "from plotly.subplots import make_subplots"
   ]
  },
  {
   "cell_type": "code",
   "execution_count": 2,
   "id": "898ca1b3-ae30-4d7a-a2dd-073f0565b919",
   "metadata": {},
   "outputs": [],
   "source": [
    "# read datasets\n",
    "df1 = pd.read_csv('C:/Users/sahil/Downloads/pizza_order_details.csv')\n",
    "df2 = pd.read_csv('C:/Users/sahil/Downloads/orders.csv')\n",
    "df3 = pd.read_csv('C:/Users/sahil/Downloads/pizza_types.csv', encoding='Windows-1252')\n",
    "df4 = pd.read_csv('C:/Users/sahil/Downloads/pizzas.csv')"
   ]
  },
  {
   "cell_type": "code",
   "execution_count": 3,
   "id": "400cdd55-9caa-41b1-b375-c4414696143c",
   "metadata": {},
   "outputs": [
    {
     "data": {
      "text/html": [
       "<div>\n",
       "<style scoped>\n",
       "    .dataframe tbody tr th:only-of-type {\n",
       "        vertical-align: middle;\n",
       "    }\n",
       "\n",
       "    .dataframe tbody tr th {\n",
       "        vertical-align: top;\n",
       "    }\n",
       "\n",
       "    .dataframe thead th {\n",
       "        text-align: right;\n",
       "    }\n",
       "</style>\n",
       "<table border=\"1\" class=\"dataframe\">\n",
       "  <thead>\n",
       "    <tr style=\"text-align: right;\">\n",
       "      <th></th>\n",
       "      <th>order_details_id</th>\n",
       "      <th>order_id</th>\n",
       "      <th>pizza_id</th>\n",
       "      <th>quantity</th>\n",
       "      <th>date</th>\n",
       "      <th>time</th>\n",
       "      <th>pizza_type_id</th>\n",
       "      <th>size</th>\n",
       "      <th>price</th>\n",
       "      <th>name</th>\n",
       "      <th>category</th>\n",
       "      <th>ingredients</th>\n",
       "    </tr>\n",
       "  </thead>\n",
       "  <tbody>\n",
       "    <tr>\n",
       "      <th>0</th>\n",
       "      <td>1</td>\n",
       "      <td>1</td>\n",
       "      <td>hawaiian_m</td>\n",
       "      <td>1</td>\n",
       "      <td>01-01-2023</td>\n",
       "      <td>11:38:36</td>\n",
       "      <td>hawaiian</td>\n",
       "      <td>M</td>\n",
       "      <td>13.25</td>\n",
       "      <td>The Hawaiian Pizza</td>\n",
       "      <td>Classic</td>\n",
       "      <td>Sliced Ham, Pineapple, Mozzarella Cheese</td>\n",
       "    </tr>\n",
       "    <tr>\n",
       "      <th>1</th>\n",
       "      <td>2</td>\n",
       "      <td>2</td>\n",
       "      <td>classic_dlx_m</td>\n",
       "      <td>1</td>\n",
       "      <td>01-01-2023</td>\n",
       "      <td>11:57:40</td>\n",
       "      <td>classic_dlx</td>\n",
       "      <td>M</td>\n",
       "      <td>16.00</td>\n",
       "      <td>The Classic Deluxe Pizza</td>\n",
       "      <td>Classic</td>\n",
       "      <td>Pepperoni, Mushrooms, Red Onions, Red Peppers,...</td>\n",
       "    </tr>\n",
       "    <tr>\n",
       "      <th>2</th>\n",
       "      <td>3</td>\n",
       "      <td>2</td>\n",
       "      <td>five_cheese_l</td>\n",
       "      <td>1</td>\n",
       "      <td>01-01-2023</td>\n",
       "      <td>11:57:40</td>\n",
       "      <td>five_cheese</td>\n",
       "      <td>L</td>\n",
       "      <td>18.50</td>\n",
       "      <td>The Five Cheese Pizza</td>\n",
       "      <td>Veggie</td>\n",
       "      <td>Mozzarella Cheese, Provolone Cheese, Smoked Go...</td>\n",
       "    </tr>\n",
       "    <tr>\n",
       "      <th>3</th>\n",
       "      <td>4</td>\n",
       "      <td>2</td>\n",
       "      <td>ital_supr_l</td>\n",
       "      <td>1</td>\n",
       "      <td>01-01-2023</td>\n",
       "      <td>11:57:40</td>\n",
       "      <td>ital_supr</td>\n",
       "      <td>L</td>\n",
       "      <td>20.75</td>\n",
       "      <td>The Italian Supreme Pizza</td>\n",
       "      <td>Supreme</td>\n",
       "      <td>Calabrese Salami, Capocollo, Tomatoes, Red Oni...</td>\n",
       "    </tr>\n",
       "    <tr>\n",
       "      <th>4</th>\n",
       "      <td>5</td>\n",
       "      <td>2</td>\n",
       "      <td>mexicana_m</td>\n",
       "      <td>1</td>\n",
       "      <td>01-01-2023</td>\n",
       "      <td>11:57:40</td>\n",
       "      <td>mexicana</td>\n",
       "      <td>M</td>\n",
       "      <td>16.00</td>\n",
       "      <td>The Mexicana Pizza</td>\n",
       "      <td>Veggie</td>\n",
       "      <td>Tomatoes, Red Peppers, Jalapeno Peppers, Red O...</td>\n",
       "    </tr>\n",
       "  </tbody>\n",
       "</table>\n",
       "</div>"
      ],
      "text/plain": [
       "   order_details_id  order_id       pizza_id  quantity        date      time  \\\n",
       "0                 1         1     hawaiian_m         1  01-01-2023  11:38:36   \n",
       "1                 2         2  classic_dlx_m         1  01-01-2023  11:57:40   \n",
       "2                 3         2  five_cheese_l         1  01-01-2023  11:57:40   \n",
       "3                 4         2    ital_supr_l         1  01-01-2023  11:57:40   \n",
       "4                 5         2     mexicana_m         1  01-01-2023  11:57:40   \n",
       "\n",
       "  pizza_type_id size  price                       name category  \\\n",
       "0      hawaiian    M  13.25         The Hawaiian Pizza  Classic   \n",
       "1   classic_dlx    M  16.00   The Classic Deluxe Pizza  Classic   \n",
       "2   five_cheese    L  18.50      The Five Cheese Pizza   Veggie   \n",
       "3     ital_supr    L  20.75  The Italian Supreme Pizza  Supreme   \n",
       "4      mexicana    M  16.00         The Mexicana Pizza   Veggie   \n",
       "\n",
       "                                         ingredients  \n",
       "0           Sliced Ham, Pineapple, Mozzarella Cheese  \n",
       "1  Pepperoni, Mushrooms, Red Onions, Red Peppers,...  \n",
       "2  Mozzarella Cheese, Provolone Cheese, Smoked Go...  \n",
       "3  Calabrese Salami, Capocollo, Tomatoes, Red Oni...  \n",
       "4  Tomatoes, Red Peppers, Jalapeno Peppers, Red O...  "
      ]
     },
     "execution_count": 3,
     "metadata": {},
     "output_type": "execute_result"
    }
   ],
   "source": [
    "# Join df1 with df2 on 'order_id'\n",
    "merged_df = pd.merge(df1, df2, on='order_id', how='inner')\n",
    "\n",
    "# Join merged_df with df4 on 'pizza_id'\n",
    "merged_df = pd.merge(merged_df, df4, on='pizza_id', how='inner')\n",
    "\n",
    "# Join merged_df with df3 on 'pizza_type_id'\n",
    "merged_df = pd.merge(merged_df, df3, on='pizza_type_id', how='inner')\n",
    "merged_df.head()"
   ]
  },
  {
   "cell_type": "code",
   "execution_count": 4,
   "id": "01c0de5a-d67e-4f85-b82f-4d4bd4aebb78",
   "metadata": {},
   "outputs": [
    {
     "name": "stdout",
     "output_type": "stream",
     "text": [
      "<class 'pandas.core.frame.DataFrame'>\n",
      "RangeIndex: 48633 entries, 0 to 48632\n",
      "Data columns (total 12 columns):\n",
      " #   Column            Non-Null Count  Dtype  \n",
      "---  ------            --------------  -----  \n",
      " 0   order_details_id  48633 non-null  int64  \n",
      " 1   order_id          48633 non-null  int64  \n",
      " 2   pizza_id          48633 non-null  object \n",
      " 3   quantity          48633 non-null  int64  \n",
      " 4   date              48633 non-null  object \n",
      " 5   time              48633 non-null  object \n",
      " 6   pizza_type_id     48633 non-null  object \n",
      " 7   size              48633 non-null  object \n",
      " 8   price             48633 non-null  float64\n",
      " 9   name              48633 non-null  object \n",
      " 10  category          48633 non-null  object \n",
      " 11  ingredients       48633 non-null  object \n",
      "dtypes: float64(1), int64(3), object(8)\n",
      "memory usage: 4.5+ MB\n"
     ]
    }
   ],
   "source": [
    "# dataset information\n",
    "merged_df.info()"
   ]
  },
  {
   "cell_type": "code",
   "execution_count": 4,
   "id": "4150351b-bca5-479c-823a-a8a6be4e6357",
   "metadata": {},
   "outputs": [],
   "source": [
    "# copy merged to df for further modification\n",
    "df = merged_df.copy()\n",
    "# chnage the dtype for time and date feature from object to datetime\n",
    "df['time'] = pd.to_datetime(df['time'], format='%H:%M:%S')\n",
    "df['date'] = pd.to_datetime(df['date'], format='mixed')"
   ]
  },
  {
   "cell_type": "code",
   "execution_count": 5,
   "id": "26d49101-16c2-402e-a187-c24afaba4158",
   "metadata": {},
   "outputs": [
    {
     "data": {
      "text/html": [
       "<div>\n",
       "<style scoped>\n",
       "    .dataframe tbody tr th:only-of-type {\n",
       "        vertical-align: middle;\n",
       "    }\n",
       "\n",
       "    .dataframe tbody tr th {\n",
       "        vertical-align: top;\n",
       "    }\n",
       "\n",
       "    .dataframe thead th {\n",
       "        text-align: right;\n",
       "    }\n",
       "</style>\n",
       "<table border=\"1\" class=\"dataframe\">\n",
       "  <thead>\n",
       "    <tr style=\"text-align: right;\">\n",
       "      <th></th>\n",
       "      <th>order_details_id</th>\n",
       "      <th>order_id</th>\n",
       "      <th>quantity</th>\n",
       "      <th>price</th>\n",
       "    </tr>\n",
       "  </thead>\n",
       "  <tbody>\n",
       "    <tr>\n",
       "      <th>count</th>\n",
       "      <td>48633.000000</td>\n",
       "      <td>48633.000000</td>\n",
       "      <td>48633.000000</td>\n",
       "      <td>48633.000000</td>\n",
       "    </tr>\n",
       "    <tr>\n",
       "      <th>mean</th>\n",
       "      <td>24312.534945</td>\n",
       "      <td>10702.371168</td>\n",
       "      <td>1.019637</td>\n",
       "      <td>16.493693</td>\n",
       "    </tr>\n",
       "    <tr>\n",
       "      <th>std</th>\n",
       "      <td>14034.872611</td>\n",
       "      <td>6179.823933</td>\n",
       "      <td>0.143127</td>\n",
       "      <td>3.621661</td>\n",
       "    </tr>\n",
       "    <tr>\n",
       "      <th>min</th>\n",
       "      <td>1.000000</td>\n",
       "      <td>1.000000</td>\n",
       "      <td>1.000000</td>\n",
       "      <td>9.750000</td>\n",
       "    </tr>\n",
       "    <tr>\n",
       "      <th>25%</th>\n",
       "      <td>12159.000000</td>\n",
       "      <td>5339.000000</td>\n",
       "      <td>1.000000</td>\n",
       "      <td>12.750000</td>\n",
       "    </tr>\n",
       "    <tr>\n",
       "      <th>50%</th>\n",
       "      <td>24317.000000</td>\n",
       "      <td>10687.000000</td>\n",
       "      <td>1.000000</td>\n",
       "      <td>16.500000</td>\n",
       "    </tr>\n",
       "    <tr>\n",
       "      <th>75%</th>\n",
       "      <td>36465.000000</td>\n",
       "      <td>16100.000000</td>\n",
       "      <td>1.000000</td>\n",
       "      <td>20.250000</td>\n",
       "    </tr>\n",
       "    <tr>\n",
       "      <th>max</th>\n",
       "      <td>48620.000000</td>\n",
       "      <td>21350.000000</td>\n",
       "      <td>4.000000</td>\n",
       "      <td>35.950000</td>\n",
       "    </tr>\n",
       "  </tbody>\n",
       "</table>\n",
       "</div>"
      ],
      "text/plain": [
       "       order_details_id      order_id      quantity         price\n",
       "count      48633.000000  48633.000000  48633.000000  48633.000000\n",
       "mean       24312.534945  10702.371168      1.019637     16.493693\n",
       "std        14034.872611   6179.823933      0.143127      3.621661\n",
       "min            1.000000      1.000000      1.000000      9.750000\n",
       "25%        12159.000000   5339.000000      1.000000     12.750000\n",
       "50%        24317.000000  10687.000000      1.000000     16.500000\n",
       "75%        36465.000000  16100.000000      1.000000     20.250000\n",
       "max        48620.000000  21350.000000      4.000000     35.950000"
      ]
     },
     "execution_count": 5,
     "metadata": {},
     "output_type": "execute_result"
    }
   ],
   "source": [
    "# descriptive statistics\n",
    "merged_df.describe()"
   ]
  },
  {
   "cell_type": "code",
   "execution_count": null,
   "id": "e7da75f2-2c98-450f-9f9a-b20c69cb2c11",
   "metadata": {},
   "outputs": [],
   "source": []
  },
  {
   "cell_type": "code",
   "execution_count": 5,
   "id": "78b11891-2e83-4d3a-9676-701e361f6875",
   "metadata": {},
   "outputs": [
    {
     "data": {
      "text/html": [
       "<div>\n",
       "<style scoped>\n",
       "    .dataframe tbody tr th:only-of-type {\n",
       "        vertical-align: middle;\n",
       "    }\n",
       "\n",
       "    .dataframe tbody tr th {\n",
       "        vertical-align: top;\n",
       "    }\n",
       "\n",
       "    .dataframe thead th {\n",
       "        text-align: right;\n",
       "    }\n",
       "</style>\n",
       "<table border=\"1\" class=\"dataframe\">\n",
       "  <thead>\n",
       "    <tr style=\"text-align: right;\">\n",
       "      <th></th>\n",
       "      <th>order_details_id</th>\n",
       "      <th>order_id</th>\n",
       "      <th>quantity</th>\n",
       "      <th>date</th>\n",
       "      <th>time</th>\n",
       "      <th>price</th>\n",
       "      <th>amount</th>\n",
       "    </tr>\n",
       "  </thead>\n",
       "  <tbody>\n",
       "    <tr>\n",
       "      <th>count</th>\n",
       "      <td>48633.000000</td>\n",
       "      <td>48633.000000</td>\n",
       "      <td>48633.000000</td>\n",
       "      <td>48633</td>\n",
       "      <td>48633</td>\n",
       "      <td>48633.000000</td>\n",
       "      <td>48633.000000</td>\n",
       "    </tr>\n",
       "    <tr>\n",
       "      <th>mean</th>\n",
       "      <td>24312.534945</td>\n",
       "      <td>10702.371168</td>\n",
       "      <td>1.019637</td>\n",
       "      <td>2023-06-28 22:09:38.718154496</td>\n",
       "      <td>1900-01-01 16:24:48.222174208</td>\n",
       "      <td>16.493693</td>\n",
       "      <td>16.821373</td>\n",
       "    </tr>\n",
       "    <tr>\n",
       "      <th>min</th>\n",
       "      <td>1.000000</td>\n",
       "      <td>1.000000</td>\n",
       "      <td>1.000000</td>\n",
       "      <td>2023-01-01 00:00:00</td>\n",
       "      <td>1900-01-01 09:52:21</td>\n",
       "      <td>9.750000</td>\n",
       "      <td>9.750000</td>\n",
       "    </tr>\n",
       "    <tr>\n",
       "      <th>25%</th>\n",
       "      <td>12159.000000</td>\n",
       "      <td>5339.000000</td>\n",
       "      <td>1.000000</td>\n",
       "      <td>2023-03-30 00:00:00</td>\n",
       "      <td>1900-01-01 13:24:41</td>\n",
       "      <td>12.750000</td>\n",
       "      <td>12.750000</td>\n",
       "    </tr>\n",
       "    <tr>\n",
       "      <th>50%</th>\n",
       "      <td>24317.000000</td>\n",
       "      <td>10687.000000</td>\n",
       "      <td>1.000000</td>\n",
       "      <td>2023-06-28 00:00:00</td>\n",
       "      <td>1900-01-01 16:33:31</td>\n",
       "      <td>16.500000</td>\n",
       "      <td>16.500000</td>\n",
       "    </tr>\n",
       "    <tr>\n",
       "      <th>75%</th>\n",
       "      <td>36465.000000</td>\n",
       "      <td>16100.000000</td>\n",
       "      <td>1.000000</td>\n",
       "      <td>2023-09-29 00:00:00</td>\n",
       "      <td>1900-01-01 18:55:14</td>\n",
       "      <td>20.250000</td>\n",
       "      <td>20.500000</td>\n",
       "    </tr>\n",
       "    <tr>\n",
       "      <th>max</th>\n",
       "      <td>48620.000000</td>\n",
       "      <td>21350.000000</td>\n",
       "      <td>4.000000</td>\n",
       "      <td>2023-12-31 00:00:00</td>\n",
       "      <td>1900-01-01 23:05:52</td>\n",
       "      <td>35.950000</td>\n",
       "      <td>83.000000</td>\n",
       "    </tr>\n",
       "    <tr>\n",
       "      <th>std</th>\n",
       "      <td>14034.872611</td>\n",
       "      <td>6179.823933</td>\n",
       "      <td>0.143127</td>\n",
       "      <td>NaN</td>\n",
       "      <td>NaN</td>\n",
       "      <td>3.621661</td>\n",
       "      <td>4.438506</td>\n",
       "    </tr>\n",
       "  </tbody>\n",
       "</table>\n",
       "</div>"
      ],
      "text/plain": [
       "       order_details_id      order_id      quantity  \\\n",
       "count      48633.000000  48633.000000  48633.000000   \n",
       "mean       24312.534945  10702.371168      1.019637   \n",
       "min            1.000000      1.000000      1.000000   \n",
       "25%        12159.000000   5339.000000      1.000000   \n",
       "50%        24317.000000  10687.000000      1.000000   \n",
       "75%        36465.000000  16100.000000      1.000000   \n",
       "max        48620.000000  21350.000000      4.000000   \n",
       "std        14034.872611   6179.823933      0.143127   \n",
       "\n",
       "                                date                           time  \\\n",
       "count                          48633                          48633   \n",
       "mean   2023-06-28 22:09:38.718154496  1900-01-01 16:24:48.222174208   \n",
       "min              2023-01-01 00:00:00            1900-01-01 09:52:21   \n",
       "25%              2023-03-30 00:00:00            1900-01-01 13:24:41   \n",
       "50%              2023-06-28 00:00:00            1900-01-01 16:33:31   \n",
       "75%              2023-09-29 00:00:00            1900-01-01 18:55:14   \n",
       "max              2023-12-31 00:00:00            1900-01-01 23:05:52   \n",
       "std                              NaN                            NaN   \n",
       "\n",
       "              price        amount  \n",
       "count  48633.000000  48633.000000  \n",
       "mean      16.493693     16.821373  \n",
       "min        9.750000      9.750000  \n",
       "25%       12.750000     12.750000  \n",
       "50%       16.500000     16.500000  \n",
       "75%       20.250000     20.500000  \n",
       "max       35.950000     83.000000  \n",
       "std        3.621661      4.438506  "
      ]
     },
     "execution_count": 5,
     "metadata": {},
     "output_type": "execute_result"
    }
   ],
   "source": [
    "# make amount feature \n",
    "df['amount'] = df['quantity'] * df['price']\n",
    "df.describe()"
   ]
  },
  {
   "cell_type": "code",
   "execution_count": null,
   "id": "80878c7c-2148-46ad-b733-4267cd458707",
   "metadata": {},
   "outputs": [],
   "source": [
    "# box plot for price and amount\n",
    "num_col = df[['price', 'amount']]\n",
    "df_melted = num_col.melt(var_name='Variable', value_name='Value')\n",
    "px.box(df_melted, x='Variable', y='Value', title='Box Plots')"
   ]
  },
  {
   "cell_type": "markdown",
   "id": "521f03e0-3bec-45bd-96bd-d16c71cd2b8f",
   "metadata": {},
   "source": [
    "![example image](images/scatter_plot1.png)"
   ]
  },
  {
   "cell_type": "code",
   "execution_count": 8,
   "id": "0ed373ac-fb48-418f-b372-3a8a651456db",
   "metadata": {},
   "outputs": [
    {
     "name": "stdout",
     "output_type": "stream",
     "text": [
      "Total Orders\n",
      "21338\n"
     ]
    }
   ],
   "source": [
    "# Total Orders of pizzas\n",
    "print(f\"Total Orders\\n{df['order_id'].nunique()}\")"
   ]
  },
  {
   "cell_type": "code",
   "execution_count": 9,
   "id": "280e69e9-c3d0-4e3a-ac38-f2584f87c086",
   "metadata": {},
   "outputs": [
    {
     "name": "stdout",
     "output_type": "stream",
     "text": [
      "Total Pizzas Sold\n",
      "49588\n"
     ]
    }
   ],
   "source": [
    "# total quantity sold\n",
    "print(f\"Total Pizzas Sold\\n{df['quantity'].sum()}\")"
   ]
  },
  {
   "cell_type": "code",
   "execution_count": 10,
   "id": "70542387-7fa1-4dfb-95fd-92e97817c761",
   "metadata": {},
   "outputs": [
    {
     "name": "stdout",
     "output_type": "stream",
     "text": [
      "Revenue\n",
      "818073.85\n"
     ]
    }
   ],
   "source": [
    "# total revenue\n",
    "print(f\"Revenue\\n{df['amount'].sum()}\")"
   ]
  },
  {
   "cell_type": "code",
   "execution_count": 11,
   "id": "2d194833-7276-4c60-b520-2853e650683e",
   "metadata": {},
   "outputs": [
    {
     "name": "stdout",
     "output_type": "stream",
     "text": [
      "Daily AVG Quantity\n",
      "139.0\n"
     ]
    }
   ],
   "source": [
    "# average daily quantity\n",
    "daily_avg_qty = df.groupby('date')['quantity'].sum().reset_index()\n",
    "print(f\"Daily AVG Quantity\\n{np.ceil(daily_avg_qty['quantity'].mean())}\")"
   ]
  },
  {
   "cell_type": "code",
   "execution_count": 12,
   "id": "78f38a85-34f9-4cac-9501-36c359fb76fa",
   "metadata": {},
   "outputs": [
    {
     "name": "stdout",
     "output_type": "stream",
     "text": [
      "AVG Order Value\n",
      "16.82\n"
     ]
    }
   ],
   "source": [
    "# average order value\n",
    "print(f\"AVG Order Value\\n{df['amount'].mean().round(2)}\")"
   ]
  },
  {
   "cell_type": "code",
   "execution_count": 13,
   "id": "21ce8136-1cda-4a24-acd1-6852f64a1cbe",
   "metadata": {},
   "outputs": [
    {
     "name": "stdout",
     "output_type": "stream",
     "text": [
      "Highest & Lowest Priced Pizza\n"
     ]
    },
    {
     "data": {
      "text/html": [
       "<div>\n",
       "<style scoped>\n",
       "    .dataframe tbody tr th:only-of-type {\n",
       "        vertical-align: middle;\n",
       "    }\n",
       "\n",
       "    .dataframe tbody tr th {\n",
       "        vertical-align: top;\n",
       "    }\n",
       "\n",
       "    .dataframe thead th {\n",
       "        text-align: right;\n",
       "    }\n",
       "</style>\n",
       "<table border=\"1\" class=\"dataframe\">\n",
       "  <thead>\n",
       "    <tr style=\"text-align: right;\">\n",
       "      <th></th>\n",
       "      <th>name</th>\n",
       "      <th>size</th>\n",
       "      <th>price</th>\n",
       "    </tr>\n",
       "  </thead>\n",
       "  <tbody>\n",
       "    <tr>\n",
       "      <th>0</th>\n",
       "      <td>The Greek Pizza</td>\n",
       "      <td>XXL</td>\n",
       "      <td>35.95</td>\n",
       "    </tr>\n",
       "    <tr>\n",
       "      <th>1</th>\n",
       "      <td>The Pepperoni Pizza</td>\n",
       "      <td>S</td>\n",
       "      <td>9.75</td>\n",
       "    </tr>\n",
       "  </tbody>\n",
       "</table>\n",
       "</div>"
      ],
      "text/plain": [
       "                  name size  price\n",
       "0      The Greek Pizza  XXL  35.95\n",
       "1  The Pepperoni Pizza    S   9.75"
      ]
     },
     "execution_count": 13,
     "metadata": {},
     "output_type": "execute_result"
    }
   ],
   "source": [
    "# most expensive and cheapest pizza name\n",
    "print(\"Highest & Lowest Priced Pizza\")\n",
    "pd.concat([df[['name', 'size', 'price']].nlargest(1, 'price'),\n",
    "df[['name', 'size', 'price']].nsmallest(1, 'price')], ignore_index=True)"
   ]
  },
  {
   "cell_type": "code",
   "execution_count": 14,
   "id": "ca8c2c68-bcd7-4088-a99e-c09af4a476f8",
   "metadata": {},
   "outputs": [
    {
     "data": {
      "text/html": [
       "<div>\n",
       "<style scoped>\n",
       "    .dataframe tbody tr th:only-of-type {\n",
       "        vertical-align: middle;\n",
       "    }\n",
       "\n",
       "    .dataframe tbody tr th {\n",
       "        vertical-align: top;\n",
       "    }\n",
       "\n",
       "    .dataframe thead tr th {\n",
       "        text-align: left;\n",
       "    }\n",
       "\n",
       "    .dataframe thead tr:last-of-type th {\n",
       "        text-align: right;\n",
       "    }\n",
       "</style>\n",
       "<table border=\"1\" class=\"dataframe\">\n",
       "  <thead>\n",
       "    <tr>\n",
       "      <th></th>\n",
       "      <th></th>\n",
       "      <th colspan=\"5\" halign=\"left\">Revenue</th>\n",
       "      <th colspan=\"5\" halign=\"left\">Total Quantity</th>\n",
       "    </tr>\n",
       "    <tr>\n",
       "      <th></th>\n",
       "      <th>size</th>\n",
       "      <th>L</th>\n",
       "      <th>M</th>\n",
       "      <th>S</th>\n",
       "      <th>XL</th>\n",
       "      <th>XXL</th>\n",
       "      <th>L</th>\n",
       "      <th>M</th>\n",
       "      <th>S</th>\n",
       "      <th>XL</th>\n",
       "      <th>XXL</th>\n",
       "    </tr>\n",
       "    <tr>\n",
       "      <th>Category</th>\n",
       "      <th>Pizza Name</th>\n",
       "      <th></th>\n",
       "      <th></th>\n",
       "      <th></th>\n",
       "      <th></th>\n",
       "      <th></th>\n",
       "      <th></th>\n",
       "      <th></th>\n",
       "      <th></th>\n",
       "      <th></th>\n",
       "      <th></th>\n",
       "    </tr>\n",
       "  </thead>\n",
       "  <tbody>\n",
       "    <tr>\n",
       "      <th rowspan=\"6\" valign=\"top\">Chicken</th>\n",
       "      <th>The Barbecue Chicken Pizza</th>\n",
       "      <td>20584.00</td>\n",
       "      <td>16029.75</td>\n",
       "      <td>6171.00</td>\n",
       "      <td>0.0</td>\n",
       "      <td>0.0</td>\n",
       "      <td>992.0</td>\n",
       "      <td>957.0</td>\n",
       "      <td>484.0</td>\n",
       "      <td>0.0</td>\n",
       "      <td>0.0</td>\n",
       "    </tr>\n",
       "    <tr>\n",
       "      <th>The California Chicken Pizza</th>\n",
       "      <td>19214.50</td>\n",
       "      <td>15828.75</td>\n",
       "      <td>6400.50</td>\n",
       "      <td>0.0</td>\n",
       "      <td>0.0</td>\n",
       "      <td>926.0</td>\n",
       "      <td>945.0</td>\n",
       "      <td>502.0</td>\n",
       "      <td>0.0</td>\n",
       "      <td>0.0</td>\n",
       "    </tr>\n",
       "    <tr>\n",
       "      <th>The Chicken Alfredo Pizza</th>\n",
       "      <td>3921.75</td>\n",
       "      <td>11758.50</td>\n",
       "      <td>1224.00</td>\n",
       "      <td>0.0</td>\n",
       "      <td>0.0</td>\n",
       "      <td>189.0</td>\n",
       "      <td>702.0</td>\n",
       "      <td>96.0</td>\n",
       "      <td>0.0</td>\n",
       "      <td>0.0</td>\n",
       "    </tr>\n",
       "    <tr>\n",
       "      <th>The Chicken Pesto Pizza</th>\n",
       "      <td>8279.25</td>\n",
       "      <td>4639.75</td>\n",
       "      <td>3812.25</td>\n",
       "      <td>0.0</td>\n",
       "      <td>0.0</td>\n",
       "      <td>399.0</td>\n",
       "      <td>277.0</td>\n",
       "      <td>299.0</td>\n",
       "      <td>0.0</td>\n",
       "      <td>0.0</td>\n",
       "    </tr>\n",
       "    <tr>\n",
       "      <th>The Southwest Chicken Pizza</th>\n",
       "      <td>21082.00</td>\n",
       "      <td>8961.25</td>\n",
       "      <td>4679.25</td>\n",
       "      <td>0.0</td>\n",
       "      <td>0.0</td>\n",
       "      <td>1016.0</td>\n",
       "      <td>535.0</td>\n",
       "      <td>367.0</td>\n",
       "      <td>0.0</td>\n",
       "      <td>0.0</td>\n",
       "    </tr>\n",
       "    <tr>\n",
       "      <th>The Thai Chicken Pizza</th>\n",
       "      <td>29257.50</td>\n",
       "      <td>8073.50</td>\n",
       "      <td>6132.75</td>\n",
       "      <td>0.0</td>\n",
       "      <td>0.0</td>\n",
       "      <td>1410.0</td>\n",
       "      <td>482.0</td>\n",
       "      <td>481.0</td>\n",
       "      <td>0.0</td>\n",
       "      <td>0.0</td>\n",
       "    </tr>\n",
       "    <tr>\n",
       "      <th rowspan=\"8\" valign=\"top\">Classic</th>\n",
       "      <th>The Big Meat Pizza</th>\n",
       "      <td>0.00</td>\n",
       "      <td>0.00</td>\n",
       "      <td>22968.00</td>\n",
       "      <td>0.0</td>\n",
       "      <td>0.0</td>\n",
       "      <td>0.0</td>\n",
       "      <td>0.0</td>\n",
       "      <td>1914.0</td>\n",
       "      <td>0.0</td>\n",
       "      <td>0.0</td>\n",
       "    </tr>\n",
       "    <tr>\n",
       "      <th>The Classic Deluxe Pizza</th>\n",
       "      <td>9696.50</td>\n",
       "      <td>18896.00</td>\n",
       "      <td>9588.00</td>\n",
       "      <td>0.0</td>\n",
       "      <td>0.0</td>\n",
       "      <td>473.0</td>\n",
       "      <td>1181.0</td>\n",
       "      <td>799.0</td>\n",
       "      <td>0.0</td>\n",
       "      <td>0.0</td>\n",
       "    </tr>\n",
       "    <tr>\n",
       "      <th>The Greek Pizza</th>\n",
       "      <td>5207.00</td>\n",
       "      <td>4480.00</td>\n",
       "      <td>3648.00</td>\n",
       "      <td>14076.0</td>\n",
       "      <td>1006.6</td>\n",
       "      <td>254.0</td>\n",
       "      <td>280.0</td>\n",
       "      <td>304.0</td>\n",
       "      <td>552.0</td>\n",
       "      <td>28.0</td>\n",
       "    </tr>\n",
       "    <tr>\n",
       "      <th>The Hawaiian Pizza</th>\n",
       "      <td>15163.50</td>\n",
       "      <td>6386.50</td>\n",
       "      <td>10720.50</td>\n",
       "      <td>0.0</td>\n",
       "      <td>0.0</td>\n",
       "      <td>919.0</td>\n",
       "      <td>482.0</td>\n",
       "      <td>1021.0</td>\n",
       "      <td>0.0</td>\n",
       "      <td>0.0</td>\n",
       "    </tr>\n",
       "    <tr>\n",
       "      <th>The Italian Capocollo Pizza</th>\n",
       "      <td>14985.50</td>\n",
       "      <td>6464.00</td>\n",
       "      <td>3624.00</td>\n",
       "      <td>0.0</td>\n",
       "      <td>0.0</td>\n",
       "      <td>731.0</td>\n",
       "      <td>404.0</td>\n",
       "      <td>302.0</td>\n",
       "      <td>0.0</td>\n",
       "      <td>0.0</td>\n",
       "    </tr>\n",
       "    <tr>\n",
       "      <th>The Napolitana Pizza</th>\n",
       "      <td>11603.00</td>\n",
       "      <td>6832.00</td>\n",
       "      <td>5664.00</td>\n",
       "      <td>0.0</td>\n",
       "      <td>0.0</td>\n",
       "      <td>566.0</td>\n",
       "      <td>427.0</td>\n",
       "      <td>472.0</td>\n",
       "      <td>0.0</td>\n",
       "      <td>0.0</td>\n",
       "    </tr>\n",
       "    <tr>\n",
       "      <th>The Pepperoni Pizza</th>\n",
       "      <td>11102.00</td>\n",
       "      <td>11725.00</td>\n",
       "      <td>7322.25</td>\n",
       "      <td>0.0</td>\n",
       "      <td>0.0</td>\n",
       "      <td>728.0</td>\n",
       "      <td>938.0</td>\n",
       "      <td>751.0</td>\n",
       "      <td>0.0</td>\n",
       "      <td>0.0</td>\n",
       "    </tr>\n",
       "    <tr>\n",
       "      <th>The Pepperoni, Mushroom, and Peppers Pizza</th>\n",
       "      <td>6720.00</td>\n",
       "      <td>5756.50</td>\n",
       "      <td>6347.00</td>\n",
       "      <td>0.0</td>\n",
       "      <td>0.0</td>\n",
       "      <td>384.0</td>\n",
       "      <td>397.0</td>\n",
       "      <td>577.0</td>\n",
       "      <td>0.0</td>\n",
       "      <td>0.0</td>\n",
       "    </tr>\n",
       "    <tr>\n",
       "      <th rowspan=\"9\" valign=\"top\">Supreme</th>\n",
       "      <th>The Brie Carre Pizza</th>\n",
       "      <td>0.00</td>\n",
       "      <td>0.00</td>\n",
       "      <td>11564.85</td>\n",
       "      <td>0.0</td>\n",
       "      <td>0.0</td>\n",
       "      <td>0.0</td>\n",
       "      <td>0.0</td>\n",
       "      <td>489.0</td>\n",
       "      <td>0.0</td>\n",
       "      <td>0.0</td>\n",
       "    </tr>\n",
       "    <tr>\n",
       "      <th>The Calabrese Pizza</th>\n",
       "      <td>5609.25</td>\n",
       "      <td>9132.50</td>\n",
       "      <td>1212.75</td>\n",
       "      <td>0.0</td>\n",
       "      <td>0.0</td>\n",
       "      <td>277.0</td>\n",
       "      <td>562.0</td>\n",
       "      <td>99.0</td>\n",
       "      <td>0.0</td>\n",
       "      <td>0.0</td>\n",
       "    </tr>\n",
       "    <tr>\n",
       "      <th>The Italian Supreme Pizza</th>\n",
       "      <td>15500.25</td>\n",
       "      <td>15543.00</td>\n",
       "      <td>2437.50</td>\n",
       "      <td>0.0</td>\n",
       "      <td>0.0</td>\n",
       "      <td>747.0</td>\n",
       "      <td>942.0</td>\n",
       "      <td>195.0</td>\n",
       "      <td>0.0</td>\n",
       "      <td>0.0</td>\n",
       "    </tr>\n",
       "    <tr>\n",
       "      <th>The Pepper Salami Pizza</th>\n",
       "      <td>14483.50</td>\n",
       "      <td>7045.50</td>\n",
       "      <td>4025.00</td>\n",
       "      <td>0.0</td>\n",
       "      <td>0.0</td>\n",
       "      <td>698.0</td>\n",
       "      <td>427.0</td>\n",
       "      <td>322.0</td>\n",
       "      <td>0.0</td>\n",
       "      <td>0.0</td>\n",
       "    </tr>\n",
       "    <tr>\n",
       "      <th>The Prosciutto and Arugula Pizza</th>\n",
       "      <td>9026.25</td>\n",
       "      <td>9867.00</td>\n",
       "      <td>5300.00</td>\n",
       "      <td>0.0</td>\n",
       "      <td>0.0</td>\n",
       "      <td>435.0</td>\n",
       "      <td>598.0</td>\n",
       "      <td>424.0</td>\n",
       "      <td>0.0</td>\n",
       "      <td>0.0</td>\n",
       "    </tr>\n",
       "    <tr>\n",
       "      <th>The Sicilian Pizza</th>\n",
       "      <td>12413.25</td>\n",
       "      <td>9327.50</td>\n",
       "      <td>9199.75</td>\n",
       "      <td>0.0</td>\n",
       "      <td>0.0</td>\n",
       "      <td>613.0</td>\n",
       "      <td>574.0</td>\n",
       "      <td>751.0</td>\n",
       "      <td>0.0</td>\n",
       "      <td>0.0</td>\n",
       "    </tr>\n",
       "    <tr>\n",
       "      <th>The Soppressata Pizza</th>\n",
       "      <td>8403.75</td>\n",
       "      <td>4422.00</td>\n",
       "      <td>3612.50</td>\n",
       "      <td>0.0</td>\n",
       "      <td>0.0</td>\n",
       "      <td>405.0</td>\n",
       "      <td>268.0</td>\n",
       "      <td>289.0</td>\n",
       "      <td>0.0</td>\n",
       "      <td>0.0</td>\n",
       "    </tr>\n",
       "    <tr>\n",
       "      <th>The Spicy Italian Pizza</th>\n",
       "      <td>23053.25</td>\n",
       "      <td>6748.50</td>\n",
       "      <td>5087.50</td>\n",
       "      <td>0.0</td>\n",
       "      <td>0.0</td>\n",
       "      <td>1111.0</td>\n",
       "      <td>409.0</td>\n",
       "      <td>407.0</td>\n",
       "      <td>0.0</td>\n",
       "      <td>0.0</td>\n",
       "    </tr>\n",
       "    <tr>\n",
       "      <th>The Spinach Supreme Pizza</th>\n",
       "      <td>5872.25</td>\n",
       "      <td>4405.50</td>\n",
       "      <td>5000.00</td>\n",
       "      <td>0.0</td>\n",
       "      <td>0.0</td>\n",
       "      <td>283.0</td>\n",
       "      <td>267.0</td>\n",
       "      <td>400.0</td>\n",
       "      <td>0.0</td>\n",
       "      <td>0.0</td>\n",
       "    </tr>\n",
       "    <tr>\n",
       "      <th rowspan=\"9\" valign=\"top\">Veggie</th>\n",
       "      <th>The Five Cheese Pizza</th>\n",
       "      <td>26066.50</td>\n",
       "      <td>0.00</td>\n",
       "      <td>0.00</td>\n",
       "      <td>0.0</td>\n",
       "      <td>0.0</td>\n",
       "      <td>1409.0</td>\n",
       "      <td>0.0</td>\n",
       "      <td>0.0</td>\n",
       "      <td>0.0</td>\n",
       "      <td>0.0</td>\n",
       "    </tr>\n",
       "    <tr>\n",
       "      <th>The Four Cheese Pizza</th>\n",
       "      <td>23640.15</td>\n",
       "      <td>8643.50</td>\n",
       "      <td>0.00</td>\n",
       "      <td>0.0</td>\n",
       "      <td>0.0</td>\n",
       "      <td>1317.0</td>\n",
       "      <td>586.0</td>\n",
       "      <td>0.0</td>\n",
       "      <td>0.0</td>\n",
       "      <td>0.0</td>\n",
       "    </tr>\n",
       "    <tr>\n",
       "      <th>The Green Garden Pizza</th>\n",
       "      <td>1923.75</td>\n",
       "      <td>4832.00</td>\n",
       "      <td>7212.00</td>\n",
       "      <td>0.0</td>\n",
       "      <td>0.0</td>\n",
       "      <td>95.0</td>\n",
       "      <td>302.0</td>\n",
       "      <td>601.0</td>\n",
       "      <td>0.0</td>\n",
       "      <td>0.0</td>\n",
       "    </tr>\n",
       "    <tr>\n",
       "      <th>The Italian Vegetables Pizza</th>\n",
       "      <td>3990.00</td>\n",
       "      <td>8123.75</td>\n",
       "      <td>3901.50</td>\n",
       "      <td>0.0</td>\n",
       "      <td>0.0</td>\n",
       "      <td>190.0</td>\n",
       "      <td>485.0</td>\n",
       "      <td>306.0</td>\n",
       "      <td>0.0</td>\n",
       "      <td>0.0</td>\n",
       "    </tr>\n",
       "    <tr>\n",
       "      <th>The Mediterranean Pizza</th>\n",
       "      <td>7492.50</td>\n",
       "      <td>4416.00</td>\n",
       "      <td>3480.00</td>\n",
       "      <td>0.0</td>\n",
       "      <td>0.0</td>\n",
       "      <td>370.0</td>\n",
       "      <td>276.0</td>\n",
       "      <td>290.0</td>\n",
       "      <td>0.0</td>\n",
       "      <td>0.0</td>\n",
       "    </tr>\n",
       "    <tr>\n",
       "      <th>The Mexicana Pizza</th>\n",
       "      <td>17556.75</td>\n",
       "      <td>7264.00</td>\n",
       "      <td>1944.00</td>\n",
       "      <td>0.0</td>\n",
       "      <td>0.0</td>\n",
       "      <td>867.0</td>\n",
       "      <td>454.0</td>\n",
       "      <td>162.0</td>\n",
       "      <td>0.0</td>\n",
       "      <td>0.0</td>\n",
       "    </tr>\n",
       "    <tr>\n",
       "      <th>The Spinach Pesto Pizza</th>\n",
       "      <td>5893.00</td>\n",
       "      <td>4653.00</td>\n",
       "      <td>5050.00</td>\n",
       "      <td>0.0</td>\n",
       "      <td>0.0</td>\n",
       "      <td>284.0</td>\n",
       "      <td>282.0</td>\n",
       "      <td>404.0</td>\n",
       "      <td>0.0</td>\n",
       "      <td>0.0</td>\n",
       "    </tr>\n",
       "    <tr>\n",
       "      <th>The Spinach and Feta Pizza</th>\n",
       "      <td>9011.25</td>\n",
       "      <td>8992.00</td>\n",
       "      <td>5268.00</td>\n",
       "      <td>0.0</td>\n",
       "      <td>0.0</td>\n",
       "      <td>445.0</td>\n",
       "      <td>562.0</td>\n",
       "      <td>439.0</td>\n",
       "      <td>0.0</td>\n",
       "      <td>0.0</td>\n",
       "    </tr>\n",
       "    <tr>\n",
       "      <th>The Vegetables + Vegetables Pizza</th>\n",
       "      <td>8667.00</td>\n",
       "      <td>10160.00</td>\n",
       "      <td>5568.00</td>\n",
       "      <td>0.0</td>\n",
       "      <td>0.0</td>\n",
       "      <td>428.0</td>\n",
       "      <td>635.0</td>\n",
       "      <td>464.0</td>\n",
       "      <td>0.0</td>\n",
       "      <td>0.0</td>\n",
       "    </tr>\n",
       "  </tbody>\n",
       "</table>\n",
       "</div>"
      ],
      "text/plain": [
       "                                                      Revenue            \\\n",
       "size                                                        L         M   \n",
       "Category Pizza Name                                                       \n",
       "Chicken  The Barbecue Chicken Pizza                  20584.00  16029.75   \n",
       "         The California Chicken Pizza                19214.50  15828.75   \n",
       "         The Chicken Alfredo Pizza                    3921.75  11758.50   \n",
       "         The Chicken Pesto Pizza                      8279.25   4639.75   \n",
       "         The Southwest Chicken Pizza                 21082.00   8961.25   \n",
       "         The Thai Chicken Pizza                      29257.50   8073.50   \n",
       "Classic  The Big Meat Pizza                              0.00      0.00   \n",
       "         The Classic Deluxe Pizza                     9696.50  18896.00   \n",
       "         The Greek Pizza                              5207.00   4480.00   \n",
       "         The Hawaiian Pizza                          15163.50   6386.50   \n",
       "         The Italian Capocollo Pizza                 14985.50   6464.00   \n",
       "         The Napolitana Pizza                        11603.00   6832.00   \n",
       "         The Pepperoni Pizza                         11102.00  11725.00   \n",
       "         The Pepperoni, Mushroom, and Peppers Pizza   6720.00   5756.50   \n",
       "Supreme  The Brie Carre Pizza                            0.00      0.00   \n",
       "         The Calabrese Pizza                          5609.25   9132.50   \n",
       "         The Italian Supreme Pizza                   15500.25  15543.00   \n",
       "         The Pepper Salami Pizza                     14483.50   7045.50   \n",
       "         The Prosciutto and Arugula Pizza             9026.25   9867.00   \n",
       "         The Sicilian Pizza                          12413.25   9327.50   \n",
       "         The Soppressata Pizza                        8403.75   4422.00   \n",
       "         The Spicy Italian Pizza                     23053.25   6748.50   \n",
       "         The Spinach Supreme Pizza                    5872.25   4405.50   \n",
       "Veggie   The Five Cheese Pizza                       26066.50      0.00   \n",
       "         The Four Cheese Pizza                       23640.15   8643.50   \n",
       "         The Green Garden Pizza                       1923.75   4832.00   \n",
       "         The Italian Vegetables Pizza                 3990.00   8123.75   \n",
       "         The Mediterranean Pizza                      7492.50   4416.00   \n",
       "         The Mexicana Pizza                          17556.75   7264.00   \n",
       "         The Spinach Pesto Pizza                      5893.00   4653.00   \n",
       "         The Spinach and Feta Pizza                   9011.25   8992.00   \n",
       "         The Vegetables + Vegetables Pizza            8667.00  10160.00   \n",
       "\n",
       "                                                                        \\\n",
       "size                                                        S       XL   \n",
       "Category Pizza Name                                                      \n",
       "Chicken  The Barbecue Chicken Pizza                   6171.00      0.0   \n",
       "         The California Chicken Pizza                 6400.50      0.0   \n",
       "         The Chicken Alfredo Pizza                    1224.00      0.0   \n",
       "         The Chicken Pesto Pizza                      3812.25      0.0   \n",
       "         The Southwest Chicken Pizza                  4679.25      0.0   \n",
       "         The Thai Chicken Pizza                       6132.75      0.0   \n",
       "Classic  The Big Meat Pizza                          22968.00      0.0   \n",
       "         The Classic Deluxe Pizza                     9588.00      0.0   \n",
       "         The Greek Pizza                              3648.00  14076.0   \n",
       "         The Hawaiian Pizza                          10720.50      0.0   \n",
       "         The Italian Capocollo Pizza                  3624.00      0.0   \n",
       "         The Napolitana Pizza                         5664.00      0.0   \n",
       "         The Pepperoni Pizza                          7322.25      0.0   \n",
       "         The Pepperoni, Mushroom, and Peppers Pizza   6347.00      0.0   \n",
       "Supreme  The Brie Carre Pizza                        11564.85      0.0   \n",
       "         The Calabrese Pizza                          1212.75      0.0   \n",
       "         The Italian Supreme Pizza                    2437.50      0.0   \n",
       "         The Pepper Salami Pizza                      4025.00      0.0   \n",
       "         The Prosciutto and Arugula Pizza             5300.00      0.0   \n",
       "         The Sicilian Pizza                           9199.75      0.0   \n",
       "         The Soppressata Pizza                        3612.50      0.0   \n",
       "         The Spicy Italian Pizza                      5087.50      0.0   \n",
       "         The Spinach Supreme Pizza                    5000.00      0.0   \n",
       "Veggie   The Five Cheese Pizza                           0.00      0.0   \n",
       "         The Four Cheese Pizza                           0.00      0.0   \n",
       "         The Green Garden Pizza                       7212.00      0.0   \n",
       "         The Italian Vegetables Pizza                 3901.50      0.0   \n",
       "         The Mediterranean Pizza                      3480.00      0.0   \n",
       "         The Mexicana Pizza                           1944.00      0.0   \n",
       "         The Spinach Pesto Pizza                      5050.00      0.0   \n",
       "         The Spinach and Feta Pizza                   5268.00      0.0   \n",
       "         The Vegetables + Vegetables Pizza            5568.00      0.0   \n",
       "\n",
       "                                                            Total Quantity  \\\n",
       "size                                                    XXL              L   \n",
       "Category Pizza Name                                                          \n",
       "Chicken  The Barbecue Chicken Pizza                     0.0          992.0   \n",
       "         The California Chicken Pizza                   0.0          926.0   \n",
       "         The Chicken Alfredo Pizza                      0.0          189.0   \n",
       "         The Chicken Pesto Pizza                        0.0          399.0   \n",
       "         The Southwest Chicken Pizza                    0.0         1016.0   \n",
       "         The Thai Chicken Pizza                         0.0         1410.0   \n",
       "Classic  The Big Meat Pizza                             0.0            0.0   \n",
       "         The Classic Deluxe Pizza                       0.0          473.0   \n",
       "         The Greek Pizza                             1006.6          254.0   \n",
       "         The Hawaiian Pizza                             0.0          919.0   \n",
       "         The Italian Capocollo Pizza                    0.0          731.0   \n",
       "         The Napolitana Pizza                           0.0          566.0   \n",
       "         The Pepperoni Pizza                            0.0          728.0   \n",
       "         The Pepperoni, Mushroom, and Peppers Pizza     0.0          384.0   \n",
       "Supreme  The Brie Carre Pizza                           0.0            0.0   \n",
       "         The Calabrese Pizza                            0.0          277.0   \n",
       "         The Italian Supreme Pizza                      0.0          747.0   \n",
       "         The Pepper Salami Pizza                        0.0          698.0   \n",
       "         The Prosciutto and Arugula Pizza               0.0          435.0   \n",
       "         The Sicilian Pizza                             0.0          613.0   \n",
       "         The Soppressata Pizza                          0.0          405.0   \n",
       "         The Spicy Italian Pizza                        0.0         1111.0   \n",
       "         The Spinach Supreme Pizza                      0.0          283.0   \n",
       "Veggie   The Five Cheese Pizza                          0.0         1409.0   \n",
       "         The Four Cheese Pizza                          0.0         1317.0   \n",
       "         The Green Garden Pizza                         0.0           95.0   \n",
       "         The Italian Vegetables Pizza                   0.0          190.0   \n",
       "         The Mediterranean Pizza                        0.0          370.0   \n",
       "         The Mexicana Pizza                             0.0          867.0   \n",
       "         The Spinach Pesto Pizza                        0.0          284.0   \n",
       "         The Spinach and Feta Pizza                     0.0          445.0   \n",
       "         The Vegetables + Vegetables Pizza              0.0          428.0   \n",
       "\n",
       "                                                                            \\\n",
       "size                                                      M       S     XL   \n",
       "Category Pizza Name                                                          \n",
       "Chicken  The Barbecue Chicken Pizza                   957.0   484.0    0.0   \n",
       "         The California Chicken Pizza                 945.0   502.0    0.0   \n",
       "         The Chicken Alfredo Pizza                    702.0    96.0    0.0   \n",
       "         The Chicken Pesto Pizza                      277.0   299.0    0.0   \n",
       "         The Southwest Chicken Pizza                  535.0   367.0    0.0   \n",
       "         The Thai Chicken Pizza                       482.0   481.0    0.0   \n",
       "Classic  The Big Meat Pizza                             0.0  1914.0    0.0   \n",
       "         The Classic Deluxe Pizza                    1181.0   799.0    0.0   \n",
       "         The Greek Pizza                              280.0   304.0  552.0   \n",
       "         The Hawaiian Pizza                           482.0  1021.0    0.0   \n",
       "         The Italian Capocollo Pizza                  404.0   302.0    0.0   \n",
       "         The Napolitana Pizza                         427.0   472.0    0.0   \n",
       "         The Pepperoni Pizza                          938.0   751.0    0.0   \n",
       "         The Pepperoni, Mushroom, and Peppers Pizza   397.0   577.0    0.0   \n",
       "Supreme  The Brie Carre Pizza                           0.0   489.0    0.0   \n",
       "         The Calabrese Pizza                          562.0    99.0    0.0   \n",
       "         The Italian Supreme Pizza                    942.0   195.0    0.0   \n",
       "         The Pepper Salami Pizza                      427.0   322.0    0.0   \n",
       "         The Prosciutto and Arugula Pizza             598.0   424.0    0.0   \n",
       "         The Sicilian Pizza                           574.0   751.0    0.0   \n",
       "         The Soppressata Pizza                        268.0   289.0    0.0   \n",
       "         The Spicy Italian Pizza                      409.0   407.0    0.0   \n",
       "         The Spinach Supreme Pizza                    267.0   400.0    0.0   \n",
       "Veggie   The Five Cheese Pizza                          0.0     0.0    0.0   \n",
       "         The Four Cheese Pizza                        586.0     0.0    0.0   \n",
       "         The Green Garden Pizza                       302.0   601.0    0.0   \n",
       "         The Italian Vegetables Pizza                 485.0   306.0    0.0   \n",
       "         The Mediterranean Pizza                      276.0   290.0    0.0   \n",
       "         The Mexicana Pizza                           454.0   162.0    0.0   \n",
       "         The Spinach Pesto Pizza                      282.0   404.0    0.0   \n",
       "         The Spinach and Feta Pizza                   562.0   439.0    0.0   \n",
       "         The Vegetables + Vegetables Pizza            635.0   464.0    0.0   \n",
       "\n",
       "                                                           \n",
       "size                                                  XXL  \n",
       "Category Pizza Name                                        \n",
       "Chicken  The Barbecue Chicken Pizza                   0.0  \n",
       "         The California Chicken Pizza                 0.0  \n",
       "         The Chicken Alfredo Pizza                    0.0  \n",
       "         The Chicken Pesto Pizza                      0.0  \n",
       "         The Southwest Chicken Pizza                  0.0  \n",
       "         The Thai Chicken Pizza                       0.0  \n",
       "Classic  The Big Meat Pizza                           0.0  \n",
       "         The Classic Deluxe Pizza                     0.0  \n",
       "         The Greek Pizza                             28.0  \n",
       "         The Hawaiian Pizza                           0.0  \n",
       "         The Italian Capocollo Pizza                  0.0  \n",
       "         The Napolitana Pizza                         0.0  \n",
       "         The Pepperoni Pizza                          0.0  \n",
       "         The Pepperoni, Mushroom, and Peppers Pizza   0.0  \n",
       "Supreme  The Brie Carre Pizza                         0.0  \n",
       "         The Calabrese Pizza                          0.0  \n",
       "         The Italian Supreme Pizza                    0.0  \n",
       "         The Pepper Salami Pizza                      0.0  \n",
       "         The Prosciutto and Arugula Pizza             0.0  \n",
       "         The Sicilian Pizza                           0.0  \n",
       "         The Soppressata Pizza                        0.0  \n",
       "         The Spicy Italian Pizza                      0.0  \n",
       "         The Spinach Supreme Pizza                    0.0  \n",
       "Veggie   The Five Cheese Pizza                        0.0  \n",
       "         The Four Cheese Pizza                        0.0  \n",
       "         The Green Garden Pizza                       0.0  \n",
       "         The Italian Vegetables Pizza                 0.0  \n",
       "         The Mediterranean Pizza                      0.0  \n",
       "         The Mexicana Pizza                           0.0  \n",
       "         The Spinach Pesto Pizza                      0.0  \n",
       "         The Spinach and Feta Pizza                   0.0  \n",
       "         The Vegetables + Vegetables Pizza            0.0  "
      ]
     },
     "execution_count": 14,
     "metadata": {},
     "output_type": "execute_result"
    }
   ],
   "source": [
    "# pivot table of Category including Revenue and Quantity\n",
    "cate_pivot2 = df.pivot_table(values=['amount', 'quantity'],\n",
    "                             index=['category', 'name'],\n",
    "                             columns='size', \n",
    "                             aggfunc='sum')\n",
    "cate_pivot2.fillna(0, inplace=True)\n",
    "cate_pivot2.round(2).rename(columns={'amount':'Revenue', 'quantity':'Total Quantity'}).rename_axis(\n",
    "    index={'category': 'Category', 'name': 'Pizza Name'})"
   ]
  },
  {
   "cell_type": "code",
   "execution_count": null,
   "id": "c68e8cd2-43da-486f-9467-2ad9e6cc52b8",
   "metadata": {},
   "outputs": [],
   "source": [
    "# Visualizing the above table using plolty \n",
    "fig = make_subplots(rows=1, cols=2, specs=[[{'type': 'pie'}, {'type': 'pie'}]],subplot_titles=(\"Category-wise contribution to Quantity\",\n",
    "                                                                                              \"Category-wise contribution to Revenue\"))\n",
    "colors = ['mediumturquoise', 'gold', 'lightgreen', 'darkorange']\n",
    "\n",
    "fig.add_trace(go.Pie(\n",
    "values = cate_qty['QTY'],\n",
    "labels = cate_qty['Category'],\n",
    "# domain = dict(x=[0, 0.5]),\n",
    "name = 'QTY'\n",
    "),\n",
    "row = 1, col = 1)\n",
    "fig.add_trace(go.Pie(\n",
    "values = cate_qty['Revenue'],\n",
    "labels = cate_qty['Category'],\n",
    "# domain = dict(x=[0.5, 1.0]),\n",
    "name = 'Revenue'\n",
    "),\n",
    "row = 1, col = 2)\n",
    "fig.update_traces(marker=dict(colors=colors, line=dict(color='#000000', width=1)))"
   ]
  },
  {
   "cell_type": "markdown",
   "id": "b7789f9b-27c3-4b1b-ad52-4613c9983516",
   "metadata": {},
   "source": [
    "![example image](images/pie_chart1.png)"
   ]
  },
  {
   "cell_type": "code",
   "execution_count": null,
   "id": "e7cff71e-2218-4179-85f8-f71c1089f3e5",
   "metadata": {},
   "outputs": [],
   "source": [
    "# Top 3 most sold pizzas in each Category\n",
    "pizza_cate = df.groupby(['category', 'name'])['quantity'].sum().reset_index()\n",
    "pizza_cate_rnk = pizza_cate.assign(rnk=pizza_cate.groupby('category')['quantity'].rank(ascending=False, method='dense'))\n",
    "pizza_cate_rnk3 = pizza_cate_rnk[pizza_cate_rnk['rnk'].isin([1,2,3])]\n",
    "px.bar(pizza_cate_rnk3, x='category', y='quantity', color='name', barmode='group', labels={'category':'Category', 'quantity':'Quantity'}\n",
    "                                                                                             )"
   ]
  },
  {
   "cell_type": "markdown",
   "id": "8ff81fc0-481a-4cd0-9b39-1a7af6778a36",
   "metadata": {},
   "source": [
    "![example image](images/newplot.png)"
   ]
  },
  {
   "cell_type": "code",
   "execution_count": null,
   "id": "68921d0b-50f5-4c60-8b88-411cae1338af",
   "metadata": {},
   "outputs": [],
   "source": [
    "# Category wise Bar chart of revenue \n",
    "px.bar(cate_pivot, barmode='group', labels={'value':'Revenue','category':'Category'}, text='value')"
   ]
  },
  {
   "cell_type": "markdown",
   "id": "ff60d214-d817-4311-8e23-d9d389fa179a",
   "metadata": {},
   "source": [
    "![example image](images/newplot1.png)"
   ]
  },
  {
   "cell_type": "code",
   "execution_count": 16,
   "id": "8b1c4f21-089f-4ead-a36b-c93951926df9",
   "metadata": {},
   "outputs": [
    {
     "data": {
      "text/html": [
       "<div>\n",
       "<style scoped>\n",
       "    .dataframe tbody tr th:only-of-type {\n",
       "        vertical-align: middle;\n",
       "    }\n",
       "\n",
       "    .dataframe tbody tr th {\n",
       "        vertical-align: top;\n",
       "    }\n",
       "\n",
       "    .dataframe thead th {\n",
       "        text-align: right;\n",
       "    }\n",
       "</style>\n",
       "<table border=\"1\" class=\"dataframe\">\n",
       "  <thead>\n",
       "    <tr style=\"text-align: right;\">\n",
       "      <th></th>\n",
       "      <th>size</th>\n",
       "      <th>No of Pizzas</th>\n",
       "    </tr>\n",
       "  </thead>\n",
       "  <tbody>\n",
       "    <tr>\n",
       "      <th>0</th>\n",
       "      <td>L</td>\n",
       "      <td>30</td>\n",
       "    </tr>\n",
       "    <tr>\n",
       "      <th>1</th>\n",
       "      <td>M</td>\n",
       "      <td>29</td>\n",
       "    </tr>\n",
       "    <tr>\n",
       "      <th>2</th>\n",
       "      <td>S</td>\n",
       "      <td>30</td>\n",
       "    </tr>\n",
       "    <tr>\n",
       "      <th>3</th>\n",
       "      <td>XL</td>\n",
       "      <td>1</td>\n",
       "    </tr>\n",
       "    <tr>\n",
       "      <th>4</th>\n",
       "      <td>XXL</td>\n",
       "      <td>1</td>\n",
       "    </tr>\n",
       "  </tbody>\n",
       "</table>\n",
       "</div>"
      ],
      "text/plain": [
       "  size  No of Pizzas\n",
       "0    L            30\n",
       "1    M            29\n",
       "2    S            30\n",
       "3   XL             1\n",
       "4  XXL             1"
      ]
     },
     "execution_count": 16,
     "metadata": {},
     "output_type": "execute_result"
    }
   ],
   "source": [
    "# Total number of pizzas available in each sizes\n",
    "df.groupby('size')['pizza_id'].nunique().reset_index(name='No of Pizzas')"
   ]
  },
  {
   "cell_type": "code",
   "execution_count": 17,
   "id": "e7e7966b-b76e-4db2-9453-b4e8d796cb60",
   "metadata": {},
   "outputs": [
    {
     "data": {
      "text/html": [
       "<div>\n",
       "<style scoped>\n",
       "    .dataframe tbody tr th:only-of-type {\n",
       "        vertical-align: middle;\n",
       "    }\n",
       "\n",
       "    .dataframe tbody tr th {\n",
       "        vertical-align: top;\n",
       "    }\n",
       "\n",
       "    .dataframe thead th {\n",
       "        text-align: right;\n",
       "    }\n",
       "</style>\n",
       "<table border=\"1\" class=\"dataframe\">\n",
       "  <thead>\n",
       "    <tr style=\"text-align: right;\">\n",
       "      <th></th>\n",
       "      <th>Size</th>\n",
       "      <th>Name</th>\n",
       "      <th>Orders</th>\n",
       "      <th>QTY</th>\n",
       "      <th>Revenue</th>\n",
       "    </tr>\n",
       "  </thead>\n",
       "  <tbody>\n",
       "    <tr>\n",
       "      <th>0</th>\n",
       "      <td>S</td>\n",
       "      <td>The Big Meat Pizza</td>\n",
       "      <td>1811</td>\n",
       "      <td>1914</td>\n",
       "      <td>22968.00</td>\n",
       "    </tr>\n",
       "    <tr>\n",
       "      <th>1</th>\n",
       "      <td>L</td>\n",
       "      <td>The Thai Chicken Pizza</td>\n",
       "      <td>1365</td>\n",
       "      <td>1410</td>\n",
       "      <td>29257.50</td>\n",
       "    </tr>\n",
       "    <tr>\n",
       "      <th>2</th>\n",
       "      <td>L</td>\n",
       "      <td>The Five Cheese Pizza</td>\n",
       "      <td>1359</td>\n",
       "      <td>1409</td>\n",
       "      <td>26066.50</td>\n",
       "    </tr>\n",
       "    <tr>\n",
       "      <th>3</th>\n",
       "      <td>L</td>\n",
       "      <td>The Four Cheese Pizza</td>\n",
       "      <td>1274</td>\n",
       "      <td>1317</td>\n",
       "      <td>23640.15</td>\n",
       "    </tr>\n",
       "    <tr>\n",
       "      <th>4</th>\n",
       "      <td>M</td>\n",
       "      <td>The Classic Deluxe Pizza</td>\n",
       "      <td>1159</td>\n",
       "      <td>1181</td>\n",
       "      <td>18896.00</td>\n",
       "    </tr>\n",
       "  </tbody>\n",
       "</table>\n",
       "</div>"
      ],
      "text/plain": [
       "  Size                      Name  Orders   QTY   Revenue\n",
       "0    S        The Big Meat Pizza    1811  1914  22968.00\n",
       "1    L    The Thai Chicken Pizza    1365  1410  29257.50\n",
       "2    L     The Five Cheese Pizza    1359  1409  26066.50\n",
       "3    L     The Four Cheese Pizza    1274  1317  23640.15\n",
       "4    M  The Classic Deluxe Pizza    1159  1181  18896.00"
      ]
     },
     "execution_count": 17,
     "metadata": {},
     "output_type": "execute_result"
    }
   ],
   "source": [
    "# 5 most profitable pizzas by size\n",
    "most_qty = (df.groupby(['size', 'name']).agg({'order_id':'count','quantity':'sum','amount':'sum'}).\n",
    "            sort_values(by='quantity', ascending=False).reset_index())\n",
    "most_qty.rename(columns={'size':'Size', 'name':'Name', 'order_id':'Orders', 'quantity':'QTY', 'amount':'Revenue'}, inplace=True)\n",
    "most_qty.head()"
   ]
  },
  {
   "cell_type": "code",
   "execution_count": null,
   "id": "62ad8ea1-ffb2-4afa-81f2-a6de053ecb7a",
   "metadata": {},
   "outputs": [],
   "source": [
    "# size wise contribution to Quantity and Revenue\n",
    "fig = make_subplots(rows=1, cols=2, specs=[[{'type': 'pie'}, {'type': 'pie'}]],subplot_titles=(\"Size-wise contribution to Quantity\",\n",
    "                                                                                              \"Size-wise contribution to Revenue\"))\n",
    "colors = ['mediumturquoise', 'gold', 'lightgreen', 'darkorange']\n",
    "\n",
    "fig.add_trace(go.Pie(\n",
    "values = size_oqr['QTY'],\n",
    "labels = size_oqr['Size'],\n",
    "# domain = dict(x=[0, 0.5]),\n",
    "name = 'QTY'\n",
    "),\n",
    "row = 1, col = 1)\n",
    "fig.add_trace(go.Pie(\n",
    "values = size_oqr['Revenue'],\n",
    "labels = size_oqr['Size'],\n",
    "# domain = dict(x=[0.5, 1.0]),\n",
    "name = 'Revenue'\n",
    "),\n",
    "row = 1, col = 2)\n",
    "fig.update_traces(marker=dict(colors=colors, line=dict(color='#000000', width=1)), pull=[0.1,0,0,0,0.2])"
   ]
  },
  {
   "cell_type": "markdown",
   "id": "1b6dcae5-90af-4a30-9213-41eab0bea78a",
   "metadata": {},
   "source": [
    "![example image](images/newplot2.png)"
   ]
  },
  {
   "cell_type": "code",
   "execution_count": null,
   "id": "bddb1cc1-d337-4cf9-a6d4-779c61956612",
   "metadata": {},
   "outputs": [],
   "source": [
    "# top 3 pizza in each size by Revenue\n",
    "pizza_size = df.groupby(['size', 'name'])['amount'].sum().round(2).reset_index()\n",
    "pizza_size_rnk = pizza_size.assign(rnk=pizza_size.groupby('size')['amount'].rank(ascending=False, method='dense')) \n",
    "pizza_size_rnk3 = pizza_size_rnk[pizza_size_rnk['rnk'].isin([1,2,3])]\n",
    "px.bar(pizza_size_rnk3, x='size', y='amount', color='name', barmode='group', labels={'size':'Size', 'amount':'Revenue'})"
   ]
  },
  {
   "cell_type": "markdown",
   "id": "f4ea3c71-a6ac-4ad1-8e74-2350d38867a6",
   "metadata": {},
   "source": [
    "![example image](images/newplot3.png)"
   ]
  },
  {
   "cell_type": "code",
   "execution_count": null,
   "id": "02f2301d-d422-4b1e-86be-77d0a11ab006",
   "metadata": {},
   "outputs": [],
   "source": [
    "# Size wise Revenue\n",
    "px.bar(size_pivot, barmode='group', labels={'value':'Revenue','size':'Size'}, text='value')"
   ]
  },
  {
   "cell_type": "markdown",
   "id": "f143f722-c31d-4ae7-bb85-5c28a1edb5ff",
   "metadata": {},
   "source": [
    "![example image](images/newplot4.png)"
   ]
  },
  {
   "cell_type": "code",
   "execution_count": null,
   "id": "69bb04d7-e794-49ae-ba15-5405988b68d0",
   "metadata": {},
   "outputs": [],
   "source": [
    "# Group by 'name' and sum 'quantity' and 'amount'\n",
    "pizza_name = df.groupby('name')[['quantity', 'amount']].sum().reset_index()\n",
    "\n",
    "# Rename columns\n",
    "pizza_name.rename(columns={'name': 'Name', 'quantity': 'QTY', 'amount': 'Revenue'}, inplace=True)\n",
    "\n",
    "# Sort by quantity in descending order\n",
    "pizza_name_sorted = pizza_name.sort_values(by='QTY', ascending=False)\n",
    "\n",
    "# Sum the last 10 pizzas by quantity and create a new entry 'Others'\n",
    "others = pizza_name_sorted.tail(10)[['QTY']].sum()\n",
    "others_row = pd.DataFrame({'Name': ['Others'], 'QTY': [others['QTY']]})\n",
    "\n",
    "# Remove the last 10 rows and append the 'Others' row\n",
    "pizza_name_sorted = pizza_name_sorted.head(len(pizza_name_sorted) - 10)\n",
    "pizza_name_sorted = pizza_name_sorted._append(others_row, ignore_index=True)\n",
    "\n",
    "px.pie(data_frame=pizza_name_sorted, names='Name', values='QTY',color_discrete_sequence=px.colors.sequential.Turbo,\n",
    "       title='Quantity Sold by Pizza-Name',\n",
    "       hole=0.6\n",
    "      ).update_layout(margin=dict(l=150, r=10, t=50, b=10))"
   ]
  },
  {
   "cell_type": "markdown",
   "id": "943fc697-0661-4daf-9c96-05eaa0f4b33b",
   "metadata": {},
   "source": [
    "![example image](images/newplot5.png)"
   ]
  },
  {
   "cell_type": "code",
   "execution_count": 23,
   "id": "7e12bbc6-e96b-4594-9db6-84f9b3513197",
   "metadata": {},
   "outputs": [
    {
     "data": {
      "text/html": [
       "<div>\n",
       "<style scoped>\n",
       "    .dataframe tbody tr th:only-of-type {\n",
       "        vertical-align: middle;\n",
       "    }\n",
       "\n",
       "    .dataframe tbody tr th {\n",
       "        vertical-align: top;\n",
       "    }\n",
       "\n",
       "    .dataframe thead th {\n",
       "        text-align: right;\n",
       "    }\n",
       "</style>\n",
       "<table border=\"1\" class=\"dataframe\">\n",
       "  <thead>\n",
       "    <tr style=\"text-align: right;\">\n",
       "      <th></th>\n",
       "      <th>day</th>\n",
       "      <th>quantity</th>\n",
       "    </tr>\n",
       "  </thead>\n",
       "  <tbody>\n",
       "    <tr>\n",
       "      <th>0</th>\n",
       "      <td>Monday</td>\n",
       "      <td>7723</td>\n",
       "    </tr>\n",
       "    <tr>\n",
       "      <th>1</th>\n",
       "      <td>Tuesday</td>\n",
       "      <td>7277</td>\n",
       "    </tr>\n",
       "    <tr>\n",
       "      <th>2</th>\n",
       "      <td>Sunday</td>\n",
       "      <td>7243</td>\n",
       "    </tr>\n",
       "    <tr>\n",
       "      <th>3</th>\n",
       "      <td>Saturday</td>\n",
       "      <td>6907</td>\n",
       "    </tr>\n",
       "    <tr>\n",
       "      <th>4</th>\n",
       "      <td>Friday</td>\n",
       "      <td>6833</td>\n",
       "    </tr>\n",
       "    <tr>\n",
       "      <th>5</th>\n",
       "      <td>Thursday</td>\n",
       "      <td>6587</td>\n",
       "    </tr>\n",
       "    <tr>\n",
       "      <th>6</th>\n",
       "      <td>Wednesday</td>\n",
       "      <td>6063</td>\n",
       "    </tr>\n",
       "  </tbody>\n",
       "</table>\n",
       "</div>"
      ],
      "text/plain": [
       "         day  quantity\n",
       "0     Monday      7723\n",
       "1    Tuesday      7277\n",
       "2     Sunday      7243\n",
       "3   Saturday      6907\n",
       "4     Friday      6833\n",
       "5   Thursday      6587\n",
       "6  Wednesday      6063"
      ]
     },
     "execution_count": 23,
     "metadata": {},
     "output_type": "execute_result"
    }
   ],
   "source": [
    "# days wise quantity distribution\n",
    "df['date'].dt.day_name().value_counts().reset_index().rename(columns={'date': 'day', 'count': 'quantity'})"
   ]
  },
  {
   "cell_type": "code",
   "execution_count": 6,
   "id": "9a2ff1e0-b920-4a03-b5a7-11f49831807e",
   "metadata": {},
   "outputs": [
    {
     "data": {
      "text/html": [
       "<div>\n",
       "<style scoped>\n",
       "    .dataframe tbody tr th:only-of-type {\n",
       "        vertical-align: middle;\n",
       "    }\n",
       "\n",
       "    .dataframe tbody tr th {\n",
       "        vertical-align: top;\n",
       "    }\n",
       "\n",
       "    .dataframe thead th {\n",
       "        text-align: right;\n",
       "    }\n",
       "</style>\n",
       "<table border=\"1\" class=\"dataframe\">\n",
       "  <thead>\n",
       "    <tr style=\"text-align: right;\">\n",
       "      <th></th>\n",
       "      <th>order_details_id</th>\n",
       "      <th>order_id</th>\n",
       "      <th>pizza_id</th>\n",
       "      <th>quantity</th>\n",
       "      <th>date</th>\n",
       "      <th>time</th>\n",
       "      <th>pizza_type_id</th>\n",
       "      <th>size</th>\n",
       "      <th>price</th>\n",
       "      <th>name</th>\n",
       "      <th>category</th>\n",
       "      <th>ingredients</th>\n",
       "      <th>amount</th>\n",
       "      <th>month_name</th>\n",
       "      <th>hour</th>\n",
       "    </tr>\n",
       "  </thead>\n",
       "  <tbody>\n",
       "    <tr>\n",
       "      <th>0</th>\n",
       "      <td>1</td>\n",
       "      <td>1</td>\n",
       "      <td>hawaiian_m</td>\n",
       "      <td>1</td>\n",
       "      <td>2023-01-01</td>\n",
       "      <td>1900-01-01 11:38:36</td>\n",
       "      <td>hawaiian</td>\n",
       "      <td>M</td>\n",
       "      <td>13.25</td>\n",
       "      <td>The Hawaiian Pizza</td>\n",
       "      <td>Classic</td>\n",
       "      <td>Sliced Ham, Pineapple, Mozzarella Cheese</td>\n",
       "      <td>13.25</td>\n",
       "      <td>January</td>\n",
       "      <td>11</td>\n",
       "    </tr>\n",
       "    <tr>\n",
       "      <th>1</th>\n",
       "      <td>2</td>\n",
       "      <td>2</td>\n",
       "      <td>classic_dlx_m</td>\n",
       "      <td>1</td>\n",
       "      <td>2023-01-01</td>\n",
       "      <td>1900-01-01 11:57:40</td>\n",
       "      <td>classic_dlx</td>\n",
       "      <td>M</td>\n",
       "      <td>16.00</td>\n",
       "      <td>The Classic Deluxe Pizza</td>\n",
       "      <td>Classic</td>\n",
       "      <td>Pepperoni, Mushrooms, Red Onions, Red Peppers,...</td>\n",
       "      <td>16.00</td>\n",
       "      <td>January</td>\n",
       "      <td>11</td>\n",
       "    </tr>\n",
       "  </tbody>\n",
       "</table>\n",
       "</div>"
      ],
      "text/plain": [
       "   order_details_id  order_id       pizza_id  quantity       date  \\\n",
       "0                 1         1     hawaiian_m         1 2023-01-01   \n",
       "1                 2         2  classic_dlx_m         1 2023-01-01   \n",
       "\n",
       "                 time pizza_type_id size  price                      name  \\\n",
       "0 1900-01-01 11:38:36      hawaiian    M  13.25        The Hawaiian Pizza   \n",
       "1 1900-01-01 11:57:40   classic_dlx    M  16.00  The Classic Deluxe Pizza   \n",
       "\n",
       "  category                                        ingredients  amount  \\\n",
       "0  Classic           Sliced Ham, Pineapple, Mozzarella Cheese   13.25   \n",
       "1  Classic  Pepperoni, Mushrooms, Red Onions, Red Peppers,...   16.00   \n",
       "\n",
       "  month_name  hour  \n",
       "0    January    11  \n",
       "1    January    11  "
      ]
     },
     "execution_count": 6,
     "metadata": {},
     "output_type": "execute_result"
    }
   ],
   "source": [
    "# add month_name and hour features to df\n",
    "df_month = df.assign(month_name=df['date'].dt.month_name())\n",
    "df_month['hour'] = df_month['time'].dt.hour\n",
    "df_month.head(2)"
   ]
  },
  {
   "cell_type": "code",
   "execution_count": null,
   "id": "0ffbad85-4b27-4aa0-9f16-39cec23bf16a",
   "metadata": {},
   "outputs": [],
   "source": [
    "# filtering and grouping of respective columns\n",
    "month_jan = (df_month.query('month_name == \"January\"').filter(['month_name', 'hour', 'quantity']).\n",
    "             groupby('hour')['quantity'].sum().reset_index())\n",
    "\n",
    "month_feb = (df_month.query('month_name == \"February\"').filter(['month_name', 'hour', 'quantity']).\n",
    "             groupby('hour')['quantity'].sum().reset_index())\n",
    "\n",
    "month_mar = (df_month.query('month_name == \"March\"').filter(['month_name', 'hour', 'quantity']).\n",
    "             groupby('hour')['quantity'].sum().reset_index())\n",
    "month_mar\n",
    "\n",
    "# clubing the three months in one chart for comparison\n",
    "fig = go.Figure()\n",
    "\n",
    "fig.add_trace(\n",
    "    go.Scatter(x=month_jan['hour'], y=month_jan['quantity'], mode='lines+markers', name='Jan', marker=dict(symbol='circle', size=6))\n",
    ")\n",
    "\n",
    "fig.add_trace(\n",
    "    go.Scatter(x=month_feb['hour'], y=month_feb['quantity'], mode='lines+markers', name='Feb', marker=dict(symbol='circle', size=6))\n",
    ")\n",
    "\n",
    "fig.add_trace(\n",
    "    go.Scatter(x=month_mar['hour'], y=month_mar['quantity'], mode='lines+markers', name='Mar', marker=dict(symbol='circle-dot', size=6))\n",
    ")\n",
    "\n",
    "fig.update_xaxes(nticks=25)\n",
    "\n",
    "fig.update_layout(height=600, width=1160, title_text=\"Time-Series Analysis\",\n",
    "                 xaxis_title='Hour',yaxis_title='Quantity',showlegend=True,\n",
    "    legend=dict(\n",
    "        title=\"Months\",\n",
    "        x=0.8,\n",
    "        y=1,\n",
    "        traceorder=\"normal\"))"
   ]
  },
  {
   "cell_type": "markdown",
   "id": "a4304e1a-02fa-4559-b4d3-aecb1af485b5",
   "metadata": {},
   "source": [
    "![example image](images/newplot6.png)"
   ]
  },
  {
   "cell_type": "code",
   "execution_count": null,
   "id": "e480a4dd-2e88-4e1c-a168-787c962cd2ee",
   "metadata": {},
   "outputs": [],
   "source": [
    "# Quarter wise trend analysis\n",
    "fig = go.Figure()\n",
    "\n",
    "fig.add_trace(go.Scatter(x=qtr_1['hour'],y=qtr_1['quantity'],mode='lines+markers',name='Q1',marker=dict(symbol='circle',size=6)))\n",
    "fig.add_trace(go.Scatter(x=qtr_2['hour'],y=qtr_2['quantity'],mode='lines+markers',name='Q2',marker=dict(symbol='circle',size=6)))\n",
    "fig.add_trace(go.Scatter(x=qtr_3['hour'],y=qtr_3['quantity'],mode='lines+markers',name='Q3',marker=dict(symbol='circle',size=6)))\n",
    "fig.add_trace(go.Scatter(x=qtr_4['hour'],y=qtr_4['quantity'],mode='lines+markers',name='Q4',marker=dict(symbol='circle',size=6)))\n",
    "\n",
    "fig.update_xaxes(nticks=25)\n",
    "fig.update_yaxes(nticks=20)\n",
    "fig.update_layout(title_text='Quaterly Time-Series Analysis',height=700,width=1160,xaxis_title='Hour',yaxis_title='Quantity',showlegend=True,\n",
    "                  legend=dict(title='Quarters',x=0.8,y=1))"
   ]
  },
  {
   "cell_type": "markdown",
   "id": "efd4667b-dff9-4f2f-a73d-82c53e166f1f",
   "metadata": {},
   "source": [
    "![example image](images/newplot7.png)"
   ]
  },
  {
   "cell_type": "code",
   "execution_count": 7,
   "id": "d8672087-fb81-42ab-9f80-9ab4a790e137",
   "metadata": {},
   "outputs": [],
   "source": [
    "# filtering dataframe\n",
    "months_rev = df_month.groupby('month_name')['amount'].sum().reset_index()\n",
    "months_rev.rename(columns={'month_name':'Months', 'amount':'Revenue'}, inplace=True)\n",
    "months_rev['Months'] = pd.to_datetime(months_rev['Months'], format='%B').dt.strftime('%b-23')"
   ]
  },
  {
   "cell_type": "code",
   "execution_count": null,
   "id": "e24fefed-4351-4514-897d-984d0f2d1623",
   "metadata": {},
   "outputs": [],
   "source": [
    "# Revenue line chart over the year\n",
    "px.line(months_rev,'Months','Revenue',markers='circle',color_discrete_sequence=['limegreen'],title='Monthly Revenue')"
   ]
  },
  {
   "cell_type": "markdown",
   "id": "d8e23fcb-13a5-496f-9c42-06f450754945",
   "metadata": {},
   "source": [
    "![example image](images/newplot8.png)"
   ]
  },
  {
   "cell_type": "code",
   "execution_count": null,
   "id": "d1d6e911-98b9-49b8-97ae-e788d36cc5a1",
   "metadata": {},
   "outputs": [],
   "source": [
    "# Month on Month change\n",
    "months_rev['pre_rev'] = months_rev['Revenue'].shift(1)\n",
    "months_rev['MoM_change'] = ((months_rev['Revenue'] - months_rev['pre_rev']) / months_rev['pre_rev'] * 100).round(2)\n",
    "months_rev.drop(columns=['pre_rev'], inplace=True)\n",
    "months_rev.fillna({'MoM_change':0}, inplace=True)\n",
    "\n",
    "# Line chart for Month on Month Change \n",
    "fig = px.line(months_rev, x='Months', y='MoM_change', text='MoM_change', markers='circle', title='Month on Month Change')\n",
    "fig.update_traces(textposition='top right')\n",
    "fig.update_layout(margin = dict(t=40, l=30, r=30, b=30))"
   ]
  },
  {
   "cell_type": "markdown",
   "id": "b7a4031c-e5d7-4a1f-a9a8-14dad3dea4ea",
   "metadata": {},
   "source": [
    "![example image](images/newplot9.png)"
   ]
  },
  {
   "cell_type": "code",
   "execution_count": 27,
   "id": "d68a5d2a-9acf-4de0-86f3-0966616776ad",
   "metadata": {},
   "outputs": [
    {
     "name": "stdout",
     "output_type": "stream",
     "text": [
      "Three Most Negative and Positive Months\n"
     ]
    },
    {
     "data": {
      "text/html": [
       "<div>\n",
       "<style scoped>\n",
       "    .dataframe tbody tr th:only-of-type {\n",
       "        vertical-align: middle;\n",
       "    }\n",
       "\n",
       "    .dataframe tbody tr th {\n",
       "        vertical-align: top;\n",
       "    }\n",
       "\n",
       "    .dataframe thead th {\n",
       "        text-align: right;\n",
       "    }\n",
       "</style>\n",
       "<table border=\"1\" class=\"dataframe\">\n",
       "  <thead>\n",
       "    <tr style=\"text-align: right;\">\n",
       "      <th></th>\n",
       "      <th>Months</th>\n",
       "      <th>Revenue</th>\n",
       "      <th>MoM_change</th>\n",
       "      <th>rnk</th>\n",
       "    </tr>\n",
       "  </thead>\n",
       "  <tbody>\n",
       "    <tr>\n",
       "      <th>0</th>\n",
       "      <td>Dec-23</td>\n",
       "      <td>61058.10</td>\n",
       "      <td>-12.14</td>\n",
       "      <td>12.0</td>\n",
       "    </tr>\n",
       "    <tr>\n",
       "      <th>1</th>\n",
       "      <td>Sep-23</td>\n",
       "      <td>63836.85</td>\n",
       "      <td>-6.33</td>\n",
       "      <td>11.0</td>\n",
       "    </tr>\n",
       "    <tr>\n",
       "      <th>2</th>\n",
       "      <td>May-23</td>\n",
       "      <td>67648.80</td>\n",
       "      <td>-5.13</td>\n",
       "      <td>10.0</td>\n",
       "    </tr>\n",
       "    <tr>\n",
       "      <th>3</th>\n",
       "      <td>Jan-23</td>\n",
       "      <td>71620.15</td>\n",
       "      <td>11.18</td>\n",
       "      <td>1.0</td>\n",
       "    </tr>\n",
       "    <tr>\n",
       "      <th>4</th>\n",
       "      <td>Feb-23</td>\n",
       "      <td>64419.45</td>\n",
       "      <td>5.51</td>\n",
       "      <td>2.0</td>\n",
       "    </tr>\n",
       "    <tr>\n",
       "      <th>5</th>\n",
       "      <td>Nov-23</td>\n",
       "      <td>71004.85</td>\n",
       "      <td>4.96</td>\n",
       "      <td>3.0</td>\n",
       "    </tr>\n",
       "  </tbody>\n",
       "</table>\n",
       "</div>"
      ],
      "text/plain": [
       "   Months   Revenue  MoM_change   rnk\n",
       "0  Dec-23  61058.10      -12.14  12.0\n",
       "1  Sep-23  63836.85       -6.33  11.0\n",
       "2  May-23  67648.80       -5.13  10.0\n",
       "3  Jan-23  71620.15       11.18   1.0\n",
       "4  Feb-23  64419.45        5.51   2.0\n",
       "5  Nov-23  71004.85        4.96   3.0"
      ]
     },
     "execution_count": 27,
     "metadata": {},
     "output_type": "execute_result"
    }
   ],
   "source": [
    "# Three of the most negative and positive months over the year\n",
    "print(\"Three Most Negative and Positive Months\")\n",
    "months_rev_rnk = months_rev.assign(rnk=months_rev['MoM_change'].rank(ascending=False)).sort_values(by='rnk')\n",
    "pd.concat([months_rev_rnk.nlargest(3, 'rnk'),\n",
    "months_rev_rnk.nsmallest(3, 'rnk')], ignore_index=True)"
   ]
  },
  {
   "cell_type": "code",
   "execution_count": 29,
   "id": "dfbe8925-8fab-4a91-894c-d132ddfcd04c",
   "metadata": {},
   "outputs": [
    {
     "data": {
      "text/html": [
       "<div>\n",
       "<style scoped>\n",
       "    .dataframe tbody tr th:only-of-type {\n",
       "        vertical-align: middle;\n",
       "    }\n",
       "\n",
       "    .dataframe tbody tr th {\n",
       "        vertical-align: top;\n",
       "    }\n",
       "\n",
       "    .dataframe thead th {\n",
       "        text-align: right;\n",
       "    }\n",
       "</style>\n",
       "<table border=\"1\" class=\"dataframe\">\n",
       "  <thead>\n",
       "    <tr style=\"text-align: right;\">\n",
       "      <th>month_name</th>\n",
       "      <th>April</th>\n",
       "      <th>August</th>\n",
       "      <th>December</th>\n",
       "      <th>February</th>\n",
       "      <th>January</th>\n",
       "      <th>July</th>\n",
       "      <th>June</th>\n",
       "      <th>March</th>\n",
       "      <th>May</th>\n",
       "      <th>November</th>\n",
       "      <th>October</th>\n",
       "      <th>September</th>\n",
       "    </tr>\n",
       "    <tr>\n",
       "      <th>category</th>\n",
       "      <th></th>\n",
       "      <th></th>\n",
       "      <th></th>\n",
       "      <th></th>\n",
       "      <th></th>\n",
       "      <th></th>\n",
       "      <th></th>\n",
       "      <th></th>\n",
       "      <th></th>\n",
       "      <th></th>\n",
       "      <th></th>\n",
       "      <th></th>\n",
       "    </tr>\n",
       "  </thead>\n",
       "  <tbody>\n",
       "    <tr>\n",
       "      <th>Chicken</th>\n",
       "      <td>17113.5</td>\n",
       "      <td>16579.50</td>\n",
       "      <td>14535.25</td>\n",
       "      <td>16273.25</td>\n",
       "      <td>16696.25</td>\n",
       "      <td>16758.5</td>\n",
       "      <td>16212.50</td>\n",
       "      <td>17055.75</td>\n",
       "      <td>16174.25</td>\n",
       "      <td>16472.25</td>\n",
       "      <td>15690.00</td>\n",
       "      <td>16489.25</td>\n",
       "    </tr>\n",
       "    <tr>\n",
       "      <th>Classic</th>\n",
       "      <td>19137.9</td>\n",
       "      <td>19003.45</td>\n",
       "      <td>16413.65</td>\n",
       "      <td>17209.10</td>\n",
       "      <td>19236.40</td>\n",
       "      <td>19102.2</td>\n",
       "      <td>18307.40</td>\n",
       "      <td>19106.60</td>\n",
       "      <td>18223.35</td>\n",
       "      <td>18303.85</td>\n",
       "      <td>18281.35</td>\n",
       "      <td>17656.60</td>\n",
       "    </tr>\n",
       "    <tr>\n",
       "      <th>Supreme</th>\n",
       "      <td>17566.9</td>\n",
       "      <td>17699.45</td>\n",
       "      <td>15289.60</td>\n",
       "      <td>16066.85</td>\n",
       "      <td>18324.85</td>\n",
       "      <td>18385.0</td>\n",
       "      <td>17690.35</td>\n",
       "      <td>17457.25</td>\n",
       "      <td>17761.65</td>\n",
       "      <td>18555.00</td>\n",
       "      <td>18146.20</td>\n",
       "      <td>15350.00</td>\n",
       "    </tr>\n",
       "    <tr>\n",
       "      <th>Veggie</th>\n",
       "      <td>16493.7</td>\n",
       "      <td>16214.90</td>\n",
       "      <td>14819.60</td>\n",
       "      <td>14870.25</td>\n",
       "      <td>17362.65</td>\n",
       "      <td>16810.9</td>\n",
       "      <td>15951.20</td>\n",
       "      <td>17686.50</td>\n",
       "      <td>15489.55</td>\n",
       "      <td>17673.75</td>\n",
       "      <td>16034.65</td>\n",
       "      <td>14341.00</td>\n",
       "    </tr>\n",
       "    <tr>\n",
       "      <th>total</th>\n",
       "      <td>70312.0</td>\n",
       "      <td>69497.30</td>\n",
       "      <td>61058.10</td>\n",
       "      <td>64419.45</td>\n",
       "      <td>71620.15</td>\n",
       "      <td>71056.6</td>\n",
       "      <td>68161.45</td>\n",
       "      <td>71306.10</td>\n",
       "      <td>67648.80</td>\n",
       "      <td>71004.85</td>\n",
       "      <td>68152.20</td>\n",
       "      <td>63836.85</td>\n",
       "    </tr>\n",
       "  </tbody>\n",
       "</table>\n",
       "</div>"
      ],
      "text/plain": [
       "month_name    April    August  December  February   January     July  \\\n",
       "category                                                               \n",
       "Chicken     17113.5  16579.50  14535.25  16273.25  16696.25  16758.5   \n",
       "Classic     19137.9  19003.45  16413.65  17209.10  19236.40  19102.2   \n",
       "Supreme     17566.9  17699.45  15289.60  16066.85  18324.85  18385.0   \n",
       "Veggie      16493.7  16214.90  14819.60  14870.25  17362.65  16810.9   \n",
       "total       70312.0  69497.30  61058.10  64419.45  71620.15  71056.6   \n",
       "\n",
       "month_name      June     March       May  November   October  September  \n",
       "category                                                                 \n",
       "Chicken     16212.50  17055.75  16174.25  16472.25  15690.00   16489.25  \n",
       "Classic     18307.40  19106.60  18223.35  18303.85  18281.35   17656.60  \n",
       "Supreme     17690.35  17457.25  17761.65  18555.00  18146.20   15350.00  \n",
       "Veggie      15951.20  17686.50  15489.55  17673.75  16034.65   14341.00  \n",
       "total       68161.45  71306.10  67648.80  71004.85  68152.20   63836.85  "
      ]
     },
     "execution_count": 29,
     "metadata": {},
     "output_type": "execute_result"
    }
   ],
   "source": [
    "# pivot table by months\n",
    "month_pivot = df_month.pivot_table(\n",
    "    values='amount',\n",
    "    columns='month_name',\n",
    "    index='category',\n",
    "    aggfunc='sum'\n",
    ")\n",
    "month_pivot.loc['total'] = month_pivot.sum(axis=0)\n",
    "month_pivot"
   ]
  },
  {
   "cell_type": "code",
   "execution_count": 8,
   "id": "32f1afec-eed6-44d8-a739-04e464ab4dca",
   "metadata": {},
   "outputs": [],
   "source": [
    "df_month['week'] = df_month['date'].dt.strftime('%U')"
   ]
  },
  {
   "cell_type": "code",
   "execution_count": 9,
   "id": "0b3ff7b0-c299-47d4-a802-8a26320a1dc9",
   "metadata": {},
   "outputs": [
    {
     "data": {
      "text/html": [
       "<div>\n",
       "<style scoped>\n",
       "    .dataframe tbody tr th:only-of-type {\n",
       "        vertical-align: middle;\n",
       "    }\n",
       "\n",
       "    .dataframe tbody tr th {\n",
       "        vertical-align: top;\n",
       "    }\n",
       "\n",
       "    .dataframe thead th {\n",
       "        text-align: right;\n",
       "    }\n",
       "</style>\n",
       "<table border=\"1\" class=\"dataframe\">\n",
       "  <thead>\n",
       "    <tr style=\"text-align: right;\">\n",
       "      <th></th>\n",
       "      <th>week</th>\n",
       "      <th>Revenue</th>\n",
       "      <th>WoW_change</th>\n",
       "    </tr>\n",
       "  </thead>\n",
       "  <tbody>\n",
       "    <tr>\n",
       "      <th>0</th>\n",
       "      <td>01</td>\n",
       "      <td>17549.65</td>\n",
       "      <td>0.00</td>\n",
       "    </tr>\n",
       "    <tr>\n",
       "      <th>1</th>\n",
       "      <td>02</td>\n",
       "      <td>16635.90</td>\n",
       "      <td>-5.21</td>\n",
       "    </tr>\n",
       "    <tr>\n",
       "      <th>2</th>\n",
       "      <td>03</td>\n",
       "      <td>15445.50</td>\n",
       "      <td>-7.16</td>\n",
       "    </tr>\n",
       "  </tbody>\n",
       "</table>\n",
       "</div>"
      ],
      "text/plain": [
       "  week   Revenue  WoW_change\n",
       "0   01  17549.65        0.00\n",
       "1   02  16635.90       -5.21\n",
       "2   03  15445.50       -7.16"
      ]
     },
     "execution_count": 9,
     "metadata": {},
     "output_type": "execute_result"
    }
   ],
   "source": [
    "# group amount by week\n",
    "wow1 = df_month.groupby('week')['amount'].sum().reset_index(name='amount')\n",
    "\n",
    "# Week on Week change\n",
    "wow1['pre_rev'] = wow1['amount'].shift(1)\n",
    "wow1['WoW_change'] = ((wow1['amount'] - wow1['pre_rev']) / wow1['pre_rev'] * 100).round(2)\n",
    "wow1.drop(columns=['pre_rev'], inplace=True)\n",
    "wow1.fillna({'WoW_change': 0}, inplace=True)\n",
    "wow1.rename(columns={'amount': 'Revenue'}, inplace=True)\n",
    "wow1.head(3)"
   ]
  },
  {
   "cell_type": "code",
   "execution_count": null,
   "id": "65341d85-f89c-4706-b424-ea51b2ff84a5",
   "metadata": {},
   "outputs": [],
   "source": [
    "sales = wow1['WoW_change']\n",
    "months = wow1['week']\n",
    "\n",
    "# Initialize the figure\n",
    "fig = go.Figure()\n",
    "\n",
    "# Loop through the data and plot segments with different colors\n",
    "for i in range(1, len(sales)):\n",
    "    color = 'green' if sales[i] > sales[i - 1] else 'red'\n",
    "    \n",
    "    # Plot each line segment between consecutive months\n",
    "    fig.add_trace(go.Scatter(\n",
    "        x=[months[i - 1], months[i]],\n",
    "        y=[sales[i - 1], sales[i]],\n",
    "        mode='lines',\n",
    "        line=dict(color=color, width=4),\n",
    "        showlegend=False\n",
    "    ))\n",
    "\n",
    "# Customize layout\n",
    "fig.update_layout(\n",
    "    title=\"Week on Week Change\",\n",
    "    xaxis_title=\"Month\",\n",
    "    yaxis_title=\"Sales\",\n",
    "    xaxis=dict(tickmode='array', tickvals=months),\n",
    "    template='plotly_white'\n",
    ")\n",
    "\n",
    "# Show the plot\n",
    "fig.show()"
   ]
  },
  {
   "cell_type": "markdown",
   "id": "3dc606f0-706c-453d-8d52-96dfc2b2dba5",
   "metadata": {},
   "source": [
    "![example image](images/newplot10.png)"
   ]
  },
  {
   "cell_type": "code",
   "execution_count": 10,
   "id": "6034cf60-0fc8-4adc-b192-30534de3e7e6",
   "metadata": {},
   "outputs": [
    {
     "name": "stdout",
     "output_type": "stream",
     "text": [
      "Five Lowest Weeks\n"
     ]
    },
    {
     "data": {
      "text/html": [
       "<div>\n",
       "<style scoped>\n",
       "    .dataframe tbody tr th:only-of-type {\n",
       "        vertical-align: middle;\n",
       "    }\n",
       "\n",
       "    .dataframe tbody tr th {\n",
       "        vertical-align: top;\n",
       "    }\n",
       "\n",
       "    .dataframe thead th {\n",
       "        text-align: right;\n",
       "    }\n",
       "</style>\n",
       "<table border=\"1\" class=\"dataframe\">\n",
       "  <thead>\n",
       "    <tr style=\"text-align: right;\">\n",
       "      <th></th>\n",
       "      <th>week</th>\n",
       "      <th>Revenue</th>\n",
       "      <th>WoW_change</th>\n",
       "      <th>rnk</th>\n",
       "    </tr>\n",
       "  </thead>\n",
       "  <tbody>\n",
       "    <tr>\n",
       "      <th>0</th>\n",
       "      <td>53</td>\n",
       "      <td>2916.00</td>\n",
       "      <td>-69.40</td>\n",
       "      <td>1.0</td>\n",
       "    </tr>\n",
       "    <tr>\n",
       "      <th>1</th>\n",
       "      <td>52</td>\n",
       "      <td>9528.15</td>\n",
       "      <td>-38.15</td>\n",
       "      <td>2.0</td>\n",
       "    </tr>\n",
       "    <tr>\n",
       "      <th>2</th>\n",
       "      <td>39</td>\n",
       "      <td>11556.95</td>\n",
       "      <td>-25.65</td>\n",
       "      <td>3.0</td>\n",
       "    </tr>\n",
       "    <tr>\n",
       "      <th>3</th>\n",
       "      <td>49</td>\n",
       "      <td>15567.05</td>\n",
       "      <td>-18.05</td>\n",
       "      <td>4.0</td>\n",
       "    </tr>\n",
       "    <tr>\n",
       "      <th>4</th>\n",
       "      <td>43</td>\n",
       "      <td>13152.70</td>\n",
       "      <td>-17.32</td>\n",
       "      <td>5.0</td>\n",
       "    </tr>\n",
       "  </tbody>\n",
       "</table>\n",
       "</div>"
      ],
      "text/plain": [
       "  week   Revenue  WoW_change  rnk\n",
       "0   53   2916.00      -69.40  1.0\n",
       "1   52   9528.15      -38.15  2.0\n",
       "2   39  11556.95      -25.65  3.0\n",
       "3   49  15567.05      -18.05  4.0\n",
       "4   43  13152.70      -17.32  5.0"
      ]
     },
     "execution_count": 10,
     "metadata": {},
     "output_type": "execute_result"
    }
   ],
   "source": [
    "# Top 5 Negative weeks in a year\n",
    "print(\"Five Lowest Weeks\")\n",
    "wow1.assign(rnk=wow1['WoW_change'].rank(ascending=True, method='dense')).sort_values(by='rnk')[:5].reset_index(drop=True)"
   ]
  },
  {
   "cell_type": "code",
   "execution_count": 12,
   "id": "70d88a42-0330-4ee3-97fd-1fe5395f1411",
   "metadata": {},
   "outputs": [
    {
     "data": {
      "text/html": [
       "<div>\n",
       "<style scoped>\n",
       "    .dataframe tbody tr th:only-of-type {\n",
       "        vertical-align: middle;\n",
       "    }\n",
       "\n",
       "    .dataframe tbody tr th {\n",
       "        vertical-align: top;\n",
       "    }\n",
       "\n",
       "    .dataframe thead th {\n",
       "        text-align: right;\n",
       "    }\n",
       "</style>\n",
       "<table border=\"1\" class=\"dataframe\">\n",
       "  <thead>\n",
       "    <tr style=\"text-align: right;\">\n",
       "      <th></th>\n",
       "      <th>day</th>\n",
       "      <th>quantity</th>\n",
       "    </tr>\n",
       "  </thead>\n",
       "  <tbody>\n",
       "    <tr>\n",
       "      <th>0</th>\n",
       "      <td>Friday</td>\n",
       "      <td>6981</td>\n",
       "    </tr>\n",
       "    <tr>\n",
       "      <th>1</th>\n",
       "      <td>Monday</td>\n",
       "      <td>7859</td>\n",
       "    </tr>\n",
       "    <tr>\n",
       "      <th>2</th>\n",
       "      <td>Saturday</td>\n",
       "      <td>7058</td>\n",
       "    </tr>\n",
       "    <tr>\n",
       "      <th>3</th>\n",
       "      <td>Sunday</td>\n",
       "      <td>7387</td>\n",
       "    </tr>\n",
       "    <tr>\n",
       "      <th>4</th>\n",
       "      <td>Thursday</td>\n",
       "      <td>6695</td>\n",
       "    </tr>\n",
       "    <tr>\n",
       "      <th>5</th>\n",
       "      <td>Tuesday</td>\n",
       "      <td>7411</td>\n",
       "    </tr>\n",
       "    <tr>\n",
       "      <th>6</th>\n",
       "      <td>Wednesday</td>\n",
       "      <td>6197</td>\n",
       "    </tr>\n",
       "  </tbody>\n",
       "</table>\n",
       "</div>"
      ],
      "text/plain": [
       "         day  quantity\n",
       "0     Friday      6981\n",
       "1     Monday      7859\n",
       "2   Saturday      7058\n",
       "3     Sunday      7387\n",
       "4   Thursday      6695\n",
       "5    Tuesday      7411\n",
       "6  Wednesday      6197"
      ]
     },
     "execution_count": 12,
     "metadata": {},
     "output_type": "execute_result"
    }
   ],
   "source": [
    "# add day feature to the df\n",
    "df_month['day'] = df_month['date'].dt.day_name()\n",
    "\n",
    "# day wise total quantity sold over the year\n",
    "df_month.groupby('day')['quantity'].sum().reset_index()"
   ]
  },
  {
   "cell_type": "code",
   "execution_count": 94,
   "id": "75e014b9-7598-4f7b-9f68-cb08e97c0186",
   "metadata": {},
   "outputs": [],
   "source": [
    "# Initialize a dictionary to hold the results for each day\n",
    "daily_data = {}\n",
    "\n",
    "# List of days to iterate over\n",
    "days_order = ['Monday', 'Tuesday', 'Wednesday', 'Thursday', 'Friday', 'Saturday', 'Sunday']\n",
    "\n",
    "# Loop through each day, filter, and group by hour\n",
    "for day in days_order:\n",
    "    daily_data[day] = df_month.query('day == @day').groupby('hour')['quantity'].sum().reset_index()\n",
    "\n",
    "# Now, daily_data contains DataFrames for each day of the week\n",
    "# For example, to access Monday's data:\n",
    "# day_mon = daily_data['Monday']"
   ]
  },
  {
   "cell_type": "code",
   "execution_count": null,
   "id": "b505e2f0-f312-4fcc-b2e8-37e120c60f4e",
   "metadata": {},
   "outputs": [],
   "source": [
    "# Days time series analysis by quantity sold \n",
    "fig = go.Figure()\n",
    "\n",
    "fig.add_trace(\n",
    "    go.Scatter(x=daily_data['Monday'].hour, y=daily_data['Monday'].quantity, mode='lines+markers', name='Mon',\n",
    "               marker=dict(symbol='circle', size=6))\n",
    ")\n",
    "\n",
    "fig.add_trace(\n",
    "    go.Scatter(x=daily_data['Tuesday'].hour, y=daily_data['Tuesday'].quantity, mode='lines+markers', name='Tue',\n",
    "               marker=dict(symbol='circle', size=6))\n",
    ")\n",
    "\n",
    "fig.add_trace(\n",
    "    go.Scatter(x=daily_data['Wednesday'].hour, y=daily_data['Wednesday'].quantity, mode='lines+markers', name='Wed',\n",
    "               marker=dict(symbol='circle-dot', size=6))\n",
    ")\n",
    "\n",
    "fig.add_trace(\n",
    "    go.Scatter(x=daily_data['Thursday'].hour, y=daily_data['Thursday'].quantity, mode='lines+markers', name='Thur',\n",
    "               marker=dict(symbol='circle-dot', size=6))\n",
    ")\n",
    "\n",
    "fig.add_trace(\n",
    "    go.Scatter(x=daily_data['Friday'].hour, y=daily_data['Friday'].quantity, mode='lines+markers', name='Fri',\n",
    "               marker=dict(symbol='circle-dot', size=6))\n",
    ")\n",
    "\n",
    "fig.add_trace(\n",
    "    go.Scatter(x=daily_data['Saturday'].hour, y=daily_data['Saturday'].quantity, mode='lines+markers', name='Sat',\n",
    "               marker=dict(symbol='circle-dot', size=6))\n",
    ")\n",
    "\n",
    "fig.add_trace(\n",
    "    go.Scatter(x=daily_data['Sunday'].hour, y=daily_data['Sunday'].quantity, mode='lines+markers', name='Sun',\n",
    "               marker=dict(symbol='circle-dot', size=6))\n",
    ")\n",
    "\n",
    "fig.update_xaxes(nticks=25)\n",
    "\n",
    "fig.update_layout(height=600, width=1160, title_text=\"Sales by Days over Time\",\n",
    "                 xaxis_title='Hour',yaxis_title='Quantity',showlegend=True,\n",
    "    legend=dict(\n",
    "        title=\"Days\",\n",
    "        x=0.8,\n",
    "        y=1,\n",
    "        traceorder=\"normal\"))"
   ]
  },
  {
   "cell_type": "markdown",
   "id": "aacec312-279a-4914-af94-f20a70e8f94a",
   "metadata": {},
   "source": [
    "![example image](images/newplot11.png)"
   ]
  },
  {
   "cell_type": "code",
   "execution_count": 14,
   "id": "95095b46-9491-4145-a61e-92bd0d16f95c",
   "metadata": {},
   "outputs": [],
   "source": [
    "# filter and group columns\n",
    "cate_chicken = df_month.query('category == \"Chicken\"').groupby('hour')['quantity'].sum().reset_index()\n",
    "cate_classic = df_month.query('category == \"Classic\"').groupby('hour')['quantity'].sum().reset_index()\n",
    "cate_supreme = df_month.query('category == \"Supreme\"').groupby('hour')['quantity'].sum().reset_index()\n",
    "cate_veggie = df_month.query('category == \"Veggie\"').groupby('hour')['quantity'].sum().reset_index()"
   ]
  },
  {
   "cell_type": "code",
   "execution_count": null,
   "id": "98c04c59-0f1a-479d-91f1-f03f367be2a7",
   "metadata": {},
   "outputs": [],
   "source": [
    "# category wise time series analysis\n",
    "fig = go.Figure()\n",
    "colors = ['darkorange', 'mediumturquoise', 'gold', 'lightgreen']\n",
    "\n",
    "\n",
    "fig.add_trace(\n",
    "    go.Scatter(x=cate_chicken['hour'], y=cate_chicken['quantity'], mode='lines+markers', name='Chicken', marker=dict(symbol='circle', size=6),\n",
    "              line=dict(color=colors[0]))\n",
    ")\n",
    "\n",
    "fig.add_trace(\n",
    "    go.Scatter(x=cate_classic['hour'], y=cate_classic['quantity'], mode='lines+markers', name='Classic', marker=dict(symbol='circle', size=6),\n",
    "              line=dict(color=colors[1]))\n",
    ")\n",
    "\n",
    "fig.add_trace(\n",
    "    go.Scatter(x=cate_supreme['hour'], y=cate_supreme['quantity'], mode='lines+markers', name='Supreme', marker=dict(symbol='circle-dot', size=6),\n",
    "              line=dict(color=colors[2]))\n",
    ")\n",
    "\n",
    "fig.add_trace(\n",
    "    go.Scatter(x=cate_veggie['hour'], y=cate_veggie['quantity'], mode='lines+markers', name='Veggie', marker=dict(symbol='circle-dot', size=6),\n",
    "              line=dict(color=colors[3]))\n",
    ")\n",
    "\n",
    "fig.update_xaxes(nticks=25)\n",
    "\n",
    "fig.update_layout(height=600, width=1160, title_text=\"Sales by Category over Time\",\n",
    "                 xaxis_title='Hour',yaxis_title='Quantity',showlegend=True,\n",
    "    legend=dict(\n",
    "        title=\"Category\",\n",
    "        x=0.8,\n",
    "        y=1,\n",
    "        traceorder=\"normal\"))"
   ]
  },
  {
   "cell_type": "markdown",
   "id": "23ff37cf-bfa8-4f03-b46e-df7faf76f163",
   "metadata": {},
   "source": [
    "![example image](images/newplot12.png)"
   ]
  },
  {
   "cell_type": "code",
   "execution_count": 20,
   "id": "4db31da6-7e75-4c2a-8fa4-a6d7993f6dce",
   "metadata": {},
   "outputs": [],
   "source": [
    "# Filter and group columns\n",
    "cate_chicken2 = df_month.query('category == \"Chicken\"').groupby('day')['quantity'].sum().reset_index()\n",
    "cate_classic2 = df_month.query('category == \"Classic\"').groupby('day')['quantity'].sum().reset_index()\n",
    "cate_supreme2 = df_month.query('category == \"Supreme\"').groupby('day')['quantity'].sum().reset_index()\n",
    "cate_veggie2 = df_month.query('category == \"Veggie\"').groupby('day')['quantity'].sum().reset_index()\n",
    "\n",
    "# Define the custom order for days\n",
    "days_order = ['Monday', 'Tuesday', 'Wednesday', 'Thursday', 'Friday', 'Saturday', 'Sunday']\n",
    "days_type = pd.CategoricalDtype(categories=days_order, ordered=True)\n",
    "\n",
    "# Function to convert and sort DataFrame\n",
    "def convert_and_sort(df):\n",
    "    df['day'] = df['day'].astype(days_type)\n",
    "    return df.sort_values('day').reset_index(drop=True)\n",
    "\n",
    "# Apply the function to each DataFrame\n",
    "cate_chicken2 = convert_and_sort(cate_chicken2)\n",
    "cate_classic2 = convert_and_sort(cate_classic2)\n",
    "cate_supreme2 = convert_and_sort(cate_supreme2)\n",
    "cate_veggie2 = convert_and_sort(cate_veggie2)"
   ]
  },
  {
   "cell_type": "code",
   "execution_count": null,
   "id": "f49951cd-9ea7-4f3d-b26b-b0b067321179",
   "metadata": {},
   "outputs": [],
   "source": [
    "# Category wise time series analysis by days\n",
    "fig = go.Figure()\n",
    "colors = ['darkorange', 'mediumturquoise', 'gold', 'lightgreen']\n",
    "\n",
    "\n",
    "fig.add_trace(\n",
    "    go.Scatter(x=cate_chicken2['day'], y=cate_chicken2['quantity'], mode='lines+markers', name='Chicken', marker=dict(symbol='circle', size=6),\n",
    "               line=dict(color=colors[0]))\n",
    ")\n",
    "\n",
    "fig.add_trace(\n",
    "    go.Scatter(x=cate_classic2['day'], y=cate_classic2['quantity'], mode='lines+markers', name='Classic', marker=dict(symbol='circle', size=6),\n",
    "               line=dict(color=colors[1]))\n",
    ")\n",
    "\n",
    "fig.add_trace(\n",
    "    go.Scatter(x=cate_supreme2['day'], y=cate_supreme2['quantity'], mode='lines+markers', name='Supreme', marker=dict(symbol='circle-dot', size=6),\n",
    "               line=dict(color=colors[2]))\n",
    ")\n",
    "\n",
    "fig.add_trace(\n",
    "    go.Scatter(x=cate_veggie2['day'], y=cate_veggie2['quantity'], mode='lines+markers', name='Veggie', marker=dict(symbol='circle-dot', size=6),\n",
    "               line=dict(color=colors[3]))\n",
    ")\n",
    "\n",
    "# fig.update_xaxes(nticks=25)\n",
    "\n",
    "fig.update_layout(height=600, width=1160, title_text=\"Sales by Category over Days\",\n",
    "                 xaxis_title='Day',yaxis_title='Quantity',showlegend=True,\n",
    "    legend=dict(\n",
    "        title=\"Category\",\n",
    "        x=0.3,\n",
    "        y=1,\n",
    "        traceorder=\"normal\", orientation='h'))"
   ]
  },
  {
   "cell_type": "markdown",
   "id": "caa7616d-e794-4d36-be7d-aca1beeea4cb",
   "metadata": {},
   "source": [
    "![example image](images/newplot13.png)"
   ]
  },
  {
   "cell_type": "code",
   "execution_count": 124,
   "id": "71ffdeaf-31c7-4fa1-80db-88f5ab8c5508",
   "metadata": {},
   "outputs": [],
   "source": [
    "size_data = {}\n",
    "\n",
    "size_order = ['S', 'M', 'L', 'XL', 'XXL']\n",
    "\n",
    "for size in size_order:\n",
    "    size_data[size] = df_month.query('size == @size').groupby('hour')['quantity'].sum().reset_index()"
   ]
  },
  {
   "cell_type": "code",
   "execution_count": null,
   "id": "9cfdb3fa-0d18-453b-b641-e95ed4cffdbd",
   "metadata": {},
   "outputs": [],
   "source": [
    "# Size wise time series analysis by days\n",
    "fig = go.Figure()\n",
    "colors = ['darkorange', 'mediumturquoise', 'gold', 'lightgreen', 'pink']\n",
    "\n",
    "\n",
    "fig.add_trace(\n",
    "    go.Scatter(x=size_data['S'].hour, y=size_data['S'].quantity, mode='lines+markers', name='S', marker=dict(symbol='circle', size=6),\n",
    "               line=dict(color=colors[0]))\n",
    ")\n",
    "\n",
    "fig.add_trace(\n",
    "    go.Scatterx=size_data['M'].hour, y=size_data['M'].quantity, mode='lines+markers', name='M', marker=dict(symbol='circle', size=6),\n",
    "               line=dict(color=colors[1]))\n",
    ")\n",
    "\n",
    "fig.add_trace(\n",
    "    go.Scatter(x=size_data['L'].hour, y=size_data['L'].quantity, mode='lines+markers', name='L', marker=dict(symbol='circle-dot', size=6),\n",
    "               line=dict(color=colors[2]))\n",
    ")\n",
    "\n",
    "fig.add_trace(\n",
    "    go.Scatter(x=size_data['XL'].hour, y=size_data['XL'].quantity, mode='lines+markers', name='XL', marker=dict(symbol='circle-dot', size=6),\n",
    "               line=dict(color=colors[3]))\n",
    ")\n",
    "\n",
    "fig.add_trace(\n",
    "    go.Scatter(x=size_data['XXL'].hour, y=size_data['XXL'].quantity, mode='lines+markers', name='XXL', marker=dict(symbol='circle-dot', size=6),\n",
    "               line=dict(color=colors[4]))\n",
    ")\n",
    "\n",
    "# fig.update_xaxes(nticks=25)\n",
    "\n",
    "fig.update_layout(height=600, width=1160, title_text=\"Sales by Size over Time\",\n",
    "                 xaxis_title='Day',yaxis_title='Quantity',showlegend=True,\n",
    "    legend=dict(\n",
    "        title=\"Size\",\n",
    "        orientation='h',\n",
    "        x=0.5,\n",
    "        y=1,\n",
    "        traceorder=\"normal\"))"
   ]
  },
  {
   "cell_type": "markdown",
   "id": "0b735184-0a50-4372-8c46-bd6eff8ba5fd",
   "metadata": {},
   "source": [
    "![example image](images/newplot14.png)"
   ]
  },
  {
   "cell_type": "code",
   "execution_count": 136,
   "id": "be3c12d3-11c2-4e89-869f-3870fb5c235e",
   "metadata": {},
   "outputs": [
    {
     "data": {
      "application/vnd.plotly.v1+json": {
       "config": {
        "plotlyServerURL": "https://plot.ly"
       },
       "data": [
        {
         "line": {
          "color": "red",
          "width": 4
         },
         "mode": "lines",
         "showlegend": false,
         "type": "scatter",
         "x": [
          "01",
          "02"
         ],
         "y": [
          0,
          -5.21
         ]
        },
        {
         "line": {
          "color": "red",
          "width": 4
         },
         "mode": "lines",
         "showlegend": false,
         "type": "scatter",
         "x": [
          "02",
          "03"
         ],
         "y": [
          -5.21,
          -7.16
         ]
        },
        {
         "line": {
          "color": "green",
          "width": 4
         },
         "mode": "lines",
         "showlegend": false,
         "type": "scatter",
         "x": [
          "03",
          "04"
         ],
         "y": [
          -7.16,
          -1.23
         ]
        },
        {
         "line": {
          "color": "green",
          "width": 4
         },
         "mode": "lines",
         "showlegend": false,
         "type": "scatter",
         "x": [
          "04",
          "05"
         ],
         "y": [
          -1.23,
          9.6
         ]
        },
        {
         "line": {
          "color": "red",
          "width": 4
         },
         "mode": "lines",
         "showlegend": false,
         "type": "scatter",
         "x": [
          "05",
          "06"
         ],
         "y": [
          9.6,
          -8.53
         ]
        },
        {
         "line": {
          "color": "green",
          "width": 4
         },
         "mode": "lines",
         "showlegend": false,
         "type": "scatter",
         "x": [
          "06",
          "07"
         ],
         "y": [
          -8.53,
          5.67
         ]
        },
        {
         "line": {
          "color": "red",
          "width": 4
         },
         "mode": "lines",
         "showlegend": false,
         "type": "scatter",
         "x": [
          "07",
          "08"
         ],
         "y": [
          5.67,
          -5.23
         ]
        },
        {
         "line": {
          "color": "green",
          "width": 4
         },
         "mode": "lines",
         "showlegend": false,
         "type": "scatter",
         "x": [
          "08",
          "09"
         ],
         "y": [
          -5.23,
          16
         ]
        },
        {
         "line": {
          "color": "red",
          "width": 4
         },
         "mode": "lines",
         "showlegend": false,
         "type": "scatter",
         "x": [
          "09",
          "10"
         ],
         "y": [
          16,
          -11.93
         ]
        },
        {
         "line": {
          "color": "green",
          "width": 4
         },
         "mode": "lines",
         "showlegend": false,
         "type": "scatter",
         "x": [
          "10",
          "11"
         ],
         "y": [
          -11.93,
          5.29
         ]
        },
        {
         "line": {
          "color": "red",
          "width": 4
         },
         "mode": "lines",
         "showlegend": false,
         "type": "scatter",
         "x": [
          "11",
          "12"
         ],
         "y": [
          5.29,
          -10.77
         ]
        },
        {
         "line": {
          "color": "green",
          "width": 4
         },
         "mode": "lines",
         "showlegend": false,
         "type": "scatter",
         "x": [
          "12",
          "13"
         ],
         "y": [
          -10.77,
          9.76
         ]
        },
        {
         "line": {
          "color": "green",
          "width": 4
         },
         "mode": "lines",
         "showlegend": false,
         "type": "scatter",
         "x": [
          "13",
          "14"
         ],
         "y": [
          9.76,
          11.39
         ]
        },
        {
         "line": {
          "color": "red",
          "width": 4
         },
         "mode": "lines",
         "showlegend": false,
         "type": "scatter",
         "x": [
          "14",
          "15"
         ],
         "y": [
          11.39,
          -2.47
         ]
        },
        {
         "line": {
          "color": "red",
          "width": 4
         },
         "mode": "lines",
         "showlegend": false,
         "type": "scatter",
         "x": [
          "15",
          "16"
         ],
         "y": [
          -2.47,
          -12.29
         ]
        },
        {
         "line": {
          "color": "green",
          "width": 4
         },
         "mode": "lines",
         "showlegend": false,
         "type": "scatter",
         "x": [
          "16",
          "17"
         ],
         "y": [
          -12.29,
          -2.34
         ]
        },
        {
         "line": {
          "color": "green",
          "width": 4
         },
         "mode": "lines",
         "showlegend": false,
         "type": "scatter",
         "x": [
          "17",
          "18"
         ],
         "y": [
          -2.34,
          4.06
         ]
        },
        {
         "line": {
          "color": "red",
          "width": 4
         },
         "mode": "lines",
         "showlegend": false,
         "type": "scatter",
         "x": [
          "18",
          "19"
         ],
         "y": [
          4.06,
          -14.91
         ]
        },
        {
         "line": {
          "color": "green",
          "width": 4
         },
         "mode": "lines",
         "showlegend": false,
         "type": "scatter",
         "x": [
          "19",
          "20"
         ],
         "y": [
          -14.91,
          26.07
         ]
        },
        {
         "line": {
          "color": "red",
          "width": 4
         },
         "mode": "lines",
         "showlegend": false,
         "type": "scatter",
         "x": [
          "20",
          "21"
         ],
         "y": [
          26.07,
          -8.01
         ]
        },
        {
         "line": {
          "color": "green",
          "width": 4
         },
         "mode": "lines",
         "showlegend": false,
         "type": "scatter",
         "x": [
          "21",
          "22"
         ],
         "y": [
          -8.01,
          8.16
         ]
        },
        {
         "line": {
          "color": "red",
          "width": 4
         },
         "mode": "lines",
         "showlegend": false,
         "type": "scatter",
         "x": [
          "22",
          "23"
         ],
         "y": [
          8.16,
          -9.22
         ]
        },
        {
         "line": {
          "color": "green",
          "width": 4
         },
         "mode": "lines",
         "showlegend": false,
         "type": "scatter",
         "x": [
          "23",
          "24"
         ],
         "y": [
          -9.22,
          9.05
         ]
        },
        {
         "line": {
          "color": "red",
          "width": 4
         },
         "mode": "lines",
         "showlegend": false,
         "type": "scatter",
         "x": [
          "24",
          "25"
         ],
         "y": [
          9.05,
          -6.38
         ]
        },
        {
         "line": {
          "color": "green",
          "width": 4
         },
         "mode": "lines",
         "showlegend": false,
         "type": "scatter",
         "x": [
          "25",
          "26"
         ],
         "y": [
          -6.38,
          2.33
         ]
        },
        {
         "line": {
          "color": "red",
          "width": 4
         },
         "mode": "lines",
         "showlegend": false,
         "type": "scatter",
         "x": [
          "26",
          "27"
         ],
         "y": [
          2.33,
          1.57
         ]
        },
        {
         "line": {
          "color": "red",
          "width": 4
         },
         "mode": "lines",
         "showlegend": false,
         "type": "scatter",
         "x": [
          "27",
          "28"
         ],
         "y": [
          1.57,
          -1.08
         ]
        },
        {
         "line": {
          "color": "green",
          "width": 4
         },
         "mode": "lines",
         "showlegend": false,
         "type": "scatter",
         "x": [
          "28",
          "29"
         ],
         "y": [
          -1.08,
          5.36
         ]
        },
        {
         "line": {
          "color": "red",
          "width": 4
         },
         "mode": "lines",
         "showlegend": false,
         "type": "scatter",
         "x": [
          "29",
          "30"
         ],
         "y": [
          5.36,
          -6.11
         ]
        },
        {
         "line": {
          "color": "green",
          "width": 4
         },
         "mode": "lines",
         "showlegend": false,
         "type": "scatter",
         "x": [
          "30",
          "31"
         ],
         "y": [
          -6.11,
          7.22
         ]
        },
        {
         "line": {
          "color": "red",
          "width": 4
         },
         "mode": "lines",
         "showlegend": false,
         "type": "scatter",
         "x": [
          "31",
          "32"
         ],
         "y": [
          7.22,
          -7.61
         ]
        },
        {
         "line": {
          "color": "green",
          "width": 4
         },
         "mode": "lines",
         "showlegend": false,
         "type": "scatter",
         "x": [
          "32",
          "33"
         ],
         "y": [
          -7.61,
          6.25
         ]
        },
        {
         "line": {
          "color": "red",
          "width": 4
         },
         "mode": "lines",
         "showlegend": false,
         "type": "scatter",
         "x": [
          "33",
          "34"
         ],
         "y": [
          6.25,
          -11.73
         ]
        },
        {
         "line": {
          "color": "green",
          "width": 4
         },
         "mode": "lines",
         "showlegend": false,
         "type": "scatter",
         "x": [
          "34",
          "35"
         ],
         "y": [
          -11.73,
          0.66
         ]
        },
        {
         "line": {
          "color": "green",
          "width": 4
         },
         "mode": "lines",
         "showlegend": false,
         "type": "scatter",
         "x": [
          "35",
          "36"
         ],
         "y": [
          0.66,
          9.35
         ]
        },
        {
         "line": {
          "color": "red",
          "width": 4
         },
         "mode": "lines",
         "showlegend": false,
         "type": "scatter",
         "x": [
          "36",
          "37"
         ],
         "y": [
          9.35,
          1.66
         ]
        },
        {
         "line": {
          "color": "red",
          "width": 4
         },
         "mode": "lines",
         "showlegend": false,
         "type": "scatter",
         "x": [
          "37",
          "38"
         ],
         "y": [
          1.66,
          -4.87
         ]
        },
        {
         "line": {
          "color": "red",
          "width": 4
         },
         "mode": "lines",
         "showlegend": false,
         "type": "scatter",
         "x": [
          "38",
          "39"
         ],
         "y": [
          -4.87,
          -25.65
         ]
        },
        {
         "line": {
          "color": "green",
          "width": 4
         },
         "mode": "lines",
         "showlegend": false,
         "type": "scatter",
         "x": [
          "39",
          "40"
         ],
         "y": [
          -25.65,
          39.09
         ]
        },
        {
         "line": {
          "color": "red",
          "width": 4
         },
         "mode": "lines",
         "showlegend": false,
         "type": "scatter",
         "x": [
          "40",
          "41"
         ],
         "y": [
          39.09,
          -4.41
         ]
        },
        {
         "line": {
          "color": "green",
          "width": 4
         },
         "mode": "lines",
         "showlegend": false,
         "type": "scatter",
         "x": [
          "41",
          "42"
         ],
         "y": [
          -4.41,
          3.53
         ]
        },
        {
         "line": {
          "color": "red",
          "width": 4
         },
         "mode": "lines",
         "showlegend": false,
         "type": "scatter",
         "x": [
          "42",
          "43"
         ],
         "y": [
          3.53,
          -17.32
         ]
        },
        {
         "line": {
          "color": "green",
          "width": 4
         },
         "mode": "lines",
         "showlegend": false,
         "type": "scatter",
         "x": [
          "43",
          "44"
         ],
         "y": [
          -17.32,
          27.24
         ]
        },
        {
         "line": {
          "color": "red",
          "width": 4
         },
         "mode": "lines",
         "showlegend": false,
         "type": "scatter",
         "x": [
          "44",
          "45"
         ],
         "y": [
          27.24,
          -4.16
         ]
        },
        {
         "line": {
          "color": "red",
          "width": 4
         },
         "mode": "lines",
         "showlegend": false,
         "type": "scatter",
         "x": [
          "45",
          "46"
         ],
         "y": [
          -4.16,
          -4.17
         ]
        },
        {
         "line": {
          "color": "green",
          "width": 4
         },
         "mode": "lines",
         "showlegend": false,
         "type": "scatter",
         "x": [
          "46",
          "47"
         ],
         "y": [
          -4.17,
          1.46
         ]
        },
        {
         "line": {
          "color": "green",
          "width": 4
         },
         "mode": "lines",
         "showlegend": false,
         "type": "scatter",
         "x": [
          "47",
          "48"
         ],
         "y": [
          1.46,
          21.82
         ]
        },
        {
         "line": {
          "color": "red",
          "width": 4
         },
         "mode": "lines",
         "showlegend": false,
         "type": "scatter",
         "x": [
          "48",
          "49"
         ],
         "y": [
          21.82,
          -18.05
         ]
        },
        {
         "line": {
          "color": "green",
          "width": 4
         },
         "mode": "lines",
         "showlegend": false,
         "type": "scatter",
         "x": [
          "49",
          "50"
         ],
         "y": [
          -18.05,
          -12.86
         ]
        },
        {
         "line": {
          "color": "green",
          "width": 4
         },
         "mode": "lines",
         "showlegend": false,
         "type": "scatter",
         "x": [
          "50",
          "51"
         ],
         "y": [
          -12.86,
          13.56
         ]
        },
        {
         "line": {
          "color": "red",
          "width": 4
         },
         "mode": "lines",
         "showlegend": false,
         "type": "scatter",
         "x": [
          "51",
          "52"
         ],
         "y": [
          13.56,
          -38.15
         ]
        },
        {
         "line": {
          "color": "red",
          "width": 4
         },
         "mode": "lines",
         "showlegend": false,
         "type": "scatter",
         "x": [
          "52",
          "53"
         ],
         "y": [
          -38.15,
          -69.4
         ]
        }
       ],
       "layout": {
        "autosize": true,
        "template": {
         "data": {
          "bar": [
           {
            "error_x": {
             "color": "#2a3f5f"
            },
            "error_y": {
             "color": "#2a3f5f"
            },
            "marker": {
             "line": {
              "color": "white",
              "width": 0.5
             },
             "pattern": {
              "fillmode": "overlay",
              "size": 10,
              "solidity": 0.2
             }
            },
            "type": "bar"
           }
          ],
          "barpolar": [
           {
            "marker": {
             "line": {
              "color": "white",
              "width": 0.5
             },
             "pattern": {
              "fillmode": "overlay",
              "size": 10,
              "solidity": 0.2
             }
            },
            "type": "barpolar"
           }
          ],
          "carpet": [
           {
            "aaxis": {
             "endlinecolor": "#2a3f5f",
             "gridcolor": "#C8D4E3",
             "linecolor": "#C8D4E3",
             "minorgridcolor": "#C8D4E3",
             "startlinecolor": "#2a3f5f"
            },
            "baxis": {
             "endlinecolor": "#2a3f5f",
             "gridcolor": "#C8D4E3",
             "linecolor": "#C8D4E3",
             "minorgridcolor": "#C8D4E3",
             "startlinecolor": "#2a3f5f"
            },
            "type": "carpet"
           }
          ],
          "choropleth": [
           {
            "colorbar": {
             "outlinewidth": 0,
             "ticks": ""
            },
            "type": "choropleth"
           }
          ],
          "contour": [
           {
            "colorbar": {
             "outlinewidth": 0,
             "ticks": ""
            },
            "colorscale": [
             [
              0,
              "#0d0887"
             ],
             [
              0.1111111111111111,
              "#46039f"
             ],
             [
              0.2222222222222222,
              "#7201a8"
             ],
             [
              0.3333333333333333,
              "#9c179e"
             ],
             [
              0.4444444444444444,
              "#bd3786"
             ],
             [
              0.5555555555555556,
              "#d8576b"
             ],
             [
              0.6666666666666666,
              "#ed7953"
             ],
             [
              0.7777777777777778,
              "#fb9f3a"
             ],
             [
              0.8888888888888888,
              "#fdca26"
             ],
             [
              1,
              "#f0f921"
             ]
            ],
            "type": "contour"
           }
          ],
          "contourcarpet": [
           {
            "colorbar": {
             "outlinewidth": 0,
             "ticks": ""
            },
            "type": "contourcarpet"
           }
          ],
          "heatmap": [
           {
            "colorbar": {
             "outlinewidth": 0,
             "ticks": ""
            },
            "colorscale": [
             [
              0,
              "#0d0887"
             ],
             [
              0.1111111111111111,
              "#46039f"
             ],
             [
              0.2222222222222222,
              "#7201a8"
             ],
             [
              0.3333333333333333,
              "#9c179e"
             ],
             [
              0.4444444444444444,
              "#bd3786"
             ],
             [
              0.5555555555555556,
              "#d8576b"
             ],
             [
              0.6666666666666666,
              "#ed7953"
             ],
             [
              0.7777777777777778,
              "#fb9f3a"
             ],
             [
              0.8888888888888888,
              "#fdca26"
             ],
             [
              1,
              "#f0f921"
             ]
            ],
            "type": "heatmap"
           }
          ],
          "heatmapgl": [
           {
            "colorbar": {
             "outlinewidth": 0,
             "ticks": ""
            },
            "colorscale": [
             [
              0,
              "#0d0887"
             ],
             [
              0.1111111111111111,
              "#46039f"
             ],
             [
              0.2222222222222222,
              "#7201a8"
             ],
             [
              0.3333333333333333,
              "#9c179e"
             ],
             [
              0.4444444444444444,
              "#bd3786"
             ],
             [
              0.5555555555555556,
              "#d8576b"
             ],
             [
              0.6666666666666666,
              "#ed7953"
             ],
             [
              0.7777777777777778,
              "#fb9f3a"
             ],
             [
              0.8888888888888888,
              "#fdca26"
             ],
             [
              1,
              "#f0f921"
             ]
            ],
            "type": "heatmapgl"
           }
          ],
          "histogram": [
           {
            "marker": {
             "pattern": {
              "fillmode": "overlay",
              "size": 10,
              "solidity": 0.2
             }
            },
            "type": "histogram"
           }
          ],
          "histogram2d": [
           {
            "colorbar": {
             "outlinewidth": 0,
             "ticks": ""
            },
            "colorscale": [
             [
              0,
              "#0d0887"
             ],
             [
              0.1111111111111111,
              "#46039f"
             ],
             [
              0.2222222222222222,
              "#7201a8"
             ],
             [
              0.3333333333333333,
              "#9c179e"
             ],
             [
              0.4444444444444444,
              "#bd3786"
             ],
             [
              0.5555555555555556,
              "#d8576b"
             ],
             [
              0.6666666666666666,
              "#ed7953"
             ],
             [
              0.7777777777777778,
              "#fb9f3a"
             ],
             [
              0.8888888888888888,
              "#fdca26"
             ],
             [
              1,
              "#f0f921"
             ]
            ],
            "type": "histogram2d"
           }
          ],
          "histogram2dcontour": [
           {
            "colorbar": {
             "outlinewidth": 0,
             "ticks": ""
            },
            "colorscale": [
             [
              0,
              "#0d0887"
             ],
             [
              0.1111111111111111,
              "#46039f"
             ],
             [
              0.2222222222222222,
              "#7201a8"
             ],
             [
              0.3333333333333333,
              "#9c179e"
             ],
             [
              0.4444444444444444,
              "#bd3786"
             ],
             [
              0.5555555555555556,
              "#d8576b"
             ],
             [
              0.6666666666666666,
              "#ed7953"
             ],
             [
              0.7777777777777778,
              "#fb9f3a"
             ],
             [
              0.8888888888888888,
              "#fdca26"
             ],
             [
              1,
              "#f0f921"
             ]
            ],
            "type": "histogram2dcontour"
           }
          ],
          "mesh3d": [
           {
            "colorbar": {
             "outlinewidth": 0,
             "ticks": ""
            },
            "type": "mesh3d"
           }
          ],
          "parcoords": [
           {
            "line": {
             "colorbar": {
              "outlinewidth": 0,
              "ticks": ""
             }
            },
            "type": "parcoords"
           }
          ],
          "pie": [
           {
            "automargin": true,
            "type": "pie"
           }
          ],
          "scatter": [
           {
            "fillpattern": {
             "fillmode": "overlay",
             "size": 10,
             "solidity": 0.2
            },
            "type": "scatter"
           }
          ],
          "scatter3d": [
           {
            "line": {
             "colorbar": {
              "outlinewidth": 0,
              "ticks": ""
             }
            },
            "marker": {
             "colorbar": {
              "outlinewidth": 0,
              "ticks": ""
             }
            },
            "type": "scatter3d"
           }
          ],
          "scattercarpet": [
           {
            "marker": {
             "colorbar": {
              "outlinewidth": 0,
              "ticks": ""
             }
            },
            "type": "scattercarpet"
           }
          ],
          "scattergeo": [
           {
            "marker": {
             "colorbar": {
              "outlinewidth": 0,
              "ticks": ""
             }
            },
            "type": "scattergeo"
           }
          ],
          "scattergl": [
           {
            "marker": {
             "colorbar": {
              "outlinewidth": 0,
              "ticks": ""
             }
            },
            "type": "scattergl"
           }
          ],
          "scattermapbox": [
           {
            "marker": {
             "colorbar": {
              "outlinewidth": 0,
              "ticks": ""
             }
            },
            "type": "scattermapbox"
           }
          ],
          "scatterpolar": [
           {
            "marker": {
             "colorbar": {
              "outlinewidth": 0,
              "ticks": ""
             }
            },
            "type": "scatterpolar"
           }
          ],
          "scatterpolargl": [
           {
            "marker": {
             "colorbar": {
              "outlinewidth": 0,
              "ticks": ""
             }
            },
            "type": "scatterpolargl"
           }
          ],
          "scatterternary": [
           {
            "marker": {
             "colorbar": {
              "outlinewidth": 0,
              "ticks": ""
             }
            },
            "type": "scatterternary"
           }
          ],
          "surface": [
           {
            "colorbar": {
             "outlinewidth": 0,
             "ticks": ""
            },
            "colorscale": [
             [
              0,
              "#0d0887"
             ],
             [
              0.1111111111111111,
              "#46039f"
             ],
             [
              0.2222222222222222,
              "#7201a8"
             ],
             [
              0.3333333333333333,
              "#9c179e"
             ],
             [
              0.4444444444444444,
              "#bd3786"
             ],
             [
              0.5555555555555556,
              "#d8576b"
             ],
             [
              0.6666666666666666,
              "#ed7953"
             ],
             [
              0.7777777777777778,
              "#fb9f3a"
             ],
             [
              0.8888888888888888,
              "#fdca26"
             ],
             [
              1,
              "#f0f921"
             ]
            ],
            "type": "surface"
           }
          ],
          "table": [
           {
            "cells": {
             "fill": {
              "color": "#EBF0F8"
             },
             "line": {
              "color": "white"
             }
            },
            "header": {
             "fill": {
              "color": "#C8D4E3"
             },
             "line": {
              "color": "white"
             }
            },
            "type": "table"
           }
          ]
         },
         "layout": {
          "annotationdefaults": {
           "arrowcolor": "#2a3f5f",
           "arrowhead": 0,
           "arrowwidth": 1
          },
          "autotypenumbers": "strict",
          "coloraxis": {
           "colorbar": {
            "outlinewidth": 0,
            "ticks": ""
           }
          },
          "colorscale": {
           "diverging": [
            [
             0,
             "#8e0152"
            ],
            [
             0.1,
             "#c51b7d"
            ],
            [
             0.2,
             "#de77ae"
            ],
            [
             0.3,
             "#f1b6da"
            ],
            [
             0.4,
             "#fde0ef"
            ],
            [
             0.5,
             "#f7f7f7"
            ],
            [
             0.6,
             "#e6f5d0"
            ],
            [
             0.7,
             "#b8e186"
            ],
            [
             0.8,
             "#7fbc41"
            ],
            [
             0.9,
             "#4d9221"
            ],
            [
             1,
             "#276419"
            ]
           ],
           "sequential": [
            [
             0,
             "#0d0887"
            ],
            [
             0.1111111111111111,
             "#46039f"
            ],
            [
             0.2222222222222222,
             "#7201a8"
            ],
            [
             0.3333333333333333,
             "#9c179e"
            ],
            [
             0.4444444444444444,
             "#bd3786"
            ],
            [
             0.5555555555555556,
             "#d8576b"
            ],
            [
             0.6666666666666666,
             "#ed7953"
            ],
            [
             0.7777777777777778,
             "#fb9f3a"
            ],
            [
             0.8888888888888888,
             "#fdca26"
            ],
            [
             1,
             "#f0f921"
            ]
           ],
           "sequentialminus": [
            [
             0,
             "#0d0887"
            ],
            [
             0.1111111111111111,
             "#46039f"
            ],
            [
             0.2222222222222222,
             "#7201a8"
            ],
            [
             0.3333333333333333,
             "#9c179e"
            ],
            [
             0.4444444444444444,
             "#bd3786"
            ],
            [
             0.5555555555555556,
             "#d8576b"
            ],
            [
             0.6666666666666666,
             "#ed7953"
            ],
            [
             0.7777777777777778,
             "#fb9f3a"
            ],
            [
             0.8888888888888888,
             "#fdca26"
            ],
            [
             1,
             "#f0f921"
            ]
           ]
          },
          "colorway": [
           "#636efa",
           "#EF553B",
           "#00cc96",
           "#ab63fa",
           "#FFA15A",
           "#19d3f3",
           "#FF6692",
           "#B6E880",
           "#FF97FF",
           "#FECB52"
          ],
          "font": {
           "color": "#2a3f5f"
          },
          "geo": {
           "bgcolor": "white",
           "lakecolor": "white",
           "landcolor": "white",
           "showlakes": true,
           "showland": true,
           "subunitcolor": "#C8D4E3"
          },
          "hoverlabel": {
           "align": "left"
          },
          "hovermode": "closest",
          "mapbox": {
           "style": "light"
          },
          "paper_bgcolor": "white",
          "plot_bgcolor": "white",
          "polar": {
           "angularaxis": {
            "gridcolor": "#EBF0F8",
            "linecolor": "#EBF0F8",
            "ticks": ""
           },
           "bgcolor": "white",
           "radialaxis": {
            "gridcolor": "#EBF0F8",
            "linecolor": "#EBF0F8",
            "ticks": ""
           }
          },
          "scene": {
           "xaxis": {
            "backgroundcolor": "white",
            "gridcolor": "#DFE8F3",
            "gridwidth": 2,
            "linecolor": "#EBF0F8",
            "showbackground": true,
            "ticks": "",
            "zerolinecolor": "#EBF0F8"
           },
           "yaxis": {
            "backgroundcolor": "white",
            "gridcolor": "#DFE8F3",
            "gridwidth": 2,
            "linecolor": "#EBF0F8",
            "showbackground": true,
            "ticks": "",
            "zerolinecolor": "#EBF0F8"
           },
           "zaxis": {
            "backgroundcolor": "white",
            "gridcolor": "#DFE8F3",
            "gridwidth": 2,
            "linecolor": "#EBF0F8",
            "showbackground": true,
            "ticks": "",
            "zerolinecolor": "#EBF0F8"
           }
          },
          "shapedefaults": {
           "line": {
            "color": "#2a3f5f"
           }
          },
          "ternary": {
           "aaxis": {
            "gridcolor": "#DFE8F3",
            "linecolor": "#A2B1C6",
            "ticks": ""
           },
           "baxis": {
            "gridcolor": "#DFE8F3",
            "linecolor": "#A2B1C6",
            "ticks": ""
           },
           "bgcolor": "white",
           "caxis": {
            "gridcolor": "#DFE8F3",
            "linecolor": "#A2B1C6",
            "ticks": ""
           }
          },
          "title": {
           "x": 0.05
          },
          "xaxis": {
           "automargin": true,
           "gridcolor": "#EBF0F8",
           "linecolor": "#EBF0F8",
           "ticks": "",
           "title": {
            "standoff": 15
           },
           "zerolinecolor": "#EBF0F8",
           "zerolinewidth": 2
          },
          "yaxis": {
           "automargin": true,
           "gridcolor": "#EBF0F8",
           "linecolor": "#EBF0F8",
           "ticks": "",
           "title": {
            "standoff": 15
           },
           "zerolinecolor": "#EBF0F8",
           "zerolinewidth": 2
          }
         }
        },
        "title": {
         "text": "Week on Week Change"
        },
        "xaxis": {
         "autorange": true,
         "range": [
          0,
          52
         ],
         "tickmode": "array",
         "tickvals": [
          "01",
          "02",
          "03",
          "04",
          "05",
          "06",
          "07",
          "08",
          "09",
          "10",
          "11",
          "12",
          "13",
          "14",
          "15",
          "16",
          "17",
          "18",
          "19",
          "20",
          "21",
          "22",
          "23",
          "24",
          "25",
          "26",
          "27",
          "28",
          "29",
          "30",
          "31",
          "32",
          "33",
          "34",
          "35",
          "36",
          "37",
          "38",
          "39",
          "40",
          "41",
          "42",
          "43",
          "44",
          "45",
          "46",
          "47",
          "48",
          "49",
          "50",
          "51",
          "52",
          "53"
         ],
         "title": {
          "text": "Month"
         },
         "type": "category"
        },
        "yaxis": {
         "autorange": true,
         "range": [
          -75.42722222222223,
          45.117222222222225
         ],
         "title": {
          "text": "Sales"
         },
         "type": "linear"
        }
       }
      },
      "image/png": "[encoded data removed]",
      "text/html": [
       "<div>                            <div id=\"a15d159c-2f80-4b45-8763-ef5567c9e692\" class=\"plotly-graph-div\" style=\"height:525px; width:100%;\"></div>            <script type=\"text/javascript\">                require([\"plotly\"], function(Plotly) {                    window.PLOTLYENV=window.PLOTLYENV || {};                                    if (document.getElementById(\"a15d159c-2f80-4b45-8763-ef5567c9e692\")) {                    Plotly.newPlot(                        \"a15d159c-2f80-4b45-8763-ef5567c9e692\",                        [{\"line\":{\"color\":\"red\",\"width\":4},\"mode\":\"lines\",\"showlegend\":false,\"x\":[\"01\",\"02\"],\"y\":[0.0,-5.21],\"type\":\"scatter\"},{\"line\":{\"color\":\"red\",\"width\":4},\"mode\":\"lines\",\"showlegend\":false,\"x\":[\"02\",\"03\"],\"y\":[-5.21,-7.16],\"type\":\"scatter\"},{\"line\":{\"color\":\"green\",\"width\":4},\"mode\":\"lines\",\"showlegend\":false,\"x\":[\"03\",\"04\"],\"y\":[-7.16,-1.23],\"type\":\"scatter\"},{\"line\":{\"color\":\"green\",\"width\":4},\"mode\":\"lines\",\"showlegend\":false,\"x\":[\"04\",\"05\"],\"y\":[-1.23,9.6],\"type\":\"scatter\"},{\"line\":{\"color\":\"red\",\"width\":4},\"mode\":\"lines\",\"showlegend\":false,\"x\":[\"05\",\"06\"],\"y\":[9.6,-8.53],\"type\":\"scatter\"},{\"line\":{\"color\":\"green\",\"width\":4},\"mode\":\"lines\",\"showlegend\":false,\"x\":[\"06\",\"07\"],\"y\":[-8.53,5.67],\"type\":\"scatter\"},{\"line\":{\"color\":\"red\",\"width\":4},\"mode\":\"lines\",\"showlegend\":false,\"x\":[\"07\",\"08\"],\"y\":[5.67,-5.23],\"type\":\"scatter\"},{\"line\":{\"color\":\"green\",\"width\":4},\"mode\":\"lines\",\"showlegend\":false,\"x\":[\"08\",\"09\"],\"y\":[-5.23,16.0],\"type\":\"scatter\"},{\"line\":{\"color\":\"red\",\"width\":4},\"mode\":\"lines\",\"showlegend\":false,\"x\":[\"09\",\"10\"],\"y\":[16.0,-11.93],\"type\":\"scatter\"},{\"line\":{\"color\":\"green\",\"width\":4},\"mode\":\"lines\",\"showlegend\":false,\"x\":[\"10\",\"11\"],\"y\":[-11.93,5.29],\"type\":\"scatter\"},{\"line\":{\"color\":\"red\",\"width\":4},\"mode\":\"lines\",\"showlegend\":false,\"x\":[\"11\",\"12\"],\"y\":[5.29,-10.77],\"type\":\"scatter\"},{\"line\":{\"color\":\"green\",\"width\":4},\"mode\":\"lines\",\"showlegend\":false,\"x\":[\"12\",\"13\"],\"y\":[-10.77,9.76],\"type\":\"scatter\"},{\"line\":{\"color\":\"green\",\"width\":4},\"mode\":\"lines\",\"showlegend\":false,\"x\":[\"13\",\"14\"],\"y\":[9.76,11.39],\"type\":\"scatter\"},{\"line\":{\"color\":\"red\",\"width\":4},\"mode\":\"lines\",\"showlegend\":false,\"x\":[\"14\",\"15\"],\"y\":[11.39,-2.47],\"type\":\"scatter\"},{\"line\":{\"color\":\"red\",\"width\":4},\"mode\":\"lines\",\"showlegend\":false,\"x\":[\"15\",\"16\"],\"y\":[-2.47,-12.29],\"type\":\"scatter\"},{\"line\":{\"color\":\"green\",\"width\":4},\"mode\":\"lines\",\"showlegend\":false,\"x\":[\"16\",\"17\"],\"y\":[-12.29,-2.34],\"type\":\"scatter\"},{\"line\":{\"color\":\"green\",\"width\":4},\"mode\":\"lines\",\"showlegend\":false,\"x\":[\"17\",\"18\"],\"y\":[-2.34,4.06],\"type\":\"scatter\"},{\"line\":{\"color\":\"red\",\"width\":4},\"mode\":\"lines\",\"showlegend\":false,\"x\":[\"18\",\"19\"],\"y\":[4.06,-14.91],\"type\":\"scatter\"},{\"line\":{\"color\":\"green\",\"width\":4},\"mode\":\"lines\",\"showlegend\":false,\"x\":[\"19\",\"20\"],\"y\":[-14.91,26.07],\"type\":\"scatter\"},{\"line\":{\"color\":\"red\",\"width\":4},\"mode\":\"lines\",\"showlegend\":false,\"x\":[\"20\",\"21\"],\"y\":[26.07,-8.01],\"type\":\"scatter\"},{\"line\":{\"color\":\"green\",\"width\":4},\"mode\":\"lines\",\"showlegend\":false,\"x\":[\"21\",\"22\"],\"y\":[-8.01,8.16],\"type\":\"scatter\"},{\"line\":{\"color\":\"red\",\"width\":4},\"mode\":\"lines\",\"showlegend\":false,\"x\":[\"22\",\"23\"],\"y\":[8.16,-9.22],\"type\":\"scatter\"},{\"line\":{\"color\":\"green\",\"width\":4},\"mode\":\"lines\",\"showlegend\":false,\"x\":[\"23\",\"24\"],\"y\":[-9.22,9.05],\"type\":\"scatter\"},{\"line\":{\"color\":\"red\",\"width\":4},\"mode\":\"lines\",\"showlegend\":false,\"x\":[\"24\",\"25\"],\"y\":[9.05,-6.38],\"type\":\"scatter\"},{\"line\":{\"color\":\"green\",\"width\":4},\"mode\":\"lines\",\"showlegend\":false,\"x\":[\"25\",\"26\"],\"y\":[-6.38,2.33],\"type\":\"scatter\"},{\"line\":{\"color\":\"red\",\"width\":4},\"mode\":\"lines\",\"showlegend\":false,\"x\":[\"26\",\"27\"],\"y\":[2.33,1.57],\"type\":\"scatter\"},{\"line\":{\"color\":\"red\",\"width\":4},\"mode\":\"lines\",\"showlegend\":false,\"x\":[\"27\",\"28\"],\"y\":[1.57,-1.08],\"type\":\"scatter\"},{\"line\":{\"color\":\"green\",\"width\":4},\"mode\":\"lines\",\"showlegend\":false,\"x\":[\"28\",\"29\"],\"y\":[-1.08,5.36],\"type\":\"scatter\"},{\"line\":{\"color\":\"red\",\"width\":4},\"mode\":\"lines\",\"showlegend\":false,\"x\":[\"29\",\"30\"],\"y\":[5.36,-6.11],\"type\":\"scatter\"},{\"line\":{\"color\":\"green\",\"width\":4},\"mode\":\"lines\",\"showlegend\":false,\"x\":[\"30\",\"31\"],\"y\":[-6.11,7.22],\"type\":\"scatter\"},{\"line\":{\"color\":\"red\",\"width\":4},\"mode\":\"lines\",\"showlegend\":false,\"x\":[\"31\",\"32\"],\"y\":[7.22,-7.61],\"type\":\"scatter\"},{\"line\":{\"color\":\"green\",\"width\":4},\"mode\":\"lines\",\"showlegend\":false,\"x\":[\"32\",\"33\"],\"y\":[-7.61,6.25],\"type\":\"scatter\"},{\"line\":{\"color\":\"red\",\"width\":4},\"mode\":\"lines\",\"showlegend\":false,\"x\":[\"33\",\"34\"],\"y\":[6.25,-11.73],\"type\":\"scatter\"},{\"line\":{\"color\":\"green\",\"width\":4},\"mode\":\"lines\",\"showlegend\":false,\"x\":[\"34\",\"35\"],\"y\":[-11.73,0.66],\"type\":\"scatter\"},{\"line\":{\"color\":\"green\",\"width\":4},\"mode\":\"lines\",\"showlegend\":false,\"x\":[\"35\",\"36\"],\"y\":[0.66,9.35],\"type\":\"scatter\"},{\"line\":{\"color\":\"red\",\"width\":4},\"mode\":\"lines\",\"showlegend\":false,\"x\":[\"36\",\"37\"],\"y\":[9.35,1.66],\"type\":\"scatter\"},{\"line\":{\"color\":\"red\",\"width\":4},\"mode\":\"lines\",\"showlegend\":false,\"x\":[\"37\",\"38\"],\"y\":[1.66,-4.87],\"type\":\"scatter\"},{\"line\":{\"color\":\"red\",\"width\":4},\"mode\":\"lines\",\"showlegend\":false,\"x\":[\"38\",\"39\"],\"y\":[-4.87,-25.65],\"type\":\"scatter\"},{\"line\":{\"color\":\"green\",\"width\":4},\"mode\":\"lines\",\"showlegend\":false,\"x\":[\"39\",\"40\"],\"y\":[-25.65,39.09],\"type\":\"scatter\"},{\"line\":{\"color\":\"red\",\"width\":4},\"mode\":\"lines\",\"showlegend\":false,\"x\":[\"40\",\"41\"],\"y\":[39.09,-4.41],\"type\":\"scatter\"},{\"line\":{\"color\":\"green\",\"width\":4},\"mode\":\"lines\",\"showlegend\":false,\"x\":[\"41\",\"42\"],\"y\":[-4.41,3.53],\"type\":\"scatter\"},{\"line\":{\"color\":\"red\",\"width\":4},\"mode\":\"lines\",\"showlegend\":false,\"x\":[\"42\",\"43\"],\"y\":[3.53,-17.32],\"type\":\"scatter\"},{\"line\":{\"color\":\"green\",\"width\":4},\"mode\":\"lines\",\"showlegend\":false,\"x\":[\"43\",\"44\"],\"y\":[-17.32,27.24],\"type\":\"scatter\"},{\"line\":{\"color\":\"red\",\"width\":4},\"mode\":\"lines\",\"showlegend\":false,\"x\":[\"44\",\"45\"],\"y\":[27.24,-4.16],\"type\":\"scatter\"},{\"line\":{\"color\":\"red\",\"width\":4},\"mode\":\"lines\",\"showlegend\":false,\"x\":[\"45\",\"46\"],\"y\":[-4.16,-4.17],\"type\":\"scatter\"},{\"line\":{\"color\":\"green\",\"width\":4},\"mode\":\"lines\",\"showlegend\":false,\"x\":[\"46\",\"47\"],\"y\":[-4.17,1.46],\"type\":\"scatter\"},{\"line\":{\"color\":\"green\",\"width\":4},\"mode\":\"lines\",\"showlegend\":false,\"x\":[\"47\",\"48\"],\"y\":[1.46,21.82],\"type\":\"scatter\"},{\"line\":{\"color\":\"red\",\"width\":4},\"mode\":\"lines\",\"showlegend\":false,\"x\":[\"48\",\"49\"],\"y\":[21.82,-18.05],\"type\":\"scatter\"},{\"line\":{\"color\":\"green\",\"width\":4},\"mode\":\"lines\",\"showlegend\":false,\"x\":[\"49\",\"50\"],\"y\":[-18.05,-12.86],\"type\":\"scatter\"},{\"line\":{\"color\":\"green\",\"width\":4},\"mode\":\"lines\",\"showlegend\":false,\"x\":[\"50\",\"51\"],\"y\":[-12.86,13.56],\"type\":\"scatter\"},{\"line\":{\"color\":\"red\",\"width\":4},\"mode\":\"lines\",\"showlegend\":false,\"x\":[\"51\",\"52\"],\"y\":[13.56,-38.15],\"type\":\"scatter\"},{\"line\":{\"color\":\"red\",\"width\":4},\"mode\":\"lines\",\"showlegend\":false,\"x\":[\"52\",\"53\"],\"y\":[-38.15,-69.4],\"type\":\"scatter\"}],                        {\"template\":{\"data\":{\"barpolar\":[{\"marker\":{\"line\":{\"color\":\"white\",\"width\":0.5},\"pattern\":{\"fillmode\":\"overlay\",\"size\":10,\"solidity\":0.2}},\"type\":\"barpolar\"}],\"bar\":[{\"error_x\":{\"color\":\"#2a3f5f\"},\"error_y\":{\"color\":\"#2a3f5f\"},\"marker\":{\"line\":{\"color\":\"white\",\"width\":0.5},\"pattern\":{\"fillmode\":\"overlay\",\"size\":10,\"solidity\":0.2}},\"type\":\"bar\"}],\"carpet\":[{\"aaxis\":{\"endlinecolor\":\"#2a3f5f\",\"gridcolor\":\"#C8D4E3\",\"linecolor\":\"#C8D4E3\",\"minorgridcolor\":\"#C8D4E3\",\"startlinecolor\":\"#2a3f5f\"},\"baxis\":{\"endlinecolor\":\"#2a3f5f\",\"gridcolor\":\"#C8D4E3\",\"linecolor\":\"#C8D4E3\",\"minorgridcolor\":\"#C8D4E3\",\"startlinecolor\":\"#2a3f5f\"},\"type\":\"carpet\"}],\"choropleth\":[{\"colorbar\":{\"outlinewidth\":0,\"ticks\":\"\"},\"type\":\"choropleth\"}],\"contourcarpet\":[{\"colorbar\":{\"outlinewidth\":0,\"ticks\":\"\"},\"type\":\"contourcarpet\"}],\"contour\":[{\"colorbar\":{\"outlinewidth\":0,\"ticks\":\"\"},\"colorscale\":[[0.0,\"#0d0887\"],[0.1111111111111111,\"#46039f\"],[0.2222222222222222,\"#7201a8\"],[0.3333333333333333,\"#9c179e\"],[0.4444444444444444,\"#bd3786\"],[0.5555555555555556,\"#d8576b\"],[0.6666666666666666,\"#ed7953\"],[0.7777777777777778,\"#fb9f3a\"],[0.8888888888888888,\"#fdca26\"],[1.0,\"#f0f921\"]],\"type\":\"contour\"}],\"heatmapgl\":[{\"colorbar\":{\"outlinewidth\":0,\"ticks\":\"\"},\"colorscale\":[[0.0,\"#0d0887\"],[0.1111111111111111,\"#46039f\"],[0.2222222222222222,\"#7201a8\"],[0.3333333333333333,\"#9c179e\"],[0.4444444444444444,\"#bd3786\"],[0.5555555555555556,\"#d8576b\"],[0.6666666666666666,\"#ed7953\"],[0.7777777777777778,\"#fb9f3a\"],[0.8888888888888888,\"#fdca26\"],[1.0,\"#f0f921\"]],\"type\":\"heatmapgl\"}],\"heatmap\":[{\"colorbar\":{\"outlinewidth\":0,\"ticks\":\"\"},\"colorscale\":[[0.0,\"#0d0887\"],[0.1111111111111111,\"#46039f\"],[0.2222222222222222,\"#7201a8\"],[0.3333333333333333,\"#9c179e\"],[0.4444444444444444,\"#bd3786\"],[0.5555555555555556,\"#d8576b\"],[0.6666666666666666,\"#ed7953\"],[0.7777777777777778,\"#fb9f3a\"],[0.8888888888888888,\"#fdca26\"],[1.0,\"#f0f921\"]],\"type\":\"heatmap\"}],\"histogram2dcontour\":[{\"colorbar\":{\"outlinewidth\":0,\"ticks\":\"\"},\"colorscale\":[[0.0,\"#0d0887\"],[0.1111111111111111,\"#46039f\"],[0.2222222222222222,\"#7201a8\"],[0.3333333333333333,\"#9c179e\"],[0.4444444444444444,\"#bd3786\"],[0.5555555555555556,\"#d8576b\"],[0.6666666666666666,\"#ed7953\"],[0.7777777777777778,\"#fb9f3a\"],[0.8888888888888888,\"#fdca26\"],[1.0,\"#f0f921\"]],\"type\":\"histogram2dcontour\"}],\"histogram2d\":[{\"colorbar\":{\"outlinewidth\":0,\"ticks\":\"\"},\"colorscale\":[[0.0,\"#0d0887\"],[0.1111111111111111,\"#46039f\"],[0.2222222222222222,\"#7201a8\"],[0.3333333333333333,\"#9c179e\"],[0.4444444444444444,\"#bd3786\"],[0.5555555555555556,\"#d8576b\"],[0.6666666666666666,\"#ed7953\"],[0.7777777777777778,\"#fb9f3a\"],[0.8888888888888888,\"#fdca26\"],[1.0,\"#f0f921\"]],\"type\":\"histogram2d\"}],\"histogram\":[{\"marker\":{\"pattern\":{\"fillmode\":\"overlay\",\"size\":10,\"solidity\":0.2}},\"type\":\"histogram\"}],\"mesh3d\":[{\"colorbar\":{\"outlinewidth\":0,\"ticks\":\"\"},\"type\":\"mesh3d\"}],\"parcoords\":[{\"line\":{\"colorbar\":{\"outlinewidth\":0,\"ticks\":\"\"}},\"type\":\"parcoords\"}],\"pie\":[{\"automargin\":true,\"type\":\"pie\"}],\"scatter3d\":[{\"line\":{\"colorbar\":{\"outlinewidth\":0,\"ticks\":\"\"}},\"marker\":{\"colorbar\":{\"outlinewidth\":0,\"ticks\":\"\"}},\"type\":\"scatter3d\"}],\"scattercarpet\":[{\"marker\":{\"colorbar\":{\"outlinewidth\":0,\"ticks\":\"\"}},\"type\":\"scattercarpet\"}],\"scattergeo\":[{\"marker\":{\"colorbar\":{\"outlinewidth\":0,\"ticks\":\"\"}},\"type\":\"scattergeo\"}],\"scattergl\":[{\"marker\":{\"colorbar\":{\"outlinewidth\":0,\"ticks\":\"\"}},\"type\":\"scattergl\"}],\"scattermapbox\":[{\"marker\":{\"colorbar\":{\"outlinewidth\":0,\"ticks\":\"\"}},\"type\":\"scattermapbox\"}],\"scatterpolargl\":[{\"marker\":{\"colorbar\":{\"outlinewidth\":0,\"ticks\":\"\"}},\"type\":\"scatterpolargl\"}],\"scatterpolar\":[{\"marker\":{\"colorbar\":{\"outlinewidth\":0,\"ticks\":\"\"}},\"type\":\"scatterpolar\"}],\"scatter\":[{\"fillpattern\":{\"fillmode\":\"overlay\",\"size\":10,\"solidity\":0.2},\"type\":\"scatter\"}],\"scatterternary\":[{\"marker\":{\"colorbar\":{\"outlinewidth\":0,\"ticks\":\"\"}},\"type\":\"scatterternary\"}],\"surface\":[{\"colorbar\":{\"outlinewidth\":0,\"ticks\":\"\"},\"colorscale\":[[0.0,\"#0d0887\"],[0.1111111111111111,\"#46039f\"],[0.2222222222222222,\"#7201a8\"],[0.3333333333333333,\"#9c179e\"],[0.4444444444444444,\"#bd3786\"],[0.5555555555555556,\"#d8576b\"],[0.6666666666666666,\"#ed7953\"],[0.7777777777777778,\"#fb9f3a\"],[0.8888888888888888,\"#fdca26\"],[1.0,\"#f0f921\"]],\"type\":\"surface\"}],\"table\":[{\"cells\":{\"fill\":{\"color\":\"#EBF0F8\"},\"line\":{\"color\":\"white\"}},\"header\":{\"fill\":{\"color\":\"#C8D4E3\"},\"line\":{\"color\":\"white\"}},\"type\":\"table\"}]},\"layout\":{\"annotationdefaults\":{\"arrowcolor\":\"#2a3f5f\",\"arrowhead\":0,\"arrowwidth\":1},\"autotypenumbers\":\"strict\",\"coloraxis\":{\"colorbar\":{\"outlinewidth\":0,\"ticks\":\"\"}},\"colorscale\":{\"diverging\":[[0,\"#8e0152\"],[0.1,\"#c51b7d\"],[0.2,\"#de77ae\"],[0.3,\"#f1b6da\"],[0.4,\"#fde0ef\"],[0.5,\"#f7f7f7\"],[0.6,\"#e6f5d0\"],[0.7,\"#b8e186\"],[0.8,\"#7fbc41\"],[0.9,\"#4d9221\"],[1,\"#276419\"]],\"sequential\":[[0.0,\"#0d0887\"],[0.1111111111111111,\"#46039f\"],[0.2222222222222222,\"#7201a8\"],[0.3333333333333333,\"#9c179e\"],[0.4444444444444444,\"#bd3786\"],[0.5555555555555556,\"#d8576b\"],[0.6666666666666666,\"#ed7953\"],[0.7777777777777778,\"#fb9f3a\"],[0.8888888888888888,\"#fdca26\"],[1.0,\"#f0f921\"]],\"sequentialminus\":[[0.0,\"#0d0887\"],[0.1111111111111111,\"#46039f\"],[0.2222222222222222,\"#7201a8\"],[0.3333333333333333,\"#9c179e\"],[0.4444444444444444,\"#bd3786\"],[0.5555555555555556,\"#d8576b\"],[0.6666666666666666,\"#ed7953\"],[0.7777777777777778,\"#fb9f3a\"],[0.8888888888888888,\"#fdca26\"],[1.0,\"#f0f921\"]]},\"colorway\":[\"#636efa\",\"#EF553B\",\"#00cc96\",\"#ab63fa\",\"#FFA15A\",\"#19d3f3\",\"#FF6692\",\"#B6E880\",\"#FF97FF\",\"#FECB52\"],\"font\":{\"color\":\"#2a3f5f\"},\"geo\":{\"bgcolor\":\"white\",\"lakecolor\":\"white\",\"landcolor\":\"white\",\"showlakes\":true,\"showland\":true,\"subunitcolor\":\"#C8D4E3\"},\"hoverlabel\":{\"align\":\"left\"},\"hovermode\":\"closest\",\"mapbox\":{\"style\":\"light\"},\"paper_bgcolor\":\"white\",\"plot_bgcolor\":\"white\",\"polar\":{\"angularaxis\":{\"gridcolor\":\"#EBF0F8\",\"linecolor\":\"#EBF0F8\",\"ticks\":\"\"},\"bgcolor\":\"white\",\"radialaxis\":{\"gridcolor\":\"#EBF0F8\",\"linecolor\":\"#EBF0F8\",\"ticks\":\"\"}},\"scene\":{\"xaxis\":{\"backgroundcolor\":\"white\",\"gridcolor\":\"#DFE8F3\",\"gridwidth\":2,\"linecolor\":\"#EBF0F8\",\"showbackground\":true,\"ticks\":\"\",\"zerolinecolor\":\"#EBF0F8\"},\"yaxis\":{\"backgroundcolor\":\"white\",\"gridcolor\":\"#DFE8F3\",\"gridwidth\":2,\"linecolor\":\"#EBF0F8\",\"showbackground\":true,\"ticks\":\"\",\"zerolinecolor\":\"#EBF0F8\"},\"zaxis\":{\"backgroundcolor\":\"white\",\"gridcolor\":\"#DFE8F3\",\"gridwidth\":2,\"linecolor\":\"#EBF0F8\",\"showbackground\":true,\"ticks\":\"\",\"zerolinecolor\":\"#EBF0F8\"}},\"shapedefaults\":{\"line\":{\"color\":\"#2a3f5f\"}},\"ternary\":{\"aaxis\":{\"gridcolor\":\"#DFE8F3\",\"linecolor\":\"#A2B1C6\",\"ticks\":\"\"},\"baxis\":{\"gridcolor\":\"#DFE8F3\",\"linecolor\":\"#A2B1C6\",\"ticks\":\"\"},\"bgcolor\":\"white\",\"caxis\":{\"gridcolor\":\"#DFE8F3\",\"linecolor\":\"#A2B1C6\",\"ticks\":\"\"}},\"title\":{\"x\":0.05},\"xaxis\":{\"automargin\":true,\"gridcolor\":\"#EBF0F8\",\"linecolor\":\"#EBF0F8\",\"ticks\":\"\",\"title\":{\"standoff\":15},\"zerolinecolor\":\"#EBF0F8\",\"zerolinewidth\":2},\"yaxis\":{\"automargin\":true,\"gridcolor\":\"#EBF0F8\",\"linecolor\":\"#EBF0F8\",\"ticks\":\"\",\"title\":{\"standoff\":15},\"zerolinecolor\":\"#EBF0F8\",\"zerolinewidth\":2}}},\"xaxis\":{\"title\":{\"text\":\"Month\"},\"tickmode\":\"array\",\"tickvals\":[\"01\",\"02\",\"03\",\"04\",\"05\",\"06\",\"07\",\"08\",\"09\",\"10\",\"11\",\"12\",\"13\",\"14\",\"15\",\"16\",\"17\",\"18\",\"19\",\"20\",\"21\",\"22\",\"23\",\"24\",\"25\",\"26\",\"27\",\"28\",\"29\",\"30\",\"31\",\"32\",\"33\",\"34\",\"35\",\"36\",\"37\",\"38\",\"39\",\"40\",\"41\",\"42\",\"43\",\"44\",\"45\",\"46\",\"47\",\"48\",\"49\",\"50\",\"51\",\"52\",\"53\"]},\"title\":{\"text\":\"Week on Week Change\"},\"yaxis\":{\"title\":{\"text\":\"Sales\"}}},                        {\"responsive\": true}                    ).then(function(){\n",
       "                            \n",
       "var gd = document.getElementById('a15d159c-2f80-4b45-8763-ef5567c9e692');\n",
       "var x = new MutationObserver(function (mutations, observer) {{\n",
       "        var display = window.getComputedStyle(gd).display;\n",
       "        if (!display || display === 'none') {{\n",
       "            console.log([gd, 'removed!']);\n",
       "            Plotly.purge(gd);\n",
       "            observer.disconnect();\n",
       "        }}\n",
       "}});\n",
       "\n",
       "// Listen for the removal of the full notebook cells\n",
       "var notebookContainer = gd.closest('#notebook-container');\n",
       "if (notebookContainer) {{\n",
       "    x.observe(notebookContainer, {childList: true});\n",
       "}}\n",
       "\n",
       "// Listen for the clearing of the current output cell\n",
       "var outputEl = gd.closest('.output');\n",
       "if (outputEl) {{\n",
       "    x.observe(outputEl, {childList: true});\n",
       "}}\n",
       "\n",
       "                        })                };                });            </script>        </div>"
      ]
     },
     "metadata": {},
     "output_type": "display_data"
    }
   ],
   "source": [
    "sales = wow1['WoW_change']\n",
    "months = wow1['week']\n",
    "\n",
    "# Initialize the figure\n",
    "fig = go.Figure()\n",
    "\n",
    "# Loop through the data and plot segments with different colors\n",
    "for i in range(1, len(sales)):\n",
    "    color = 'green' if sales[i] > sales[i - 1] else 'red'\n",
    "    \n",
    "    # Plot each line segment between consecutive months\n",
    "    fig.add_trace(go.Scatter(\n",
    "        x=[months[i - 1], months[i]],\n",
    "        y=[sales[i - 1], sales[i]],\n",
    "        mode='lines',\n",
    "        line=dict(color=color, width=4),\n",
    "        showlegend=False\n",
    "    ))\n",
    "\n",
    "# Customize layout\n",
    "fig.update_layout(\n",
    "    title=\"Week on Week Change\",\n",
    "    xaxis_title=\"Month\",\n",
    "    yaxis_title=\"Sales\",\n",
    "    xaxis=dict(tickmode='array', tickvals=months),\n",
    "    template='plotly_white'\n",
    ")\n",
    "\n",
    "# Show the plot\n",
    "fig.show()"
   ]
  },
  {
   "cell_type": "code",
   "execution_count": null,
   "id": "1d439505-c3aa-4338-b68b-3c417e24c219",
   "metadata": {},
   "outputs": [],
   "source": []
  }
 ],
 "metadata": {
  "kernelspec": {
   "display_name": "Python 3 (ipykernel)",
   "language": "python",
   "name": "python3"
  },
  "language_info": {
   "codemirror_mode": {
    "name": "ipython",
    "version": 3
   },
   "file_extension": ".py",
   "mimetype": "text/x-python",
   "name": "python",
   "nbconvert_exporter": "python",
   "pygments_lexer": "ipython3",
   "version": "3.12.2"
  }
 },
 "nbformat": 4,
 "nbformat_minor": 5
}
