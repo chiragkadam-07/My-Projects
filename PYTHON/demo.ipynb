{
 "cells": [
  {
   "cell_type": "markdown",
   "id": "0cecdb52-6563-47bc-aedb-c034df402768",
   "metadata": {},
   "source": [
    "![example image](images/scatter_plot1.png)"
   ]
  },
  {
   "cell_type": "markdown",
   "id": "86e68a7e-137d-4824-ac79-4152b05f27ed",
   "metadata": {},
   "source": [
    "![example image](PYTHON/images/pie_chart1.png)"
   ]
  }
 ],
 "metadata": {
  "kernelspec": {
   "display_name": "Python 3 (ipykernel)",
   "language": "python",
   "name": "python3"
  },
  "language_info": {
   "codemirror_mode": {
    "name": "ipython",
    "version": 3
   },
   "file_extension": ".py",
   "mimetype": "text/x-python",
   "name": "python",
   "nbconvert_exporter": "python",
   "pygments_lexer": "ipython3",
   "version": "3.12.2"
  }
 },
 "nbformat": 4,
 "nbformat_minor": 5
}
